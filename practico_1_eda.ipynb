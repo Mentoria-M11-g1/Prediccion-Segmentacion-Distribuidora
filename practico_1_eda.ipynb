{
  "cells": [
    {
      "cell_type": "markdown",
      "id": "480609e1",
      "metadata": {
        "id": "480609e1"
      },
      "source": [
        "### Potencia las Ventas con IA: Clustering, Predicción, sistemas de recomendaciones y AI generativa para construir un asistente de venta de consumo mayorista."
      ]
    },
    {
      "cell_type": "markdown",
      "id": "8bdbb3d7",
      "metadata": {
        "id": "8bdbb3d7"
      },
      "source": [
        "<p align=\"center\">Diplomatura en Ciencia de Datos, Aprendizaje Automático y sus Aplicaciones.</p>\n",
        "<p align=\"center\">Facultad de Matemática, Astronomía, Física y Computación (UNC).</p>\n",
        "\n",
        "\n",
        "#### Integrantes\n",
        "\n",
        "- María Guadalupe Serra\n",
        "\n",
        "- Dámaso José Solinas\n",
        "\n",
        "- María Emilia Briggiler\n",
        "\n",
        "- Iván Gabriel Bainotti\n",
        "\n",
        "\n",
        "---"
      ]
    },
    {
      "cell_type": "markdown",
      "id": "41bb00ea",
      "metadata": {
        "id": "41bb00ea"
      },
      "source": [
        "Este proyecto se basa en un conjunto de datos transaccionales que registra ventas de productos alimenticios en el canal mayorista, realizadas a distintos puntos de venta (PDV) que operan como clientes del sistema. El propósito es aplicar técnicas de ciencia de datos para identificar patrones comerciales, optimizar decisiones estratégicas y generar valor a partir del análisis del comportamiento de compra.\n",
        "\n",
        "### Práctico 1 – Análisis y Visualización de Datos\n",
        "\n",
        "**🎯 Objetivos**\n",
        "1. Explorar y comprender el conjunto de datos.\n",
        "\n",
        "2. Analizar variables clave para el análisis comercial como: ventas, fechas, productos, puntos de venta,\n",
        "clientes.\n",
        "\n",
        "3. Visualizar tendencias, estacionalidades, patrones de comportamiento y posibles anomalías."
      ]
    },
    {
      "cell_type": "markdown",
      "id": "df59be0d",
      "metadata": {
        "id": "df59be0d"
      },
      "source": [
        "### 📚 Índice\n",
        "\n",
        "1. [🔍 Exploración inicial del conjunto de datos](#-1-exploración-inicial-del-conjunto-de-datos)    \n",
        "    - [🔧 1.1 Revisión de datos faltantes](#11-revisión-de-datos-faltantes)  \n",
        "    - [📊 1.2 Exploración de variables relevantes](#-12-exploración-de-variables-relevantes)  \n",
        "        - [🧑‍💼 Clientes](#clientes)  \n",
        "        - [📦 Productos](#productos)  \n",
        "        - [🧾 Facturas](#facturas)  \n",
        "        - [📅 Fechas](#fechas)  \n",
        "\n",
        "2. [📈 Análisis y visualización de variables clave](#2-análisis-y-visualización-de-variables-clave)  \n",
        "    - [🏆 2.1 Productos y clientes destacados](#21-productos-y-clientes-destacados)  \n",
        "    - [💲 2.2 Evolución temporal de ventas y precios](#22-evolución-temporal-de-ventas-y-precios)  \n",
        "    - [📆 2.3 Tendencias y estacionalidad](#23-tendencias-y-estacionalidad)  \n",
        "\n",
        "3. [🕒 Análisis de granularidad temporal](#3-análisis-de-granularidad-temporal)  \n",
        "\n",
        "4. [💡 Observaciones para la limpieza y curación de datos](#4-hallazgos-y-observaciones-relevantes)\n"
      ]
    },
    {
      "cell_type": "markdown",
      "id": "7651f028",
      "metadata": {
        "id": "7651f028"
      },
      "source": [
        "#### Librerías"
      ]
    },
    {
      "cell_type": "code",
      "execution_count": 1,
      "id": "02935e9f",
      "metadata": {
        "id": "02935e9f"
      },
      "outputs": [],
      "source": [
        "import re\n",
        "import numpy as np\n",
        "import pandas as pd\n",
        "import missingno as msno\n",
        "import seaborn as sns\n",
        "import plotly.express as px\n",
        "import matplotlib.pyplot as plt\n",
        "from scipy.stats import pearsonr\n",
        "import plotly.graph_objects as go\n",
        "from plotly.subplots import make_subplots"
      ]
    },
    {
      "cell_type": "code",
      "execution_count": 2,
      "id": "e65b46d2",
      "metadata": {
        "id": "e65b46d2"
      },
      "outputs": [],
      "source": [
        "sns.set_theme()"
      ]
    },
    {
      "cell_type": "markdown",
      "id": "809e5759",
      "metadata": {
        "id": "809e5759"
      },
      "source": [
        "### 🔍 1. Exploración inicial del conjunto de datos"
      ]
    },
    {
      "cell_type": "markdown",
      "id": "e942d9b3",
      "metadata": {
        "id": "e942d9b3"
      },
      "source": [
        "🎯  **Objetivos**:\n",
        "- Explorar la estructura del dataset, columnas, tipos, valores faltantes.\n",
        "\n",
        "- Identificar variables relevantes al análisis comercial."
      ]
    },
    {
      "cell_type": "code",
      "execution_count": 3,
      "id": "49e5f1b4",
      "metadata": {
        "colab": {
          "base_uri": "https://localhost:8080/"
        },
        "id": "49e5f1b4",
        "outputId": "f7903204-90e7-4c3a-9045-f42b3ee8d41a"
      },
      "outputs": [
        {
          "name": "stdout",
          "output_type": "stream",
          "text": [
            "<class 'pandas.core.frame.DataFrame'>\n",
            "RangeIndex: 310217 entries, 0 to 310216\n",
            "Data columns (total 52 columns):\n",
            " #   Column                Non-Null Count   Dtype         \n",
            "---  ------                --------------   -----         \n",
            " 0   factu_codi            310217 non-null  object        \n",
            " 1   factu_nume            310217 non-null  int64         \n",
            " 2   sucur                 310217 non-null  int64         \n",
            " 3   fecha                 310217 non-null  datetime64[ns]\n",
            " 4   cliente               310217 non-null  int64         \n",
            " 5   total                 310217 non-null  float64       \n",
            " 6   iva1                  310217 non-null  float64       \n",
            " 7   lista_precios         310217 non-null  int64         \n",
            " 8   condi_venta           310217 non-null  object        \n",
            " 9   usua                  310066 non-null  float64       \n",
            " 10  pedi_codi             310066 non-null  object        \n",
            " 11  pedi_nume             310066 non-null  float64       \n",
            " 12  pedi_sucur            310066 non-null  float64       \n",
            " 13  factu_letra           310066 non-null  object        \n",
            " 14  impor_gravado         310066 non-null  float64       \n",
            " 15  iva_cate              310066 non-null  object        \n",
            " 16  entre_lugar           310066 non-null  float64       \n",
            " 17  entre_fecha           310066 non-null  datetime64[ns]\n",
            " 18  iva_percep            310066 non-null  float64       \n",
            " 19  fecha_regis           310066 non-null  datetime64[ns]\n",
            " 20  conver_alter          310066 non-null  float64       \n",
            " 21  impre_marca           310066 non-null  float64       \n",
            " 22  fecha_alta            310066 non-null  datetime64[ns]\n",
            " 23  host_name_alta        310066 non-null  object        \n",
            " 24  nombre                310217 non-null  object        \n",
            " 25  cuit                  310217 non-null  object        \n",
            " 26  orden_compra_nume     277375 non-null  float64       \n",
            " 27  vende                 310066 non-null  float64       \n",
            " 28  tipo_negocio          310066 non-null  float64       \n",
            " 29  estado_talon          310066 non-null  object        \n",
            " 30  origen_pedido         295596 non-null  object        \n",
            " 31  linea_nume            310217 non-null  int64         \n",
            " 32  depo                  256630 non-null  float64       \n",
            " 33  produc                310217 non-null  object        \n",
            " 34  canti                 310217 non-null  int64         \n",
            " 35  precio_uni            310217 non-null  float64       \n",
            " 36  boni_porcen           310217 non-null  float64       \n",
            " 37  boni_impor            310217 non-null  float64       \n",
            " 38  iva1_impor            310217 non-null  float64       \n",
            " 39  descrip               310217 non-null  object        \n",
            " 40  iva_percep_porcen     310217 non-null  int64         \n",
            " 41  iva_percep_impor      310217 non-null  float64       \n",
            " 42  impor_grava           310217 non-null  float64       \n",
            " 43  uni_medi              310217 non-null  object        \n",
            " 44  conver                310217 non-null  int64         \n",
            " 45  canti_venta           310217 non-null  int64         \n",
            " 46  boni_impor_ori        310217 non-null  float64       \n",
            " 47  iva_percep_impor_ori  310217 non-null  float64       \n",
            " 48  boni_porcen_precio    310217 non-null  int64         \n",
            " 49  boni_impor_precio     310217 non-null  int64         \n",
            " 50  precio_uni_neto       310217 non-null  float64       \n",
            " 51  precio_total          310217 non-null  float64       \n",
            "dtypes: datetime64[ns](4), float64(24), int64(11), object(13)\n",
            "memory usage: 123.1+ MB\n"
          ]
        }
      ],
      "source": [
        "url = \"https://raw.githubusercontent.com/Mentoria-M11-g1/practico_1_eda/main/data/sales_data.parquet\"\n",
        "df_data = pd.read_parquet(url)\n",
        "df_data.info()"
      ]
    },
    {
      "cell_type": "code",
      "execution_count": 4,
      "id": "10856d8c",
      "metadata": {
        "colab": {
          "base_uri": "https://localhost:8080/"
        },
        "id": "10856d8c",
        "outputId": "9168963f-28a4-4ded-b3e0-0abc16adb87c"
      },
      "outputs": [
        {
          "data": {
            "text/plain": [
              "(310217, 52)"
            ]
          },
          "execution_count": 4,
          "metadata": {},
          "output_type": "execute_result"
        }
      ],
      "source": [
        "df_data.shape"
      ]
    },
    {
      "cell_type": "markdown",
      "id": "bb394888",
      "metadata": {
        "id": "bb394888"
      },
      "source": [
        "- El dataset tiene 310217 filas y 52 columnas."
      ]
    },
    {
      "cell_type": "code",
      "execution_count": 5,
      "id": "ce008ec8",
      "metadata": {
        "colab": {
          "base_uri": "https://localhost:8080/",
          "height": 342
        },
        "id": "ce008ec8",
        "outputId": "233b0314-2be5-46e3-df30-fa474615f209"
      },
      "outputs": [
        {
          "data": {
            "text/html": [
              "<div>\n",
              "<style scoped>\n",
              "    .dataframe tbody tr th:only-of-type {\n",
              "        vertical-align: middle;\n",
              "    }\n",
              "\n",
              "    .dataframe tbody tr th {\n",
              "        vertical-align: top;\n",
              "    }\n",
              "\n",
              "    .dataframe thead th {\n",
              "        text-align: right;\n",
              "    }\n",
              "</style>\n",
              "<table border=\"1\" class=\"dataframe\">\n",
              "  <thead>\n",
              "    <tr style=\"text-align: right;\">\n",
              "      <th></th>\n",
              "      <th>factu_codi</th>\n",
              "      <th>factu_nume</th>\n",
              "      <th>sucur</th>\n",
              "      <th>fecha</th>\n",
              "      <th>cliente</th>\n",
              "      <th>total</th>\n",
              "      <th>iva1</th>\n",
              "      <th>lista_precios</th>\n",
              "      <th>condi_venta</th>\n",
              "      <th>usua</th>\n",
              "      <th>...</th>\n",
              "      <th>impor_grava</th>\n",
              "      <th>uni_medi</th>\n",
              "      <th>conver</th>\n",
              "      <th>canti_venta</th>\n",
              "      <th>boni_impor_ori</th>\n",
              "      <th>iva_percep_impor_ori</th>\n",
              "      <th>boni_porcen_precio</th>\n",
              "      <th>boni_impor_precio</th>\n",
              "      <th>precio_uni_neto</th>\n",
              "      <th>precio_total</th>\n",
              "    </tr>\n",
              "  </thead>\n",
              "  <tbody>\n",
              "    <tr>\n",
              "      <th>0</th>\n",
              "      <td>fca9</td>\n",
              "      <td>16092</td>\n",
              "      <td>9</td>\n",
              "      <td>2022-01-17</td>\n",
              "      <td>4627</td>\n",
              "      <td>2611.29</td>\n",
              "      <td>453.2</td>\n",
              "      <td>2</td>\n",
              "      <td>00</td>\n",
              "      <td>24.0</td>\n",
              "      <td>...</td>\n",
              "      <td>1.433000e+09</td>\n",
              "      <td>un</td>\n",
              "      <td>1000000</td>\n",
              "      <td>2000000</td>\n",
              "      <td>0.0</td>\n",
              "      <td>0.0</td>\n",
              "      <td>0</td>\n",
              "      <td>0</td>\n",
              "      <td>716500000.0</td>\n",
              "      <td>1.733930e+09</td>\n",
              "    </tr>\n",
              "    <tr>\n",
              "      <th>1</th>\n",
              "      <td>fca9</td>\n",
              "      <td>16092</td>\n",
              "      <td>9</td>\n",
              "      <td>2022-01-17</td>\n",
              "      <td>4627</td>\n",
              "      <td>2611.29</td>\n",
              "      <td>453.2</td>\n",
              "      <td>2</td>\n",
              "      <td>00</td>\n",
              "      <td>24.0</td>\n",
              "      <td>...</td>\n",
              "      <td>1.433000e+09</td>\n",
              "      <td>un</td>\n",
              "      <td>1000000</td>\n",
              "      <td>100000000</td>\n",
              "      <td>0.0</td>\n",
              "      <td>0.0</td>\n",
              "      <td>0</td>\n",
              "      <td>0</td>\n",
              "      <td>14330000.0</td>\n",
              "      <td>1.733930e+09</td>\n",
              "    </tr>\n",
              "    <tr>\n",
              "      <th>2</th>\n",
              "      <td>fca9</td>\n",
              "      <td>16092</td>\n",
              "      <td>9</td>\n",
              "      <td>2022-01-17</td>\n",
              "      <td>4627</td>\n",
              "      <td>2611.29</td>\n",
              "      <td>453.2</td>\n",
              "      <td>2</td>\n",
              "      <td>00</td>\n",
              "      <td>24.0</td>\n",
              "      <td>...</td>\n",
              "      <td>3.297400e+08</td>\n",
              "      <td>un</td>\n",
              "      <td>1000000</td>\n",
              "      <td>6000000</td>\n",
              "      <td>0.0</td>\n",
              "      <td>0.0</td>\n",
              "      <td>8000000</td>\n",
              "      <td>28672800</td>\n",
              "      <td>54956100.0</td>\n",
              "      <td>3.989900e+08</td>\n",
              "    </tr>\n",
              "    <tr>\n",
              "      <th>3</th>\n",
              "      <td>fca9</td>\n",
              "      <td>16092</td>\n",
              "      <td>9</td>\n",
              "      <td>2022-01-17</td>\n",
              "      <td>4627</td>\n",
              "      <td>2611.29</td>\n",
              "      <td>453.2</td>\n",
              "      <td>2</td>\n",
              "      <td>00</td>\n",
              "      <td>24.0</td>\n",
              "      <td>...</td>\n",
              "      <td>1.857800e+08</td>\n",
              "      <td>un</td>\n",
              "      <td>1000000</td>\n",
              "      <td>6000000</td>\n",
              "      <td>0.0</td>\n",
              "      <td>0.0</td>\n",
              "      <td>9999900</td>\n",
              "      <td>20641800</td>\n",
              "      <td>30963000.0</td>\n",
              "      <td>2.247900e+08</td>\n",
              "    </tr>\n",
              "    <tr>\n",
              "      <th>4</th>\n",
              "      <td>fca9</td>\n",
              "      <td>16092</td>\n",
              "      <td>9</td>\n",
              "      <td>2022-01-17</td>\n",
              "      <td>4627</td>\n",
              "      <td>2611.29</td>\n",
              "      <td>453.2</td>\n",
              "      <td>2</td>\n",
              "      <td>00</td>\n",
              "      <td>24.0</td>\n",
              "      <td>...</td>\n",
              "      <td>2.763100e+08</td>\n",
              "      <td>di</td>\n",
              "      <td>3000000</td>\n",
              "      <td>3000000</td>\n",
              "      <td>0.0</td>\n",
              "      <td>0.0</td>\n",
              "      <td>10000000</td>\n",
              "      <td>30701400</td>\n",
              "      <td>92103800.0</td>\n",
              "      <td>3.343400e+08</td>\n",
              "    </tr>\n",
              "  </tbody>\n",
              "</table>\n",
              "<p>5 rows × 52 columns</p>\n",
              "</div>"
            ],
            "text/plain": [
              "  factu_codi  factu_nume  sucur      fecha  cliente    total   iva1  \\\n",
              "0       fca9       16092      9 2022-01-17     4627  2611.29  453.2   \n",
              "1       fca9       16092      9 2022-01-17     4627  2611.29  453.2   \n",
              "2       fca9       16092      9 2022-01-17     4627  2611.29  453.2   \n",
              "3       fca9       16092      9 2022-01-17     4627  2611.29  453.2   \n",
              "4       fca9       16092      9 2022-01-17     4627  2611.29  453.2   \n",
              "\n",
              "   lista_precios condi_venta  usua  ...   impor_grava  uni_medi   conver  \\\n",
              "0              2          00  24.0  ...  1.433000e+09        un  1000000   \n",
              "1              2          00  24.0  ...  1.433000e+09        un  1000000   \n",
              "2              2          00  24.0  ...  3.297400e+08        un  1000000   \n",
              "3              2          00  24.0  ...  1.857800e+08        un  1000000   \n",
              "4              2          00  24.0  ...  2.763100e+08        di  3000000   \n",
              "\n",
              "  canti_venta  boni_impor_ori iva_percep_impor_ori  boni_porcen_precio  \\\n",
              "0     2000000             0.0                  0.0                   0   \n",
              "1   100000000             0.0                  0.0                   0   \n",
              "2     6000000             0.0                  0.0             8000000   \n",
              "3     6000000             0.0                  0.0             9999900   \n",
              "4     3000000             0.0                  0.0            10000000   \n",
              "\n",
              "  boni_impor_precio  precio_uni_neto  precio_total  \n",
              "0                 0      716500000.0  1.733930e+09  \n",
              "1                 0       14330000.0  1.733930e+09  \n",
              "2          28672800       54956100.0  3.989900e+08  \n",
              "3          20641800       30963000.0  2.247900e+08  \n",
              "4          30701400       92103800.0  3.343400e+08  \n",
              "\n",
              "[5 rows x 52 columns]"
            ]
          },
          "execution_count": 5,
          "metadata": {},
          "output_type": "execute_result"
        }
      ],
      "source": [
        "df_data.head()"
      ]
    },
    {
      "cell_type": "markdown",
      "id": "e04946a4",
      "metadata": {
        "id": "e04946a4"
      },
      "source": [
        "- Cada registro de la base de datos representa un **ítem** de producto dentro de una factura emitida a un cliente.\n",
        "Los cuales tienen la siguiente información relevante para el análisis comercial."
      ]
    },
    {
      "cell_type": "markdown",
      "id": "440625ce",
      "metadata": {
        "id": "440625ce"
      },
      "source": [
        "| Categoría               | Columna           | Tipo       | Descripción                                                  | Observaciones                                                                 |\n",
        "|------------------------|-------------------|------------|--------------------------------------------------------------|--------------------------------------------------------------------------------|\n",
        "| Facturación            | factu_codi        | categórica | Código de la factura                                         | 9 tipos de códigos distintos                                                   |\n",
        "| Facturación            | factu_nume        | numérica   | Número de facturación                                        | Identificación única de la factura                                             |\n",
        "| Facturación            | sucur             | numérica   | Sucursal de la venta                                         | Codifica las sucursales en 1, 9 y 12                                           |\n",
        "| Facturación            | fecha             | fecha      | Fecha de realización de la venta                             |                                                                                 |\n",
        "| Facturación            | canti             | numérica   | Cantidad de unidades individuales vendidas                   | `canti = canti_venta * conver`                                                 |\n",
        "| Facturación            | canti_venta       | numérica   | Cantidad de productos vendidos                               | Se cuenta como 1 producto si trae varias unidades                              |\n",
        "| Facturación            | descrip           | texto      | Descripción del producto                                     | Texto libre, requiere limpieza/estandarización                                |\n",
        "| Facturación            | total             | numérica   | Importe total de la factura                                  | Repetido por ítem, escala desconocida                              |\n",
        "| Facturación            | iva1              | numérica   | IVA sobre `impor_gravado`                                    | Repetido por ítem, escala desconocida                              |\n",
        "| Facturación            | impor_gravado     | numérica   | Total productos sin IVA (por factura)                        | `impor_gravado + iva1 = total`                                                |\n",
        "| Facturación (por ítem) | precio_total      | numérica   | Precio total de la fila (con IVA)                            | `impor_grava + iva1_impor + iva_percep_impor`                                 |\n",
        "| Facturación (por ítem) | precio_uni        | numérica   | Precio por unidad                                            | Precio por producto                                                            |\n",
        "| Facturación (por ítem) | precio_uni_neto   | numérica   | Precio unitario sin IVA                                      | Precio por producto                                                            |\n",
        "| Facturación (por ítem) | impor_grava       | numérica   | Total productos sin IVA (por ítem)                           | `canti_venta * precio_uni_neto`                                               |\n",
        "| Facturación (por ítem) | iva1_impor        | numérica   | IVA sobre `impor_grava`                                      | `impor_grava + iva1_impor = precio_total`                                     |\n",
        "| Cliente                | cliente           | numérica   | Código de cliente                                            | Identificación única de cliente                                               |\n",
        "| Cliente                | nombre            | texto      | Nombre del cliente                                           |                                                                                 |\n",
        "| Cliente                | cuit              | numérica   | CUIT del cliente                                             |                                                                                 |\n",
        "| Fechas                 | entre_fecha       | fecha      | Fecha de entrega                                             |                                                                                 |\n",
        "| Fechas                 | fecha_alta        | fecha      | Fecha de alta                                                |                                                                                 |\n",
        "| Fechas                 | fecha_regis       | fecha      | Fecha de registro                                            | Habitualmente un día antes o igual a la fecha de entrega                      |\n",
        "| Producto               | lista_precios     | numérica   | Catálogo de precios                                          | Define los precios unitarios                                                  |\n",
        "| Producto               | produc            | texto      | Código numérico del producto                                 |                                                                                 |\n",
        "| Producto               | uni_medi          | texto      | Unidad de medida de la venta                                 | UN: unidad, DI: caja/bolsa, BU: paquete/bulto                                                 |\n"
      ]
    },
    {
      "cell_type": "markdown",
      "id": "be7c2f14",
      "metadata": {
        "id": "be7c2f14"
      },
      "source": [
        "🔍 A partir de la exploración inicial de las columnas, se identificaron algunas que no aportan información relevante para los objetivos del análisis. Muchas de ellas presentan muy poca variabilidad, correspondientes a un único valor, o contienen datos administrativos sin utilidad para el estudio. Por este motivo, no serán consideradas en la análisis principal."
      ]
    },
    {
      "cell_type": "code",
      "execution_count": 6,
      "id": "8522bffb",
      "metadata": {
        "colab": {
          "base_uri": "https://localhost:8080/"
        },
        "id": "8522bffb",
        "outputId": "94c209d5-5b8b-4bc6-f9bf-a955d4e8dc1a"
      },
      "outputs": [
        {
          "data": {
            "text/plain": [
              "(310217, 40)"
            ]
          },
          "execution_count": 6,
          "metadata": {},
          "output_type": "execute_result"
        }
      ],
      "source": [
        "columns_to_drop = [\n",
        "    'factu_codi',       # Código de factura, no relevante\n",
        "    'usua',             # Desconocido, 89% de valores es 34 y 11% es 24\n",
        "    'pedi_codi',        # Código de pedido: pedi, pedim, pedie, no relevante\n",
        "    'factu_letra',      # Letra de la factura, no relevante\n",
        "    'iva_cate',         # categoría del IVA, no relevante\n",
        "    'iva_percep',       # IVA desconocido, 95% de valores son 0.0\n",
        "    'impre_marca',      # Desconocido, 92% de valores es 1, 7% es 2\n",
        "    'conver_alter',     # Conversión alternativa, no relevante\n",
        "    'host_name_alta',   # Parece info relativa al sistema, no relevante\n",
        "    'estado_talon',     # Estado del talonario, no relevante\n",
        "    'origen_pedido',    # codificación del origen del pedido, 89% de valores es a.\n",
        "    'linea_nume'        # Identificador del dispositivo con el que se registro la venta\n",
        "]\n",
        "\n",
        "filtered_df = df_data.drop(columns=columns_to_drop)\n",
        "filtered_df.shape"
      ]
    },
    {
      "cell_type": "markdown",
      "id": "ebaa2d02",
      "metadata": {
        "id": "ebaa2d02"
      },
      "source": [
        "🔍 **Observaciones**\n",
        "\n",
        "- A partir de la observación inicial, se detectó que muchas columnas numéricas, especialmente las relacionadas con precios y cantidades, presentan valores que no se corresponden con rangos posibles, sino que están escalados.\n",
        "\n",
        "- Comparando precios unitarios (relativos a las fechas de venta) utilizando fuentes externas, se comprobó que los valores son consistentes al dividirlos por 1.000.000. Lo mismo aplica a las bonificaciones e importes de IVA, que también deben ser escalados.\n",
        "\n",
        "- Las cantidades de productos también resultaban inverosímiles. Una vez escaladas, junto con el precio total por fila, se verifica que el importe corresponde correctamente con cantidad * precio unitario.\n",
        "\n",
        "- Además, al analizar las descripciones de productos, se identificó que la columna `conver` representa la cantidad de unidades por paquete, y también requiere la misma escala.\n",
        "\n",
        "✅ Por lo tanto, se decidió dividir estas columnas por 1.000.000 para obtener resultados consistentes en el análisis."
      ]
    },
    {
      "cell_type": "code",
      "execution_count": 7,
      "id": "a22a97dc",
      "metadata": {
        "id": "a22a97dc"
      },
      "outputs": [],
      "source": [
        "colums_to_scale = [\n",
        "    'canti', 'precio_uni', 'boni_porcen', 'boni_impor',\n",
        "    'iva1_impor', 'iva_percep_porcen', 'iva_percep_impor', 'impor_grava',\n",
        "    'conver', 'canti_venta', 'boni_impor_ori', 'iva_percep_impor_ori',\n",
        "    'boni_porcen_precio', 'boni_impor_precio', 'precio_uni_neto','precio_total'\n",
        "]\n",
        "\n",
        "filtered_df[colums_to_scale] = filtered_df[colums_to_scale]/ 1_000_000"
      ]
    },
    {
      "cell_type": "markdown",
      "id": "0b16baab",
      "metadata": {
        "id": "0b16baab"
      },
      "source": [
        "#### 🔧 1.1 Revisión de datos faltantes"
      ]
    },
    {
      "cell_type": "code",
      "execution_count": 8,
      "id": "a80d322a",
      "metadata": {
        "colab": {
          "base_uri": "https://localhost:8080/",
          "height": 394
        },
        "id": "a80d322a",
        "outputId": "3aecf3ae-1902-4f7a-8c58-8b6fca9c99ef"
      },
      "outputs": [
        {
          "data": {
            "text/html": [
              "<div>\n",
              "<style scoped>\n",
              "    .dataframe tbody tr th:only-of-type {\n",
              "        vertical-align: middle;\n",
              "    }\n",
              "\n",
              "    .dataframe tbody tr th {\n",
              "        vertical-align: top;\n",
              "    }\n",
              "\n",
              "    .dataframe thead th {\n",
              "        text-align: right;\n",
              "    }\n",
              "</style>\n",
              "<table border=\"1\" class=\"dataframe\">\n",
              "  <thead>\n",
              "    <tr style=\"text-align: right;\">\n",
              "      <th></th>\n",
              "      <th>columna</th>\n",
              "      <th>valores_faltantes</th>\n",
              "      <th>valores_faltantes (%)</th>\n",
              "      <th>tipo</th>\n",
              "    </tr>\n",
              "  </thead>\n",
              "  <tbody>\n",
              "    <tr>\n",
              "      <th>20</th>\n",
              "      <td>depo</td>\n",
              "      <td>53587</td>\n",
              "      <td>17.274037</td>\n",
              "      <td>float64</td>\n",
              "    </tr>\n",
              "    <tr>\n",
              "      <th>17</th>\n",
              "      <td>orden_compra_nume</td>\n",
              "      <td>32842</td>\n",
              "      <td>10.586783</td>\n",
              "      <td>float64</td>\n",
              "    </tr>\n",
              "    <tr>\n",
              "      <th>11</th>\n",
              "      <td>entre_lugar</td>\n",
              "      <td>151</td>\n",
              "      <td>0.048676</td>\n",
              "      <td>float64</td>\n",
              "    </tr>\n",
              "    <tr>\n",
              "      <th>10</th>\n",
              "      <td>impor_gravado</td>\n",
              "      <td>151</td>\n",
              "      <td>0.048676</td>\n",
              "      <td>float64</td>\n",
              "    </tr>\n",
              "    <tr>\n",
              "      <th>9</th>\n",
              "      <td>pedi_sucur</td>\n",
              "      <td>151</td>\n",
              "      <td>0.048676</td>\n",
              "      <td>float64</td>\n",
              "    </tr>\n",
              "    <tr>\n",
              "      <th>8</th>\n",
              "      <td>pedi_nume</td>\n",
              "      <td>151</td>\n",
              "      <td>0.048676</td>\n",
              "      <td>float64</td>\n",
              "    </tr>\n",
              "    <tr>\n",
              "      <th>13</th>\n",
              "      <td>fecha_regis</td>\n",
              "      <td>151</td>\n",
              "      <td>0.048676</td>\n",
              "      <td>datetime64[ns]</td>\n",
              "    </tr>\n",
              "    <tr>\n",
              "      <th>12</th>\n",
              "      <td>entre_fecha</td>\n",
              "      <td>151</td>\n",
              "      <td>0.048676</td>\n",
              "      <td>datetime64[ns]</td>\n",
              "    </tr>\n",
              "    <tr>\n",
              "      <th>19</th>\n",
              "      <td>tipo_negocio</td>\n",
              "      <td>151</td>\n",
              "      <td>0.048676</td>\n",
              "      <td>float64</td>\n",
              "    </tr>\n",
              "    <tr>\n",
              "      <th>14</th>\n",
              "      <td>fecha_alta</td>\n",
              "      <td>151</td>\n",
              "      <td>0.048676</td>\n",
              "      <td>datetime64[ns]</td>\n",
              "    </tr>\n",
              "    <tr>\n",
              "      <th>18</th>\n",
              "      <td>vende</td>\n",
              "      <td>151</td>\n",
              "      <td>0.048676</td>\n",
              "      <td>float64</td>\n",
              "    </tr>\n",
              "  </tbody>\n",
              "</table>\n",
              "</div>"
            ],
            "text/plain": [
              "              columna  valores_faltantes  valores_faltantes (%)  \\\n",
              "20               depo              53587              17.274037   \n",
              "17  orden_compra_nume              32842              10.586783   \n",
              "11        entre_lugar                151               0.048676   \n",
              "10      impor_gravado                151               0.048676   \n",
              "9          pedi_sucur                151               0.048676   \n",
              "8           pedi_nume                151               0.048676   \n",
              "13        fecha_regis                151               0.048676   \n",
              "12        entre_fecha                151               0.048676   \n",
              "19       tipo_negocio                151               0.048676   \n",
              "14         fecha_alta                151               0.048676   \n",
              "18              vende                151               0.048676   \n",
              "\n",
              "              tipo  \n",
              "20         float64  \n",
              "17         float64  \n",
              "11         float64  \n",
              "10         float64  \n",
              "9          float64  \n",
              "8          float64  \n",
              "13  datetime64[ns]  \n",
              "12  datetime64[ns]  \n",
              "19         float64  \n",
              "14  datetime64[ns]  \n",
              "18         float64  "
            ]
          },
          "execution_count": 8,
          "metadata": {},
          "output_type": "execute_result"
        }
      ],
      "source": [
        "nulls = pd.DataFrame({\n",
        "    'valores_faltantes': filtered_df.isnull().sum(),\n",
        "    'valores_faltantes (%)': filtered_df.isnull().mean() * 100,\n",
        "    'tipo': filtered_df.dtypes\n",
        "}).reset_index().rename(columns={'index': 'columna'}).sort_values('valores_faltantes (%)', ascending=False)\n",
        "\n",
        "nulls[nulls['valores_faltantes'] > 0]"
      ]
    },
    {
      "cell_type": "code",
      "execution_count": 9,
      "id": "fbddfafd",
      "metadata": {
        "colab": {
          "base_uri": "https://localhost:8080/",
          "height": 726
        },
        "id": "fbddfafd",
        "outputId": "4f2c0e6a-bdbe-492e-a3f4-b919e0b4b556"
      },
      "outputs": [
        {
          "data": {
            "text/plain": [
              "<Axes: >"
            ]
          },
          "execution_count": 9,
          "metadata": {},
          "output_type": "execute_result"
        },
        {
          "data": {
            "image/png": "[encoded data removed]",
            "text/plain": [
              "<Figure size 1200x600 with 2 Axes>"
            ]
          },
          "metadata": {},
          "output_type": "display_data"
        }
      ],
      "source": [
        "nulls_columns = nulls[nulls['valores_faltantes'] > 0]['columna'].tolist()\n",
        "msno.matrix(filtered_df[nulls_columns], figsize=(12, 6), color=(65/255, 105/255, 225/255))"
      ]
    },
    {
      "cell_type": "markdown",
      "id": "b126e7e7",
      "metadata": {
        "id": "b126e7e7"
      },
      "source": [
        "🔍 **Observaciones**\n",
        "\n",
        "- `depo` y `orden_compra_nume` son las columnas con mayor cantidad de valores faltantes, con 17.27% y 10.59% respectivamente.\n",
        "\n",
        "- No se observa relación directa de los valores faltantes entre las columnas.\n",
        "\n",
        "- Para imputar estas columnas se podría analizar su relación con otras, por ejemplo:\n",
        "\n",
        "    - `orden_compra_nume`: parece estar relacionada con `factu_nume`.\n",
        "\n",
        "    - `depo`: parece tener una clara relación con las codificaciones de los productos."
      ]
    },
    {
      "cell_type": "markdown",
      "id": "7a3fb626",
      "metadata": {
        "id": "7a3fb626"
      },
      "source": [
        "#### 📊 1.2 Exploración de variables relevantes"
      ]
    },
    {
      "cell_type": "markdown",
      "id": "19ca2037",
      "metadata": {
        "id": "19ca2037"
      },
      "source": [
        "🎯  **Objetivos**:\n",
        "- Analizar las principales varibles del dataset —clientes, productos, facturas y fechas.\n",
        "\n",
        "- Análisis descriptivo de las variables —clientes y facturas totales, productos distintos, etc.\n",
        "\n",
        "- Analizar columnas redundantes.\n"
      ]
    },
    {
      "cell_type": "code",
      "execution_count": 10,
      "id": "9f07324b",
      "metadata": {
        "id": "9f07324b"
      },
      "outputs": [],
      "source": [
        "# Agrupamos las columnas en grupos para facilitar el análisis\n",
        "column_groups = {\n",
        "    \"facturacion_general\": [\n",
        "        \"factu_nume\", \"sucur\", \"fecha\", \"total\",\n",
        "        \"iva1\", \"impor_gravado\", \"cliente\"\n",
        "    ],\n",
        "    \"facturacion_por_item\": [\n",
        "        \"factu_nume\", \"fecha\", \"produc\", \"descrip\", \"precio_uni\",\n",
        "        \"precio_uni_neto\", \"boni_impor_precio\",\n",
        "        \"canti_venta\", \"conver\", \"canti\", \"impor_grava\",\n",
        "        \"iva1_impor\", \"iva_percep_impor\", \"precio_total\", \"total\", \"iva1\",\n",
        "        \"uni_medi\"\n",
        "    ],\n",
        "    \"bonificaciones\": [\n",
        "        \"boni_porcen\", \"boni_impor\", \"boni_impor_ori\",\n",
        "        \"boni_porcen_precio\", \"boni_impor_precio\"\n",
        "    ],\n",
        "    \"iva_percepciones\": [\n",
        "        \"iva_percep_porcen\", \"iva_percep_impor\",\n",
        "        \"iva_percep_impor_ori\"\n",
        "    ],\n",
        "    \"cliente\": [\n",
        "        \"cliente\", \"nombre\", \"cuit\"\n",
        "    ],\n",
        "    \"fechas\": [\n",
        "        \"entre_fecha\", \"fecha_regis\", \"fecha\", \"fecha_alta\"\n",
        "    ],\n",
        "    \"producto\": [\n",
        "        \"produc\", \"descrip\", \"depo\",# \"lista_precios\"\n",
        "    ],\n",
        "    \"pedido\": [\n",
        "        \"pedi_nume\", \"pedi_sucur\", \"orden_compra_nume\", \"condi_venta\"\n",
        "    ],\n",
        "    \"logistica_venta\": [\n",
        "        \"entre_lugar\", \"vende\", \"tipo_negocio\", \"depo\"\n",
        "    ]\n",
        "}"
      ]
    },
    {
      "cell_type": "markdown",
      "id": "a04cbcaf",
      "metadata": {
        "id": "a04cbcaf"
      },
      "source": [
        "#### 👤 Clientes"
      ]
    },
    {
      "cell_type": "code",
      "execution_count": 11,
      "id": "2e4dfffc",
      "metadata": {
        "colab": {
          "base_uri": "https://localhost:8080/",
          "height": 423
        },
        "id": "2e4dfffc",
        "outputId": "30af0cef-0c80-4293-fb1a-1ddca793d434"
      },
      "outputs": [
        {
          "data": {
            "text/html": [
              "<div>\n",
              "<style scoped>\n",
              "    .dataframe tbody tr th:only-of-type {\n",
              "        vertical-align: middle;\n",
              "    }\n",
              "\n",
              "    .dataframe tbody tr th {\n",
              "        vertical-align: top;\n",
              "    }\n",
              "\n",
              "    .dataframe thead th {\n",
              "        text-align: right;\n",
              "    }\n",
              "</style>\n",
              "<table border=\"1\" class=\"dataframe\">\n",
              "  <thead>\n",
              "    <tr style=\"text-align: right;\">\n",
              "      <th></th>\n",
              "      <th>cliente</th>\n",
              "      <th>nombre</th>\n",
              "      <th>cuit</th>\n",
              "    </tr>\n",
              "  </thead>\n",
              "  <tbody>\n",
              "    <tr>\n",
              "      <th>0</th>\n",
              "      <td>4627</td>\n",
              "      <td>Bautista Benjamin Godoy</td>\n",
              "      <td>27-37333495-4</td>\n",
              "    </tr>\n",
              "    <tr>\n",
              "      <th>1</th>\n",
              "      <td>7521</td>\n",
              "      <td>Thiago Benjamin Valentino Peralta Molina</td>\n",
              "      <td>10-28728481-1</td>\n",
              "    </tr>\n",
              "    <tr>\n",
              "      <th>2</th>\n",
              "      <td>7925</td>\n",
              "      <td>Lorenzo Lopez</td>\n",
              "      <td>11-32678918-9</td>\n",
              "    </tr>\n",
              "    <tr>\n",
              "      <th>3</th>\n",
              "      <td>3187</td>\n",
              "      <td>Valentino Olivia Diaz</td>\n",
              "      <td>16-28534879-4</td>\n",
              "    </tr>\n",
              "    <tr>\n",
              "      <th>4</th>\n",
              "      <td>5984</td>\n",
              "      <td>Sol Delfina Ruiz Martinez</td>\n",
              "      <td>20-39935313-4</td>\n",
              "    </tr>\n",
              "    <tr>\n",
              "      <th>...</th>\n",
              "      <td>...</td>\n",
              "      <td>...</td>\n",
              "      <td>...</td>\n",
              "    </tr>\n",
              "    <tr>\n",
              "      <th>583</th>\n",
              "      <td>2939</td>\n",
              "      <td>Malena Olivera</td>\n",
              "      <td>10-38154140-3</td>\n",
              "    </tr>\n",
              "    <tr>\n",
              "      <th>584</th>\n",
              "      <td>4608</td>\n",
              "      <td>Valentino Acosta</td>\n",
              "      <td>29-36610828-3</td>\n",
              "    </tr>\n",
              "    <tr>\n",
              "      <th>585</th>\n",
              "      <td>2822</td>\n",
              "      <td>Felipe Thiago Nahuel Cabrera</td>\n",
              "      <td>10-38154140-3</td>\n",
              "    </tr>\n",
              "    <tr>\n",
              "      <th>586</th>\n",
              "      <td>2903</td>\n",
              "      <td>Ciro Molina</td>\n",
              "      <td>29-36610828-3</td>\n",
              "    </tr>\n",
              "    <tr>\n",
              "      <th>587</th>\n",
              "      <td>3134</td>\n",
              "      <td>Francisco Juan Gabriel Lopez Correa</td>\n",
              "      <td>10-38154140-3</td>\n",
              "    </tr>\n",
              "  </tbody>\n",
              "</table>\n",
              "<p>588 rows × 3 columns</p>\n",
              "</div>"
            ],
            "text/plain": [
              "     cliente                                    nombre           cuit\n",
              "0       4627                   Bautista Benjamin Godoy  27-37333495-4\n",
              "1       7521  Thiago Benjamin Valentino Peralta Molina  10-28728481-1\n",
              "2       7925                             Lorenzo Lopez  11-32678918-9\n",
              "3       3187                     Valentino Olivia Diaz  16-28534879-4\n",
              "4       5984                 Sol Delfina Ruiz Martinez  20-39935313-4\n",
              "..       ...                                       ...            ...\n",
              "583     2939                            Malena Olivera  10-38154140-3\n",
              "584     4608                          Valentino Acosta  29-36610828-3\n",
              "585     2822              Felipe Thiago Nahuel Cabrera  10-38154140-3\n",
              "586     2903                               Ciro Molina  29-36610828-3\n",
              "587     3134       Francisco Juan Gabriel Lopez Correa  10-38154140-3\n",
              "\n",
              "[588 rows x 3 columns]"
            ]
          },
          "execution_count": 11,
          "metadata": {},
          "output_type": "execute_result"
        }
      ],
      "source": [
        "client_df = filtered_df[column_groups[\"cliente\"]].drop_duplicates().reset_index(drop=True)\n",
        "client_df"
      ]
    },
    {
      "cell_type": "code",
      "execution_count": 12,
      "id": "16c158c8",
      "metadata": {
        "colab": {
          "base_uri": "https://localhost:8080/",
          "height": 178
        },
        "id": "16c158c8",
        "outputId": "1e0dd566-b56b-4d5e-9ebb-0daa64dfe14c"
      },
      "outputs": [
        {
          "data": {
            "text/plain": [
              "cliente    571\n",
              "nombre     562\n",
              "cuit       494\n",
              "dtype: int64"
            ]
          },
          "execution_count": 12,
          "metadata": {},
          "output_type": "execute_result"
        }
      ],
      "source": [
        "# Cantidad de  clientes únicos\n",
        "client_count = client_df.nunique(dropna=False)\n",
        "client_count"
      ]
    },
    {
      "cell_type": "code",
      "execution_count": 13,
      "id": "2f1f40d2",
      "metadata": {
        "colab": {
          "base_uri": "https://localhost:8080/",
          "height": 206
        },
        "id": "2f1f40d2",
        "outputId": "4d370b99-a793-476e-debd-3e7afd3e72f9"
      },
      "outputs": [
        {
          "data": {
            "text/html": [
              "<div>\n",
              "<style scoped>\n",
              "    .dataframe tbody tr th:only-of-type {\n",
              "        vertical-align: middle;\n",
              "    }\n",
              "\n",
              "    .dataframe tbody tr th {\n",
              "        vertical-align: top;\n",
              "    }\n",
              "\n",
              "    .dataframe thead th {\n",
              "        text-align: right;\n",
              "    }\n",
              "</style>\n",
              "<table border=\"1\" class=\"dataframe\">\n",
              "  <thead>\n",
              "    <tr style=\"text-align: right;\">\n",
              "      <th></th>\n",
              "      <th>nombre</th>\n",
              "      <th>cuit</th>\n",
              "      <th>cantidad</th>\n",
              "    </tr>\n",
              "  </thead>\n",
              "  <tbody>\n",
              "    <tr>\n",
              "      <th>89</th>\n",
              "      <td>Charo Benjamin Lopez</td>\n",
              "      <td>10-38154140-3</td>\n",
              "      <td>8</td>\n",
              "    </tr>\n",
              "    <tr>\n",
              "      <th>406</th>\n",
              "      <td>Mia Sanchez</td>\n",
              "      <td>27-33787487-5</td>\n",
              "      <td>2</td>\n",
              "    </tr>\n",
              "    <tr>\n",
              "      <th>196</th>\n",
              "      <td>Guillermina Franco Fernandez</td>\n",
              "      <td>23-22991561-5</td>\n",
              "      <td>2</td>\n",
              "    </tr>\n",
              "    <tr>\n",
              "      <th>219</th>\n",
              "      <td>Jazmin Lola Ferreyra</td>\n",
              "      <td>15-34659307-3</td>\n",
              "      <td>2</td>\n",
              "    </tr>\n",
              "    <tr>\n",
              "      <th>491</th>\n",
              "      <td>Sofia Thiago Valentin Rodriguez Soria</td>\n",
              "      <td>14-29602110-6</td>\n",
              "      <td>2</td>\n",
              "    </tr>\n",
              "  </tbody>\n",
              "</table>\n",
              "</div>"
            ],
            "text/plain": [
              "                                    nombre           cuit  cantidad\n",
              "89                    Charo Benjamin Lopez  10-38154140-3         8\n",
              "406                            Mia Sanchez  27-33787487-5         2\n",
              "196           Guillermina Franco Fernandez  23-22991561-5         2\n",
              "219                   Jazmin Lola Ferreyra  15-34659307-3         2\n",
              "491  Sofia Thiago Valentin Rodriguez Soria  14-29602110-6         2"
            ]
          },
          "execution_count": 13,
          "metadata": {},
          "output_type": "execute_result"
        }
      ],
      "source": [
        "# Ver personas con más de un numero de cliente\n",
        "client_count = client_df.groupby(['nombre', 'cuit']).size().reset_index(name='cantidad')\n",
        "client_count = client_count.sort_values(by='cantidad', ascending=False)\n",
        "client_count.head(5)"
      ]
    },
    {
      "cell_type": "code",
      "execution_count": 14,
      "id": "25a2f29f",
      "metadata": {
        "colab": {
          "base_uri": "https://localhost:8080/",
          "height": 206
        },
        "id": "25a2f29f",
        "outputId": "0283499a-6dc0-45ee-aa56-6fcc58833d05"
      },
      "outputs": [
        {
          "data": {
            "text/html": [
              "<div>\n",
              "<style scoped>\n",
              "    .dataframe tbody tr th:only-of-type {\n",
              "        vertical-align: middle;\n",
              "    }\n",
              "\n",
              "    .dataframe tbody tr th {\n",
              "        vertical-align: top;\n",
              "    }\n",
              "\n",
              "    .dataframe thead th {\n",
              "        text-align: right;\n",
              "    }\n",
              "</style>\n",
              "<table border=\"1\" class=\"dataframe\">\n",
              "  <thead>\n",
              "    <tr style=\"text-align: right;\">\n",
              "      <th></th>\n",
              "      <th>cliente</th>\n",
              "      <th>nombre</th>\n",
              "    </tr>\n",
              "  </thead>\n",
              "  <tbody>\n",
              "    <tr>\n",
              "      <th>72</th>\n",
              "      <td>1887</td>\n",
              "      <td>2</td>\n",
              "    </tr>\n",
              "    <tr>\n",
              "      <th>90</th>\n",
              "      <td>2120</td>\n",
              "      <td>2</td>\n",
              "    </tr>\n",
              "    <tr>\n",
              "      <th>96</th>\n",
              "      <td>2188</td>\n",
              "      <td>2</td>\n",
              "    </tr>\n",
              "    <tr>\n",
              "      <th>221</th>\n",
              "      <td>4856</td>\n",
              "      <td>2</td>\n",
              "    </tr>\n",
              "    <tr>\n",
              "      <th>339</th>\n",
              "      <td>6558</td>\n",
              "      <td>2</td>\n",
              "    </tr>\n",
              "  </tbody>\n",
              "</table>\n",
              "</div>"
            ],
            "text/plain": [
              "     cliente  nombre\n",
              "72      1887       2\n",
              "90      2120       2\n",
              "96      2188       2\n",
              "221     4856       2\n",
              "339     6558       2"
            ]
          },
          "execution_count": 14,
          "metadata": {},
          "output_type": "execute_result"
        }
      ],
      "source": [
        "# Ver si hay numero de clientes que tengan más de un nombre asociado\n",
        "client_names = client_df.groupby('cliente')['nombre'].nunique().reset_index()\n",
        "client_names = client_names[client_names['nombre'] > 1].sort_values(by='nombre', ascending=False)\n",
        "client_names.head(5)"
      ]
    },
    {
      "cell_type": "markdown",
      "id": "f4276474",
      "metadata": {
        "id": "f4276474"
      },
      "source": [
        "🔍 **Observaciones**\n",
        "- 571 clientes en total.  \n",
        "\n",
        "- Algunas personas están asociados a más de un número de cliente, es decir, una misma persona podría estar a cargo de varios puntos de venta distintos.\n",
        "\n",
        "- También podría ser que el `nombre` sea de una persona encargada de realizar la compra en representación del `cliente` pudiendo ser diferentes personas.\n",
        "\n",
        "- Un mismo cliente puede tener diferentes CUIT segun la actividad que realice o si es conjunto de empresas consolidadas que representan al mismo CLIENTE pero a través de diferentes CUITS.\n",
        "\n",
        "✅ Por ello, consideramos que la columna `cliente` es la que mejor identifica a cada **Punto de venta (PDV)**."
      ]
    },
    {
      "cell_type": "markdown",
      "id": "5c97e0ca",
      "metadata": {
        "id": "5c97e0ca"
      },
      "source": [
        "#### 📦 Productos"
      ]
    },
    {
      "cell_type": "code",
      "execution_count": 15,
      "id": "ea92fd9f",
      "metadata": {
        "colab": {
          "base_uri": "https://localhost:8080/",
          "height": 206
        },
        "id": "ea92fd9f",
        "outputId": "95c55994-3207-4ec2-f3d4-3b1363bf9f8f"
      },
      "outputs": [
        {
          "data": {
            "text/html": [
              "<div>\n",
              "<style scoped>\n",
              "    .dataframe tbody tr th:only-of-type {\n",
              "        vertical-align: middle;\n",
              "    }\n",
              "\n",
              "    .dataframe tbody tr th {\n",
              "        vertical-align: top;\n",
              "    }\n",
              "\n",
              "    .dataframe thead th {\n",
              "        text-align: right;\n",
              "    }\n",
              "</style>\n",
              "<table border=\"1\" class=\"dataframe\">\n",
              "  <thead>\n",
              "    <tr style=\"text-align: right;\">\n",
              "      <th></th>\n",
              "      <th>produc</th>\n",
              "      <th>descrip</th>\n",
              "      <th>depo</th>\n",
              "    </tr>\n",
              "  </thead>\n",
              "  <tbody>\n",
              "    <tr>\n",
              "      <th>0</th>\n",
              "      <td>000-999-202201370</td>\n",
              "      <td>turron arcor</td>\n",
              "      <td>NaN</td>\n",
              "    </tr>\n",
              "    <tr>\n",
              "      <th>1</th>\n",
              "      <td>000-000-4013</td>\n",
              "      <td>turron x 25g arcor</td>\n",
              "      <td>1.0</td>\n",
              "    </tr>\n",
              "    <tr>\n",
              "      <th>2</th>\n",
              "      <td>000-000-6614</td>\n",
              "      <td>pure tomate arcor x 520</td>\n",
              "      <td>1.0</td>\n",
              "    </tr>\n",
              "    <tr>\n",
              "      <th>3</th>\n",
              "      <td>000-000-3777</td>\n",
              "      <td>criollitas original x 100 grs.</td>\n",
              "      <td>1.0</td>\n",
              "    </tr>\n",
              "    <tr>\n",
              "      <th>4</th>\n",
              "      <td>000-000-10204</td>\n",
              "      <td>criollitas x 300 grs</td>\n",
              "      <td>1.0</td>\n",
              "    </tr>\n",
              "  </tbody>\n",
              "</table>\n",
              "</div>"
            ],
            "text/plain": [
              "              produc                         descrip  depo\n",
              "0  000-999-202201370                    turron arcor   NaN\n",
              "1       000-000-4013              turron x 25g arcor   1.0\n",
              "2       000-000-6614         pure tomate arcor x 520   1.0\n",
              "3       000-000-3777  criollitas original x 100 grs.   1.0\n",
              "4      000-000-10204            criollitas x 300 grs   1.0"
            ]
          },
          "execution_count": 15,
          "metadata": {},
          "output_type": "execute_result"
        }
      ],
      "source": [
        "products_df = filtered_df[column_groups[\"producto\"]].drop_duplicates().reset_index(drop=True)\n",
        "products_df.head()"
      ]
    },
    {
      "cell_type": "markdown",
      "id": "81af259e",
      "metadata": {
        "id": "81af259e"
      },
      "source": [
        "- Se observan productos con descripciones similares que tienen códigos distintos."
      ]
    },
    {
      "cell_type": "code",
      "execution_count": 16,
      "id": "db16c072",
      "metadata": {
        "colab": {
          "base_uri": "https://localhost:8080/",
          "height": 147
        },
        "id": "db16c072",
        "outputId": "4c7c428f-6c2c-4455-8b3e-1f8b4dc2d27f"
      },
      "outputs": [
        {
          "data": {
            "text/plain": [
              "produc     7765\n",
              "descrip    3799\n",
              "dtype: int64"
            ]
          },
          "execution_count": 16,
          "metadata": {},
          "output_type": "execute_result"
        }
      ],
      "source": [
        "# Cantidad de productos únicos y descripciones\n",
        "products_df.nunique(dropna=False)[['produc', 'descrip']]"
      ]
    },
    {
      "cell_type": "markdown",
      "id": "d7f2862e",
      "metadata": {
        "id": "d7f2862e"
      },
      "source": [
        "- Hay muchos productos con distinto código pero misma descripción."
      ]
    },
    {
      "cell_type": "code",
      "execution_count": 17,
      "id": "562f41fb",
      "metadata": {
        "colab": {
          "base_uri": "https://localhost:8080/",
          "height": 380
        },
        "id": "562f41fb",
        "outputId": "7a7cb7e4-1ca3-47f8-952f-538f0fe8dafe"
      },
      "outputs": [
        {
          "name": "stdout",
          "output_type": "stream",
          "text": [
            "Total de descripciones con más de un producto: 906\n"
          ]
        },
        {
          "data": {
            "text/html": [
              "<div>\n",
              "<style scoped>\n",
              "    .dataframe tbody tr th:only-of-type {\n",
              "        vertical-align: middle;\n",
              "    }\n",
              "\n",
              "    .dataframe tbody tr th {\n",
              "        vertical-align: top;\n",
              "    }\n",
              "\n",
              "    .dataframe thead th {\n",
              "        text-align: right;\n",
              "    }\n",
              "</style>\n",
              "<table border=\"1\" class=\"dataframe\">\n",
              "  <thead>\n",
              "    <tr style=\"text-align: right;\">\n",
              "      <th></th>\n",
              "      <th>descrip</th>\n",
              "      <th>num_productos</th>\n",
              "    </tr>\n",
              "  </thead>\n",
              "  <tbody>\n",
              "    <tr>\n",
              "      <th>3431</th>\n",
              "      <td>surt bagley</td>\n",
              "      <td>29</td>\n",
              "    </tr>\n",
              "    <tr>\n",
              "      <th>1745</th>\n",
              "      <td>jg pv bc multi</td>\n",
              "      <td>27</td>\n",
              "    </tr>\n",
              "    <tr>\n",
              "      <th>1723</th>\n",
              "      <td>jg pv bc anana</td>\n",
              "      <td>26</td>\n",
              "    </tr>\n",
              "    <tr>\n",
              "      <th>1744</th>\n",
              "      <td>jg pv bc manz roja</td>\n",
              "      <td>26</td>\n",
              "    </tr>\n",
              "    <tr>\n",
              "      <th>3441</th>\n",
              "      <td>surt diversion</td>\n",
              "      <td>25</td>\n",
              "    </tr>\n",
              "    <tr>\n",
              "      <th>480</th>\n",
              "      <td>block 110g</td>\n",
              "      <td>25</td>\n",
              "    </tr>\n",
              "    <tr>\n",
              "      <th>1694</th>\n",
              "      <td>jg pv ar manza</td>\n",
              "      <td>25</td>\n",
              "    </tr>\n",
              "    <tr>\n",
              "      <th>3507</th>\n",
              "      <td>tab milk</td>\n",
              "      <td>24</td>\n",
              "    </tr>\n",
              "    <tr>\n",
              "      <th>1695</th>\n",
              "      <td>jg pv ar multi</td>\n",
              "      <td>23</td>\n",
              "    </tr>\n",
              "    <tr>\n",
              "      <th>489</th>\n",
              "      <td>block 38g</td>\n",
              "      <td>23</td>\n",
              "    </tr>\n",
              "  </tbody>\n",
              "</table>\n",
              "</div>"
            ],
            "text/plain": [
              "                 descrip  num_productos\n",
              "3431         surt bagley             29\n",
              "1745      jg pv bc multi             27\n",
              "1723      jg pv bc anana             26\n",
              "1744  jg pv bc manz roja             26\n",
              "3441      surt diversion             25\n",
              "480           block 110g             25\n",
              "1694      jg pv ar manza             25\n",
              "3507            tab milk             24\n",
              "1695      jg pv ar multi             23\n",
              "489            block 38g             23"
            ]
          },
          "execution_count": 17,
          "metadata": {},
          "output_type": "execute_result"
        }
      ],
      "source": [
        "# Contar cuántos códigos de producto distintos comparten la misma descripción\n",
        "desc_counts = products_df.groupby('descrip')['produc'].nunique().reset_index(name='num_productos')\n",
        "desc_counts = desc_counts.sort_values('num_productos', ascending=False)\n",
        "\n",
        "# Verificar si hay productos con la misma descripción\n",
        "print(f\"Total de descripciones con más de un producto: {desc_counts[desc_counts['num_productos'] > 1].shape[0]}\")\n",
        "\n",
        "# Mostrar las descripciones que corresponden a más de un producto\n",
        "desc_counts[desc_counts['num_productos'] > 1].head(10)"
      ]
    },
    {
      "cell_type": "code",
      "execution_count": 18,
      "id": "afcd9751",
      "metadata": {
        "colab": {
          "base_uri": "https://localhost:8080/",
          "height": 380
        },
        "id": "afcd9751",
        "outputId": "993431ca-fc66-429b-d898-868ebf73f678"
      },
      "outputs": [
        {
          "name": "stdout",
          "output_type": "stream",
          "text": [
            "Productos con más de una descripción: 44\n"
          ]
        },
        {
          "data": {
            "text/html": [
              "<div>\n",
              "<style scoped>\n",
              "    .dataframe tbody tr th:only-of-type {\n",
              "        vertical-align: middle;\n",
              "    }\n",
              "\n",
              "    .dataframe tbody tr th {\n",
              "        vertical-align: top;\n",
              "    }\n",
              "\n",
              "    .dataframe thead th {\n",
              "        text-align: right;\n",
              "    }\n",
              "</style>\n",
              "<table border=\"1\" class=\"dataframe\">\n",
              "  <thead>\n",
              "    <tr style=\"text-align: right;\">\n",
              "      <th></th>\n",
              "      <th>produc</th>\n",
              "      <th>descrip</th>\n",
              "      <th>cant_descrip</th>\n",
              "    </tr>\n",
              "  </thead>\n",
              "  <tbody>\n",
              "    <tr>\n",
              "      <th>995</th>\n",
              "      <td>000-000-5312</td>\n",
              "      <td>[cofler block 20ux 38 grs., cofler block 38 gr...</td>\n",
              "      <td>3</td>\n",
              "    </tr>\n",
              "    <tr>\n",
              "      <th>78</th>\n",
              "      <td>000-000-10798</td>\n",
              "      <td>[medallon menta  aguila x 15 uds., medallon me...</td>\n",
              "      <td>2</td>\n",
              "    </tr>\n",
              "    <tr>\n",
              "      <th>132</th>\n",
              "      <td>000-000-11714</td>\n",
              "      <td>[alf agru. tofi negro x 6 uds., alf. agru. tof...</td>\n",
              "      <td>2</td>\n",
              "    </tr>\n",
              "    <tr>\n",
              "      <th>118</th>\n",
              "      <td>000-000-11584</td>\n",
              "      <td>[cofler airea d/l tofi  x 70 grs., cofler aire...</td>\n",
              "      <td>2</td>\n",
              "    </tr>\n",
              "    <tr>\n",
              "      <th>188</th>\n",
              "      <td>000-000-12228</td>\n",
              "      <td>[bizcoch. brownie aguila x 425 grs., bizcoch. ...</td>\n",
              "      <td>2</td>\n",
              "    </tr>\n",
              "    <tr>\n",
              "      <th>189</th>\n",
              "      <td>000-000-12230</td>\n",
              "      <td>[bizcoch. aguila torta x 450 grs., bizcoch. ag...</td>\n",
              "      <td>2</td>\n",
              "    </tr>\n",
              "    <tr>\n",
              "      <th>248</th>\n",
              "      <td>000-000-12576</td>\n",
              "      <td>[choc. celofan leche c/mani x 25 grs., choc. c...</td>\n",
              "      <td>2</td>\n",
              "    </tr>\n",
              "    <tr>\n",
              "      <th>259</th>\n",
              "      <td>000-000-12628</td>\n",
              "      <td>[cereal mix vainilla/yog x 20 uds., ceral mix ...</td>\n",
              "      <td>2</td>\n",
              "    </tr>\n",
              "    <tr>\n",
              "      <th>289</th>\n",
              "      <td>000-000-12757</td>\n",
              "      <td>[palito bombon 12x6x4, h. palito bombon 12x6x4]</td>\n",
              "      <td>2</td>\n",
              "    </tr>\n",
              "    <tr>\n",
              "      <th>332</th>\n",
              "      <td>000-000-12963</td>\n",
              "      <td>[snack saladix cross orig. x 67 grs., snack sa...</td>\n",
              "      <td>2</td>\n",
              "    </tr>\n",
              "  </tbody>\n",
              "</table>\n",
              "</div>"
            ],
            "text/plain": [
              "            produc                                            descrip  \\\n",
              "995   000-000-5312  [cofler block 20ux 38 grs., cofler block 38 gr...   \n",
              "78   000-000-10798  [medallon menta  aguila x 15 uds., medallon me...   \n",
              "132  000-000-11714  [alf agru. tofi negro x 6 uds., alf. agru. tof...   \n",
              "118  000-000-11584  [cofler airea d/l tofi  x 70 grs., cofler aire...   \n",
              "188  000-000-12228  [bizcoch. brownie aguila x 425 grs., bizcoch. ...   \n",
              "189  000-000-12230  [bizcoch. aguila torta x 450 grs., bizcoch. ag...   \n",
              "248  000-000-12576  [choc. celofan leche c/mani x 25 grs., choc. c...   \n",
              "259  000-000-12628  [cereal mix vainilla/yog x 20 uds., ceral mix ...   \n",
              "289  000-000-12757    [palito bombon 12x6x4, h. palito bombon 12x6x4]   \n",
              "332  000-000-12963  [snack saladix cross orig. x 67 grs., snack sa...   \n",
              "\n",
              "     cant_descrip  \n",
              "995             3  \n",
              "78              2  \n",
              "132             2  \n",
              "118             2  \n",
              "188             2  \n",
              "189             2  \n",
              "248             2  \n",
              "259             2  \n",
              "289             2  \n",
              "332             2  "
            ]
          },
          "execution_count": 18,
          "metadata": {},
          "output_type": "execute_result"
        }
      ],
      "source": [
        "# Contar cuántas descripciones únicas hay por producto\n",
        "descrip_list_per_product = (\n",
        "    products_df.groupby('produc')['descrip']\n",
        "    .agg(lambda x: list(set(x)))\n",
        "    .reset_index()\n",
        ")\n",
        "\n",
        "descrip_list_per_product['cant_descrip'] = descrip_list_per_product['descrip'].apply(len)\n",
        "descrip_list_per_product['cant_descrip'].value_counts().sort_index()\n",
        "\n",
        "# filtramos productos con más de una descripción\n",
        "filtered_products = descrip_list_per_product[descrip_list_per_product['cant_descrip'] > 1]\n",
        "print(f\"Productos con más de una descripción: {len(filtered_products)}\")\n",
        "\n",
        "filtered_products.sort_values(by='cant_descrip', ascending=False).head(10)"
      ]
    },
    {
      "cell_type": "markdown",
      "id": "6dc53cc9",
      "metadata": {
        "id": "6dc53cc9"
      },
      "source": [
        "- La variable `descrip` no está estandarizada, sin embargo, la mayoría de los códigos de productos se corresponden con una única descripción, excepto 44 productos. Estos productos pueden ser estandarizados manualmente."
      ]
    },
    {
      "cell_type": "code",
      "execution_count": 19,
      "id": "935e24e4",
      "metadata": {
        "colab": {
          "base_uri": "https://localhost:8080/",
          "height": 206
        },
        "id": "935e24e4",
        "outputId": "a41eacf4-771f-4658-8a19-e86c702130a1"
      },
      "outputs": [
        {
          "data": {
            "text/html": [
              "<div>\n",
              "<style scoped>\n",
              "    .dataframe tbody tr th:only-of-type {\n",
              "        vertical-align: middle;\n",
              "    }\n",
              "\n",
              "    .dataframe tbody tr th {\n",
              "        vertical-align: top;\n",
              "    }\n",
              "\n",
              "    .dataframe thead th {\n",
              "        text-align: right;\n",
              "    }\n",
              "</style>\n",
              "<table border=\"1\" class=\"dataframe\">\n",
              "  <thead>\n",
              "    <tr style=\"text-align: right;\">\n",
              "      <th></th>\n",
              "      <th>prefijo</th>\n",
              "      <th>depo</th>\n",
              "      <th>cantidad</th>\n",
              "    </tr>\n",
              "  </thead>\n",
              "  <tbody>\n",
              "    <tr>\n",
              "      <th>4</th>\n",
              "      <td>999</td>\n",
              "      <td>N/A</td>\n",
              "      <td>6666</td>\n",
              "    </tr>\n",
              "    <tr>\n",
              "      <th>0</th>\n",
              "      <td>000</td>\n",
              "      <td>1.0</td>\n",
              "      <td>1129</td>\n",
              "    </tr>\n",
              "    <tr>\n",
              "      <th>3</th>\n",
              "      <td>999</td>\n",
              "      <td>1.0</td>\n",
              "      <td>12</td>\n",
              "    </tr>\n",
              "    <tr>\n",
              "      <th>2</th>\n",
              "      <td>101</td>\n",
              "      <td>1.0</td>\n",
              "      <td>3</td>\n",
              "    </tr>\n",
              "    <tr>\n",
              "      <th>1</th>\n",
              "      <td>000</td>\n",
              "      <td>3.0</td>\n",
              "      <td>1</td>\n",
              "    </tr>\n",
              "  </tbody>\n",
              "</table>\n",
              "</div>"
            ],
            "text/plain": [
              "  prefijo depo  cantidad\n",
              "4     999  N/A      6666\n",
              "0     000  1.0      1129\n",
              "3     999  1.0        12\n",
              "2     101  1.0         3\n",
              "1     000  3.0         1"
            ]
          },
          "execution_count": 19,
          "metadata": {},
          "output_type": "execute_result"
        }
      ],
      "source": [
        "# Prefijo de producto\n",
        "products_df['prefijo'] = products_df['produc'].str[4:7]\n",
        "\n",
        "# Reemplazamos los valores nulos en la columna 'depo' con 'N/A'\n",
        "products_filled = products_df.fillna({'depo': 'N/A'}).copy()\n",
        "\n",
        "# Agrupamos por prefijo y depósito\n",
        "prefijo_depo_counts = (\n",
        "    products_filled.groupby(['prefijo', 'depo'])\n",
        "    .size()\n",
        "    .reset_index(name='cantidad')\n",
        ")\n",
        "\n",
        "prefijo_depo_counts.sort_values(by='cantidad', ascending=False)"
      ]
    },
    {
      "cell_type": "markdown",
      "id": "a2dd33a8",
      "metadata": {
        "id": "a2dd33a8"
      },
      "source": [
        "🔎 **Observaciones**\n",
        "1. Las descripciones de los productos no estan estandarizadas.  \n",
        "\n",
        "2. Los códigos de los productos parecen estar diferenciados por depósito, en general:\n",
        "    - Prefijo `000`: depósito 1.\n",
        "    - Prefijo `999`: depósito sin número (NaN).  \n",
        "    \n",
        "3.  Dentro de las codificaciones con prefijo 999 se encuentra el año y mes de la venta, esto produce muchos códigos únicos , y sin estandarizar.\n",
        "\n",
        "✅ **Soluciones posibles**\n",
        "\n",
        "1. Estandarizar las descripciones de los productos.  \n",
        "\n",
        "2. Extraer códigos únicos por producto, y unificarlos entre depósitos.  \n",
        "\n",
        "3. Crear un nuevo un identificador estandarizado de producto, agrupando códigos equivalentes.  \n",
        "\n",
        "🧪 **Extras**\n",
        "- Categorizar los productos para facilitar análisis por categoría comercial (por ejemplo: golosinas, galletitas, etc).\n",
        "\n",
        "- Analizar si la codificación del producto tiene relación con su categoría o agrupa productos similares."
      ]
    },
    {
      "cell_type": "markdown",
      "id": "5833baea",
      "metadata": {
        "id": "5833baea"
      },
      "source": [
        "#### 🧾 Facturas"
      ]
    },
    {
      "cell_type": "code",
      "execution_count": 20,
      "id": "14ed05e0",
      "metadata": {
        "colab": {
          "base_uri": "https://localhost:8080/",
          "height": 382
        },
        "id": "14ed05e0",
        "outputId": "0bad3c6a-3088-4853-fdb1-d66edd18c268"
      },
      "outputs": [
        {
          "data": {
            "text/html": [
              "<div>\n",
              "<style scoped>\n",
              "    .dataframe tbody tr th:only-of-type {\n",
              "        vertical-align: middle;\n",
              "    }\n",
              "\n",
              "    .dataframe tbody tr th {\n",
              "        vertical-align: top;\n",
              "    }\n",
              "\n",
              "    .dataframe thead th {\n",
              "        text-align: right;\n",
              "    }\n",
              "</style>\n",
              "<table border=\"1\" class=\"dataframe\">\n",
              "  <thead>\n",
              "    <tr style=\"text-align: right;\">\n",
              "      <th></th>\n",
              "      <th>factu_nume</th>\n",
              "      <th>fecha</th>\n",
              "      <th>produc</th>\n",
              "      <th>descrip</th>\n",
              "      <th>precio_uni</th>\n",
              "      <th>precio_uni_neto</th>\n",
              "      <th>boni_impor_precio</th>\n",
              "      <th>canti_venta</th>\n",
              "      <th>conver</th>\n",
              "      <th>canti</th>\n",
              "      <th>impor_grava</th>\n",
              "      <th>iva1_impor</th>\n",
              "      <th>iva_percep_impor</th>\n",
              "      <th>precio_total</th>\n",
              "      <th>total</th>\n",
              "      <th>iva1</th>\n",
              "      <th>uni_medi</th>\n",
              "    </tr>\n",
              "  </thead>\n",
              "  <tbody>\n",
              "    <tr>\n",
              "      <th>0</th>\n",
              "      <td>16092</td>\n",
              "      <td>2022-01-17</td>\n",
              "      <td>000-999-202201370</td>\n",
              "      <td>turron arcor</td>\n",
              "      <td>716.5000</td>\n",
              "      <td>716.5000</td>\n",
              "      <td>0.0000</td>\n",
              "      <td>2.0</td>\n",
              "      <td>1.0</td>\n",
              "      <td>2.0</td>\n",
              "      <td>1433.00</td>\n",
              "      <td>300.93</td>\n",
              "      <td>0.0</td>\n",
              "      <td>1733.93</td>\n",
              "      <td>2611.29</td>\n",
              "      <td>453.2</td>\n",
              "      <td>un</td>\n",
              "    </tr>\n",
              "    <tr>\n",
              "      <th>1</th>\n",
              "      <td>16092</td>\n",
              "      <td>2022-01-17</td>\n",
              "      <td>000-000-4013</td>\n",
              "      <td>turron x 25g arcor</td>\n",
              "      <td>14.3300</td>\n",
              "      <td>14.3300</td>\n",
              "      <td>0.0000</td>\n",
              "      <td>100.0</td>\n",
              "      <td>1.0</td>\n",
              "      <td>100.0</td>\n",
              "      <td>1433.00</td>\n",
              "      <td>300.93</td>\n",
              "      <td>0.0</td>\n",
              "      <td>1733.93</td>\n",
              "      <td>2611.29</td>\n",
              "      <td>453.2</td>\n",
              "      <td>un</td>\n",
              "    </tr>\n",
              "    <tr>\n",
              "      <th>2</th>\n",
              "      <td>16092</td>\n",
              "      <td>2022-01-17</td>\n",
              "      <td>000-000-6614</td>\n",
              "      <td>pure tomate arcor x 520</td>\n",
              "      <td>59.7349</td>\n",
              "      <td>54.9561</td>\n",
              "      <td>28.6728</td>\n",
              "      <td>6.0</td>\n",
              "      <td>1.0</td>\n",
              "      <td>6.0</td>\n",
              "      <td>329.74</td>\n",
              "      <td>69.25</td>\n",
              "      <td>0.0</td>\n",
              "      <td>398.99</td>\n",
              "      <td>2611.29</td>\n",
              "      <td>453.2</td>\n",
              "      <td>un</td>\n",
              "    </tr>\n",
              "    <tr>\n",
              "      <th>3</th>\n",
              "      <td>16092</td>\n",
              "      <td>2022-01-17</td>\n",
              "      <td>000-000-3777</td>\n",
              "      <td>criollitas original x 100 grs.</td>\n",
              "      <td>34.4033</td>\n",
              "      <td>30.9630</td>\n",
              "      <td>20.6418</td>\n",
              "      <td>6.0</td>\n",
              "      <td>1.0</td>\n",
              "      <td>6.0</td>\n",
              "      <td>185.78</td>\n",
              "      <td>39.01</td>\n",
              "      <td>0.0</td>\n",
              "      <td>224.79</td>\n",
              "      <td>2611.29</td>\n",
              "      <td>453.2</td>\n",
              "      <td>un</td>\n",
              "    </tr>\n",
              "    <tr>\n",
              "      <th>4</th>\n",
              "      <td>16092</td>\n",
              "      <td>2022-01-17</td>\n",
              "      <td>000-000-10204</td>\n",
              "      <td>criollitas x 300 grs</td>\n",
              "      <td>102.3376</td>\n",
              "      <td>92.1038</td>\n",
              "      <td>30.7014</td>\n",
              "      <td>3.0</td>\n",
              "      <td>3.0</td>\n",
              "      <td>9.0</td>\n",
              "      <td>276.31</td>\n",
              "      <td>58.03</td>\n",
              "      <td>0.0</td>\n",
              "      <td>334.34</td>\n",
              "      <td>2611.29</td>\n",
              "      <td>453.2</td>\n",
              "      <td>di</td>\n",
              "    </tr>\n",
              "  </tbody>\n",
              "</table>\n",
              "</div>"
            ],
            "text/plain": [
              "   factu_nume      fecha             produc                         descrip  \\\n",
              "0       16092 2022-01-17  000-999-202201370                    turron arcor   \n",
              "1       16092 2022-01-17       000-000-4013              turron x 25g arcor   \n",
              "2       16092 2022-01-17       000-000-6614         pure tomate arcor x 520   \n",
              "3       16092 2022-01-17       000-000-3777  criollitas original x 100 grs.   \n",
              "4       16092 2022-01-17      000-000-10204            criollitas x 300 grs   \n",
              "\n",
              "   precio_uni  precio_uni_neto  boni_impor_precio  canti_venta  conver  canti  \\\n",
              "0    716.5000         716.5000             0.0000          2.0     1.0    2.0   \n",
              "1     14.3300          14.3300             0.0000        100.0     1.0  100.0   \n",
              "2     59.7349          54.9561            28.6728          6.0     1.0    6.0   \n",
              "3     34.4033          30.9630            20.6418          6.0     1.0    6.0   \n",
              "4    102.3376          92.1038            30.7014          3.0     3.0    9.0   \n",
              "\n",
              "   impor_grava  iva1_impor  iva_percep_impor  precio_total    total   iva1  \\\n",
              "0      1433.00      300.93               0.0       1733.93  2611.29  453.2   \n",
              "1      1433.00      300.93               0.0       1733.93  2611.29  453.2   \n",
              "2       329.74       69.25               0.0        398.99  2611.29  453.2   \n",
              "3       185.78       39.01               0.0        224.79  2611.29  453.2   \n",
              "4       276.31       58.03               0.0        334.34  2611.29  453.2   \n",
              "\n",
              "  uni_medi  \n",
              "0       un  \n",
              "1       un  \n",
              "2       un  \n",
              "3       un  \n",
              "4       di  "
            ]
          },
          "execution_count": 20,
          "metadata": {},
          "output_type": "execute_result"
        }
      ],
      "source": [
        "invoice_df = filtered_df[column_groups[\"facturacion_por_item\"]].drop_duplicates().reset_index(drop=True)\n",
        "invoice_df.head()"
      ]
    },
    {
      "cell_type": "code",
      "execution_count": 21,
      "id": "86a5cdc6",
      "metadata": {
        "colab": {
          "base_uri": "https://localhost:8080/"
        },
        "id": "86a5cdc6",
        "outputId": "a99ef2fa-4bc2-4e6f-9d38-240252d15118"
      },
      "outputs": [
        {
          "name": "stdout",
          "output_type": "stream",
          "text": [
            "Cantidad de facturas únicas: 40920\n"
          ]
        }
      ],
      "source": [
        "# Cantidad de facturas únicas\n",
        "invoice_count = invoice_df['factu_nume'].nunique()\n",
        "print(f\"Cantidad de facturas únicas: {invoice_count}\")"
      ]
    },
    {
      "cell_type": "code",
      "execution_count": 22,
      "id": "da8d2b5a",
      "metadata": {
        "colab": {
          "base_uri": "https://localhost:8080/",
          "height": 457
        },
        "id": "da8d2b5a",
        "outputId": "f5a90f3a-0f64-4838-f4f6-a7cd1a33ce37"
      },
      "outputs": [
        {
          "data": {
            "text/html": [
              "<div>\n",
              "<style scoped>\n",
              "    .dataframe tbody tr th:only-of-type {\n",
              "        vertical-align: middle;\n",
              "    }\n",
              "\n",
              "    .dataframe tbody tr th {\n",
              "        vertical-align: top;\n",
              "    }\n",
              "\n",
              "    .dataframe thead th {\n",
              "        text-align: right;\n",
              "    }\n",
              "</style>\n",
              "<table border=\"1\" class=\"dataframe\">\n",
              "  <thead>\n",
              "    <tr style=\"text-align: right;\">\n",
              "      <th></th>\n",
              "      <th>count</th>\n",
              "      <th>mean</th>\n",
              "      <th>std</th>\n",
              "      <th>min</th>\n",
              "      <th>25%</th>\n",
              "      <th>50%</th>\n",
              "      <th>75%</th>\n",
              "      <th>max</th>\n",
              "    </tr>\n",
              "  </thead>\n",
              "  <tbody>\n",
              "    <tr>\n",
              "      <th>factu_nume</th>\n",
              "      <td>304120.0</td>\n",
              "      <td>279496.98</td>\n",
              "      <td>135206.59</td>\n",
              "      <td>12.00</td>\n",
              "      <td>231241.00</td>\n",
              "      <td>313808.00</td>\n",
              "      <td>373926.00</td>\n",
              "      <td>473513.00</td>\n",
              "    </tr>\n",
              "    <tr>\n",
              "      <th>precio_uni</th>\n",
              "      <td>304120.0</td>\n",
              "      <td>719.27</td>\n",
              "      <td>1481.22</td>\n",
              "      <td>0.00</td>\n",
              "      <td>118.22</td>\n",
              "      <td>313.35</td>\n",
              "      <td>724.92</td>\n",
              "      <td>99101.10</td>\n",
              "    </tr>\n",
              "    <tr>\n",
              "      <th>precio_uni_neto</th>\n",
              "      <td>304120.0</td>\n",
              "      <td>706.65</td>\n",
              "      <td>1458.56</td>\n",
              "      <td>0.00</td>\n",
              "      <td>112.07</td>\n",
              "      <td>305.88</td>\n",
              "      <td>716.50</td>\n",
              "      <td>99101.10</td>\n",
              "    </tr>\n",
              "    <tr>\n",
              "      <th>boni_impor_precio</th>\n",
              "      <td>304120.0</td>\n",
              "      <td>34.32</td>\n",
              "      <td>169.75</td>\n",
              "      <td>0.00</td>\n",
              "      <td>0.00</td>\n",
              "      <td>0.00</td>\n",
              "      <td>21.14</td>\n",
              "      <td>15675.32</td>\n",
              "    </tr>\n",
              "    <tr>\n",
              "      <th>canti_venta</th>\n",
              "      <td>304120.0</td>\n",
              "      <td>6.86</td>\n",
              "      <td>23.61</td>\n",
              "      <td>1.00</td>\n",
              "      <td>1.00</td>\n",
              "      <td>3.00</td>\n",
              "      <td>6.00</td>\n",
              "      <td>1680.00</td>\n",
              "    </tr>\n",
              "    <tr>\n",
              "      <th>conver</th>\n",
              "      <td>304120.0</td>\n",
              "      <td>11.35</td>\n",
              "      <td>42.82</td>\n",
              "      <td>1.00</td>\n",
              "      <td>1.00</td>\n",
              "      <td>1.00</td>\n",
              "      <td>1.00</td>\n",
              "      <td>2724.00</td>\n",
              "    </tr>\n",
              "    <tr>\n",
              "      <th>canti</th>\n",
              "      <td>304120.0</td>\n",
              "      <td>22.78</td>\n",
              "      <td>75.13</td>\n",
              "      <td>1.00</td>\n",
              "      <td>3.00</td>\n",
              "      <td>6.00</td>\n",
              "      <td>14.00</td>\n",
              "      <td>4625.00</td>\n",
              "    </tr>\n",
              "    <tr>\n",
              "      <th>impor_grava</th>\n",
              "      <td>304120.0</td>\n",
              "      <td>1633.22</td>\n",
              "      <td>2810.05</td>\n",
              "      <td>0.00</td>\n",
              "      <td>481.91</td>\n",
              "      <td>902.05</td>\n",
              "      <td>1785.06</td>\n",
              "      <td>295089.31</td>\n",
              "    </tr>\n",
              "    <tr>\n",
              "      <th>iva1_impor</th>\n",
              "      <td>304120.0</td>\n",
              "      <td>342.98</td>\n",
              "      <td>590.11</td>\n",
              "      <td>0.00</td>\n",
              "      <td>101.20</td>\n",
              "      <td>189.43</td>\n",
              "      <td>374.87</td>\n",
              "      <td>61968.76</td>\n",
              "    </tr>\n",
              "    <tr>\n",
              "      <th>iva_percep_impor</th>\n",
              "      <td>304120.0</td>\n",
              "      <td>7.83</td>\n",
              "      <td>57.04</td>\n",
              "      <td>0.00</td>\n",
              "      <td>0.00</td>\n",
              "      <td>0.00</td>\n",
              "      <td>0.00</td>\n",
              "      <td>4307.72</td>\n",
              "    </tr>\n",
              "    <tr>\n",
              "      <th>precio_total</th>\n",
              "      <td>304120.0</td>\n",
              "      <td>1984.03</td>\n",
              "      <td>3416.72</td>\n",
              "      <td>0.00</td>\n",
              "      <td>586.40</td>\n",
              "      <td>1095.74</td>\n",
              "      <td>2172.12</td>\n",
              "      <td>357058.07</td>\n",
              "    </tr>\n",
              "    <tr>\n",
              "      <th>total</th>\n",
              "      <td>304120.0</td>\n",
              "      <td>23474.78</td>\n",
              "      <td>40754.81</td>\n",
              "      <td>0.33</td>\n",
              "      <td>4782.53</td>\n",
              "      <td>11326.29</td>\n",
              "      <td>26234.81</td>\n",
              "      <td>822655.09</td>\n",
              "    </tr>\n",
              "    <tr>\n",
              "      <th>iva1</th>\n",
              "      <td>304120.0</td>\n",
              "      <td>4056.09</td>\n",
              "      <td>7012.41</td>\n",
              "      <td>0.06</td>\n",
              "      <td>824.77</td>\n",
              "      <td>1960.85</td>\n",
              "      <td>4548.60</td>\n",
              "      <td>142774.85</td>\n",
              "    </tr>\n",
              "  </tbody>\n",
              "</table>\n",
              "</div>"
            ],
            "text/plain": [
              "                      count       mean        std    min        25%  \\\n",
              "factu_nume         304120.0  279496.98  135206.59  12.00  231241.00   \n",
              "precio_uni         304120.0     719.27    1481.22   0.00     118.22   \n",
              "precio_uni_neto    304120.0     706.65    1458.56   0.00     112.07   \n",
              "boni_impor_precio  304120.0      34.32     169.75   0.00       0.00   \n",
              "canti_venta        304120.0       6.86      23.61   1.00       1.00   \n",
              "conver             304120.0      11.35      42.82   1.00       1.00   \n",
              "canti              304120.0      22.78      75.13   1.00       3.00   \n",
              "impor_grava        304120.0    1633.22    2810.05   0.00     481.91   \n",
              "iva1_impor         304120.0     342.98     590.11   0.00     101.20   \n",
              "iva_percep_impor   304120.0       7.83      57.04   0.00       0.00   \n",
              "precio_total       304120.0    1984.03    3416.72   0.00     586.40   \n",
              "total              304120.0   23474.78   40754.81   0.33    4782.53   \n",
              "iva1               304120.0    4056.09    7012.41   0.06     824.77   \n",
              "\n",
              "                         50%        75%        max  \n",
              "factu_nume         313808.00  373926.00  473513.00  \n",
              "precio_uni            313.35     724.92   99101.10  \n",
              "precio_uni_neto       305.88     716.50   99101.10  \n",
              "boni_impor_precio       0.00      21.14   15675.32  \n",
              "canti_venta             3.00       6.00    1680.00  \n",
              "conver                  1.00       1.00    2724.00  \n",
              "canti                   6.00      14.00    4625.00  \n",
              "impor_grava           902.05    1785.06  295089.31  \n",
              "iva1_impor            189.43     374.87   61968.76  \n",
              "iva_percep_impor        0.00       0.00    4307.72  \n",
              "precio_total         1095.74    2172.12  357058.07  \n",
              "total               11326.29   26234.81  822655.09  \n",
              "iva1                 1960.85    4548.60  142774.85  "
            ]
          },
          "execution_count": 22,
          "metadata": {},
          "output_type": "execute_result"
        }
      ],
      "source": [
        "# Resumen estadístico de las facturas\n",
        "invoice_numeric = invoice_df.select_dtypes(include=[np.number])\n",
        "invoice_numeric.describe().T.astype('float64').round(2)"
      ]
    },
    {
      "cell_type": "markdown",
      "id": "c275835d",
      "metadata": {
        "id": "c275835d"
      },
      "source": [
        "- Algunas de las columnas contienen redundancia de información, y pueden ser calculadas a partir de otras."
      ]
    },
    {
      "cell_type": "code",
      "execution_count": 23,
      "id": "49586a6b",
      "metadata": {
        "colab": {
          "base_uri": "https://localhost:8080/",
          "height": 477
        },
        "id": "49586a6b",
        "outputId": "70ee34db-86ec-4973-e3d0-6ef9159c05e6"
      },
      "outputs": [
        {
          "data": {
            "text/html": [
              "<style type=\"text/css\">\n",
              "#T_4412f_row0_col0, #T_4412f_row1_col1, #T_4412f_row1_col2, #T_4412f_row2_col1, #T_4412f_row2_col2, #T_4412f_row3_col3, #T_4412f_row4_col4, #T_4412f_row5_col5, #T_4412f_row6_col6, #T_4412f_row7_col7, #T_4412f_row7_col8, #T_4412f_row7_col10, #T_4412f_row8_col7, #T_4412f_row8_col8, #T_4412f_row8_col10, #T_4412f_row9_col9, #T_4412f_row10_col7, #T_4412f_row10_col8, #T_4412f_row10_col10, #T_4412f_row11_col11, #T_4412f_row11_col12, #T_4412f_row12_col11, #T_4412f_row12_col12 {\n",
              "  background-color: #b40426;\n",
              "  color: #f1f1f1;\n",
              "}\n",
              "#T_4412f_row0_col1, #T_4412f_row1_col0 {\n",
              "  background-color: #4257c9;\n",
              "  color: #f1f1f1;\n",
              "}\n",
              "#T_4412f_row0_col2, #T_4412f_row2_col0 {\n",
              "  background-color: #4358cb;\n",
              "  color: #f1f1f1;\n",
              "}\n",
              "#T_4412f_row0_col3, #T_4412f_row3_col0 {\n",
              "  background-color: #4c66d6;\n",
              "  color: #f1f1f1;\n",
              "}\n",
              "#T_4412f_row0_col4, #T_4412f_row0_col5, #T_4412f_row0_col6, #T_4412f_row4_col0, #T_4412f_row5_col0, #T_4412f_row6_col0, #T_4412f_row6_col9, #T_4412f_row9_col6 {\n",
              "  background-color: #688aef;\n",
              "  color: #f1f1f1;\n",
              "}\n",
              "#T_4412f_row0_col7, #T_4412f_row0_col8, #T_4412f_row0_col10, #T_4412f_row7_col0, #T_4412f_row8_col0, #T_4412f_row10_col0 {\n",
              "  background-color: #3b4cc0;\n",
              "  color: #f1f1f1;\n",
              "}\n",
              "#T_4412f_row0_col9, #T_4412f_row9_col0 {\n",
              "  background-color: #4e68d8;\n",
              "  color: #f1f1f1;\n",
              "}\n",
              "#T_4412f_row0_col11, #T_4412f_row0_col12, #T_4412f_row11_col0, #T_4412f_row12_col0 {\n",
              "  background-color: #445acc;\n",
              "  color: #f1f1f1;\n",
              "}\n",
              "#T_4412f_row1_col3, #T_4412f_row3_col1, #T_4412f_row3_col6, #T_4412f_row6_col3 {\n",
              "  background-color: #6687ed;\n",
              "  color: #f1f1f1;\n",
              "}\n",
              "#T_4412f_row1_col4, #T_4412f_row2_col4, #T_4412f_row4_col1, #T_4412f_row4_col2 {\n",
              "  background-color: #4b64d5;\n",
              "  color: #f1f1f1;\n",
              "}\n",
              "#T_4412f_row1_col5, #T_4412f_row2_col5, #T_4412f_row5_col1, #T_4412f_row5_col2 {\n",
              "  background-color: #92b4fe;\n",
              "  color: #000000;\n",
              "}\n",
              "#T_4412f_row1_col6, #T_4412f_row6_col1 {\n",
              "  background-color: #799cf8;\n",
              "  color: #f1f1f1;\n",
              "}\n",
              "#T_4412f_row1_col7, #T_4412f_row1_col8, #T_4412f_row1_col10, #T_4412f_row2_col10, #T_4412f_row7_col1, #T_4412f_row8_col1, #T_4412f_row10_col1, #T_4412f_row10_col2 {\n",
              "  background-color: #f2cab5;\n",
              "  color: #000000;\n",
              "}\n",
              "#T_4412f_row1_col9, #T_4412f_row4_col7, #T_4412f_row4_col8, #T_4412f_row4_col10, #T_4412f_row7_col4, #T_4412f_row8_col4, #T_4412f_row9_col1, #T_4412f_row10_col4 {\n",
              "  background-color: #8db0fe;\n",
              "  color: #000000;\n",
              "}\n",
              "#T_4412f_row1_col11, #T_4412f_row1_col12, #T_4412f_row2_col11, #T_4412f_row2_col12, #T_4412f_row11_col1, #T_4412f_row11_col2, #T_4412f_row12_col1, #T_4412f_row12_col2 {\n",
              "  background-color: #aac7fd;\n",
              "  color: #000000;\n",
              "}\n",
              "#T_4412f_row2_col3, #T_4412f_row3_col2 {\n",
              "  background-color: #6180e9;\n",
              "  color: #f1f1f1;\n",
              "}\n",
              "#T_4412f_row2_col6, #T_4412f_row6_col2 {\n",
              "  background-color: #779af7;\n",
              "  color: #f1f1f1;\n",
              "}\n",
              "#T_4412f_row2_col7, #T_4412f_row2_col8, #T_4412f_row7_col2, #T_4412f_row8_col2 {\n",
              "  background-color: #f2c9b4;\n",
              "  color: #000000;\n",
              "}\n",
              "#T_4412f_row2_col9, #T_4412f_row9_col2 {\n",
              "  background-color: #8caffe;\n",
              "  color: #000000;\n",
              "}\n",
              "#T_4412f_row3_col4, #T_4412f_row4_col3 {\n",
              "  background-color: #7699f6;\n",
              "  color: #f1f1f1;\n",
              "}\n",
              "#T_4412f_row3_col5, #T_4412f_row5_col3 {\n",
              "  background-color: #5e7de7;\n",
              "  color: #f1f1f1;\n",
              "}\n",
              "#T_4412f_row3_col7, #T_4412f_row3_col8, #T_4412f_row3_col10, #T_4412f_row7_col3, #T_4412f_row8_col3, #T_4412f_row10_col3 {\n",
              "  background-color: #9dbdff;\n",
              "  color: #000000;\n",
              "}\n",
              "#T_4412f_row3_col9, #T_4412f_row9_col3 {\n",
              "  background-color: #80a3fa;\n",
              "  color: #f1f1f1;\n",
              "}\n",
              "#T_4412f_row3_col11, #T_4412f_row3_col12, #T_4412f_row11_col3, #T_4412f_row12_col3 {\n",
              "  background-color: #84a7fc;\n",
              "  color: #f1f1f1;\n",
              "}\n",
              "#T_4412f_row4_col5, #T_4412f_row5_col4 {\n",
              "  background-color: #5673e0;\n",
              "  color: #f1f1f1;\n",
              "}\n",
              "#T_4412f_row4_col6, #T_4412f_row6_col4, #T_4412f_row7_col9, #T_4412f_row8_col9, #T_4412f_row9_col7, #T_4412f_row9_col8 {\n",
              "  background-color: #bad0f8;\n",
              "  color: #000000;\n",
              "}\n",
              "#T_4412f_row4_col9, #T_4412f_row4_col11, #T_4412f_row4_col12, #T_4412f_row5_col7, #T_4412f_row5_col8, #T_4412f_row5_col10, #T_4412f_row5_col11, #T_4412f_row5_col12, #T_4412f_row7_col5, #T_4412f_row8_col5, #T_4412f_row9_col4, #T_4412f_row10_col5, #T_4412f_row11_col4, #T_4412f_row11_col5, #T_4412f_row12_col4, #T_4412f_row12_col5 {\n",
              "  background-color: #6f92f3;\n",
              "  color: #f1f1f1;\n",
              "}\n",
              "#T_4412f_row5_col6, #T_4412f_row6_col5 {\n",
              "  background-color: #f08a6c;\n",
              "  color: #f1f1f1;\n",
              "}\n",
              "#T_4412f_row5_col9, #T_4412f_row9_col5 {\n",
              "  background-color: #6384eb;\n",
              "  color: #f1f1f1;\n",
              "}\n",
              "#T_4412f_row6_col7, #T_4412f_row6_col8, #T_4412f_row6_col10, #T_4412f_row7_col6, #T_4412f_row8_col6, #T_4412f_row10_col6 {\n",
              "  background-color: #89acfd;\n",
              "  color: #000000;\n",
              "}\n",
              "#T_4412f_row6_col11, #T_4412f_row6_col12, #T_4412f_row11_col6, #T_4412f_row12_col6 {\n",
              "  background-color: #7a9df8;\n",
              "  color: #f1f1f1;\n",
              "}\n",
              "#T_4412f_row7_col11, #T_4412f_row7_col12, #T_4412f_row8_col11, #T_4412f_row8_col12, #T_4412f_row10_col11, #T_4412f_row10_col12, #T_4412f_row11_col7, #T_4412f_row11_col8, #T_4412f_row11_col10, #T_4412f_row12_col7, #T_4412f_row12_col8, #T_4412f_row12_col10 {\n",
              "  background-color: #d2dbe8;\n",
              "  color: #000000;\n",
              "}\n",
              "#T_4412f_row9_col10, #T_4412f_row10_col9 {\n",
              "  background-color: #bed2f6;\n",
              "  color: #000000;\n",
              "}\n",
              "#T_4412f_row9_col11, #T_4412f_row11_col9 {\n",
              "  background-color: #9bbcff;\n",
              "  color: #000000;\n",
              "}\n",
              "#T_4412f_row9_col12, #T_4412f_row12_col9 {\n",
              "  background-color: #98b9ff;\n",
              "  color: #000000;\n",
              "}\n",
              "</style>\n",
              "<table id=\"T_4412f\">\n",
              "  <thead>\n",
              "    <tr>\n",
              "      <th class=\"blank level0\" >&nbsp;</th>\n",
              "      <th id=\"T_4412f_level0_col0\" class=\"col_heading level0 col0\" >factu_nume</th>\n",
              "      <th id=\"T_4412f_level0_col1\" class=\"col_heading level0 col1\" >precio_uni</th>\n",
              "      <th id=\"T_4412f_level0_col2\" class=\"col_heading level0 col2\" >precio_uni_neto</th>\n",
              "      <th id=\"T_4412f_level0_col3\" class=\"col_heading level0 col3\" >boni_impor_precio</th>\n",
              "      <th id=\"T_4412f_level0_col4\" class=\"col_heading level0 col4\" >canti_venta</th>\n",
              "      <th id=\"T_4412f_level0_col5\" class=\"col_heading level0 col5\" >conver</th>\n",
              "      <th id=\"T_4412f_level0_col6\" class=\"col_heading level0 col6\" >canti</th>\n",
              "      <th id=\"T_4412f_level0_col7\" class=\"col_heading level0 col7\" >impor_grava</th>\n",
              "      <th id=\"T_4412f_level0_col8\" class=\"col_heading level0 col8\" >iva1_impor</th>\n",
              "      <th id=\"T_4412f_level0_col9\" class=\"col_heading level0 col9\" >iva_percep_impor</th>\n",
              "      <th id=\"T_4412f_level0_col10\" class=\"col_heading level0 col10\" >precio_total</th>\n",
              "      <th id=\"T_4412f_level0_col11\" class=\"col_heading level0 col11\" >total</th>\n",
              "      <th id=\"T_4412f_level0_col12\" class=\"col_heading level0 col12\" >iva1</th>\n",
              "    </tr>\n",
              "  </thead>\n",
              "  <tbody>\n",
              "    <tr>\n",
              "      <th id=\"T_4412f_level0_row0\" class=\"row_heading level0 row0\" >factu_nume</th>\n",
              "      <td id=\"T_4412f_row0_col0\" class=\"data row0 col0\" >1.00</td>\n",
              "      <td id=\"T_4412f_row0_col1\" class=\"data row0 col1\" >-0.13</td>\n",
              "      <td id=\"T_4412f_row0_col2\" class=\"data row0 col2\" >-0.13</td>\n",
              "      <td id=\"T_4412f_row0_col3\" class=\"data row0 col3\" >-0.09</td>\n",
              "      <td id=\"T_4412f_row0_col4\" class=\"data row0 col4\" >0.01</td>\n",
              "      <td id=\"T_4412f_row0_col5\" class=\"data row0 col5\" >0.01</td>\n",
              "      <td id=\"T_4412f_row0_col6\" class=\"data row0 col6\" >0.01</td>\n",
              "      <td id=\"T_4412f_row0_col7\" class=\"data row0 col7\" >-0.16</td>\n",
              "      <td id=\"T_4412f_row0_col8\" class=\"data row0 col8\" >-0.16</td>\n",
              "      <td id=\"T_4412f_row0_col9\" class=\"data row0 col9\" >-0.08</td>\n",
              "      <td id=\"T_4412f_row0_col10\" class=\"data row0 col10\" >-0.16</td>\n",
              "      <td id=\"T_4412f_row0_col11\" class=\"data row0 col11\" >-0.12</td>\n",
              "      <td id=\"T_4412f_row0_col12\" class=\"data row0 col12\" >-0.12</td>\n",
              "    </tr>\n",
              "    <tr>\n",
              "      <th id=\"T_4412f_level0_row1\" class=\"row_heading level0 row1\" >precio_uni</th>\n",
              "      <td id=\"T_4412f_row1_col0\" class=\"data row1 col0\" >-0.13</td>\n",
              "      <td id=\"T_4412f_row1_col1\" class=\"data row1 col1\" >1.00</td>\n",
              "      <td id=\"T_4412f_row1_col2\" class=\"data row1 col2\" >1.00</td>\n",
              "      <td id=\"T_4412f_row1_col3\" class=\"data row1 col3\" >-0.00</td>\n",
              "      <td id=\"T_4412f_row1_col4\" class=\"data row1 col4\" >-0.09</td>\n",
              "      <td id=\"T_4412f_row1_col5\" class=\"data row1 col5\" >0.15</td>\n",
              "      <td id=\"T_4412f_row1_col6\" class=\"data row1 col6\" >0.06</td>\n",
              "      <td id=\"T_4412f_row1_col7\" class=\"data row1 col7\" >0.54</td>\n",
              "      <td id=\"T_4412f_row1_col8\" class=\"data row1 col8\" >0.54</td>\n",
              "      <td id=\"T_4412f_row1_col9\" class=\"data row1 col9\" >0.13</td>\n",
              "      <td id=\"T_4412f_row1_col10\" class=\"data row1 col10\" >0.54</td>\n",
              "      <td id=\"T_4412f_row1_col11\" class=\"data row1 col11\" >0.23</td>\n",
              "      <td id=\"T_4412f_row1_col12\" class=\"data row1 col12\" >0.23</td>\n",
              "    </tr>\n",
              "    <tr>\n",
              "      <th id=\"T_4412f_level0_row2\" class=\"row_heading level0 row2\" >precio_uni_neto</th>\n",
              "      <td id=\"T_4412f_row2_col0\" class=\"data row2 col0\" >-0.13</td>\n",
              "      <td id=\"T_4412f_row2_col1\" class=\"data row2 col1\" >1.00</td>\n",
              "      <td id=\"T_4412f_row2_col2\" class=\"data row2 col2\" >1.00</td>\n",
              "      <td id=\"T_4412f_row2_col3\" class=\"data row2 col3\" >-0.02</td>\n",
              "      <td id=\"T_4412f_row2_col4\" class=\"data row2 col4\" >-0.09</td>\n",
              "      <td id=\"T_4412f_row2_col5\" class=\"data row2 col5\" >0.14</td>\n",
              "      <td id=\"T_4412f_row2_col6\" class=\"data row2 col6\" >0.06</td>\n",
              "      <td id=\"T_4412f_row2_col7\" class=\"data row2 col7\" >0.54</td>\n",
              "      <td id=\"T_4412f_row2_col8\" class=\"data row2 col8\" >0.54</td>\n",
              "      <td id=\"T_4412f_row2_col9\" class=\"data row2 col9\" >0.13</td>\n",
              "      <td id=\"T_4412f_row2_col10\" class=\"data row2 col10\" >0.54</td>\n",
              "      <td id=\"T_4412f_row2_col11\" class=\"data row2 col11\" >0.23</td>\n",
              "      <td id=\"T_4412f_row2_col12\" class=\"data row2 col12\" >0.23</td>\n",
              "    </tr>\n",
              "    <tr>\n",
              "      <th id=\"T_4412f_level0_row3\" class=\"row_heading level0 row3\" >boni_impor_precio</th>\n",
              "      <td id=\"T_4412f_row3_col0\" class=\"data row3 col0\" >-0.09</td>\n",
              "      <td id=\"T_4412f_row3_col1\" class=\"data row3 col1\" >-0.00</td>\n",
              "      <td id=\"T_4412f_row3_col2\" class=\"data row3 col2\" >-0.02</td>\n",
              "      <td id=\"T_4412f_row3_col3\" class=\"data row3 col3\" >1.00</td>\n",
              "      <td id=\"T_4412f_row3_col4\" class=\"data row3 col4\" >0.06</td>\n",
              "      <td id=\"T_4412f_row3_col5\" class=\"data row3 col5\" >-0.03</td>\n",
              "      <td id=\"T_4412f_row3_col6\" class=\"data row3 col6\" >0.00</td>\n",
              "      <td id=\"T_4412f_row3_col7\" class=\"data row3 col7\" >0.18</td>\n",
              "      <td id=\"T_4412f_row3_col8\" class=\"data row3 col8\" >0.18</td>\n",
              "      <td id=\"T_4412f_row3_col9\" class=\"data row3 col9\" >0.09</td>\n",
              "      <td id=\"T_4412f_row3_col10\" class=\"data row3 col10\" >0.18</td>\n",
              "      <td id=\"T_4412f_row3_col11\" class=\"data row3 col11\" >0.10</td>\n",
              "      <td id=\"T_4412f_row3_col12\" class=\"data row3 col12\" >0.10</td>\n",
              "    </tr>\n",
              "    <tr>\n",
              "      <th id=\"T_4412f_level0_row4\" class=\"row_heading level0 row4\" >canti_venta</th>\n",
              "      <td id=\"T_4412f_row4_col0\" class=\"data row4 col0\" >0.01</td>\n",
              "      <td id=\"T_4412f_row4_col1\" class=\"data row4 col1\" >-0.09</td>\n",
              "      <td id=\"T_4412f_row4_col2\" class=\"data row4 col2\" >-0.09</td>\n",
              "      <td id=\"T_4412f_row4_col3\" class=\"data row4 col3\" >0.06</td>\n",
              "      <td id=\"T_4412f_row4_col4\" class=\"data row4 col4\" >1.00</td>\n",
              "      <td id=\"T_4412f_row4_col5\" class=\"data row4 col5\" >-0.05</td>\n",
              "      <td id=\"T_4412f_row4_col6\" class=\"data row4 col6\" >0.28</td>\n",
              "      <td id=\"T_4412f_row4_col7\" class=\"data row4 col7\" >0.13</td>\n",
              "      <td id=\"T_4412f_row4_col8\" class=\"data row4 col8\" >0.13</td>\n",
              "      <td id=\"T_4412f_row4_col9\" class=\"data row4 col9\" >0.03</td>\n",
              "      <td id=\"T_4412f_row4_col10\" class=\"data row4 col10\" >0.13</td>\n",
              "      <td id=\"T_4412f_row4_col11\" class=\"data row4 col11\" >0.03</td>\n",
              "      <td id=\"T_4412f_row4_col12\" class=\"data row4 col12\" >0.03</td>\n",
              "    </tr>\n",
              "    <tr>\n",
              "      <th id=\"T_4412f_level0_row5\" class=\"row_heading level0 row5\" >conver</th>\n",
              "      <td id=\"T_4412f_row5_col0\" class=\"data row5 col0\" >0.01</td>\n",
              "      <td id=\"T_4412f_row5_col1\" class=\"data row5 col1\" >0.15</td>\n",
              "      <td id=\"T_4412f_row5_col2\" class=\"data row5 col2\" >0.14</td>\n",
              "      <td id=\"T_4412f_row5_col3\" class=\"data row5 col3\" >-0.03</td>\n",
              "      <td id=\"T_4412f_row5_col4\" class=\"data row5 col4\" >-0.05</td>\n",
              "      <td id=\"T_4412f_row5_col5\" class=\"data row5 col5\" >1.00</td>\n",
              "      <td id=\"T_4412f_row5_col6\" class=\"data row5 col6\" >0.75</td>\n",
              "      <td id=\"T_4412f_row5_col7\" class=\"data row5 col7\" >0.03</td>\n",
              "      <td id=\"T_4412f_row5_col8\" class=\"data row5 col8\" >0.03</td>\n",
              "      <td id=\"T_4412f_row5_col9\" class=\"data row5 col9\" >-0.01</td>\n",
              "      <td id=\"T_4412f_row5_col10\" class=\"data row5 col10\" >0.03</td>\n",
              "      <td id=\"T_4412f_row5_col11\" class=\"data row5 col11\" >0.03</td>\n",
              "      <td id=\"T_4412f_row5_col12\" class=\"data row5 col12\" >0.04</td>\n",
              "    </tr>\n",
              "    <tr>\n",
              "      <th id=\"T_4412f_level0_row6\" class=\"row_heading level0 row6\" >canti</th>\n",
              "      <td id=\"T_4412f_row6_col0\" class=\"data row6 col0\" >0.01</td>\n",
              "      <td id=\"T_4412f_row6_col1\" class=\"data row6 col1\" >0.06</td>\n",
              "      <td id=\"T_4412f_row6_col2\" class=\"data row6 col2\" >0.06</td>\n",
              "      <td id=\"T_4412f_row6_col3\" class=\"data row6 col3\" >0.00</td>\n",
              "      <td id=\"T_4412f_row6_col4\" class=\"data row6 col4\" >0.28</td>\n",
              "      <td id=\"T_4412f_row6_col5\" class=\"data row6 col5\" >0.75</td>\n",
              "      <td id=\"T_4412f_row6_col6\" class=\"data row6 col6\" >1.00</td>\n",
              "      <td id=\"T_4412f_row6_col7\" class=\"data row6 col7\" >0.12</td>\n",
              "      <td id=\"T_4412f_row6_col8\" class=\"data row6 col8\" >0.12</td>\n",
              "      <td id=\"T_4412f_row6_col9\" class=\"data row6 col9\" >0.01</td>\n",
              "      <td id=\"T_4412f_row6_col10\" class=\"data row6 col10\" >0.12</td>\n",
              "      <td id=\"T_4412f_row6_col11\" class=\"data row6 col11\" >0.07</td>\n",
              "      <td id=\"T_4412f_row6_col12\" class=\"data row6 col12\" >0.07</td>\n",
              "    </tr>\n",
              "    <tr>\n",
              "      <th id=\"T_4412f_level0_row7\" class=\"row_heading level0 row7\" >impor_grava</th>\n",
              "      <td id=\"T_4412f_row7_col0\" class=\"data row7 col0\" >-0.16</td>\n",
              "      <td id=\"T_4412f_row7_col1\" class=\"data row7 col1\" >0.54</td>\n",
              "      <td id=\"T_4412f_row7_col2\" class=\"data row7 col2\" >0.54</td>\n",
              "      <td id=\"T_4412f_row7_col3\" class=\"data row7 col3\" >0.18</td>\n",
              "      <td id=\"T_4412f_row7_col4\" class=\"data row7 col4\" >0.13</td>\n",
              "      <td id=\"T_4412f_row7_col5\" class=\"data row7 col5\" >0.03</td>\n",
              "      <td id=\"T_4412f_row7_col6\" class=\"data row7 col6\" >0.12</td>\n",
              "      <td id=\"T_4412f_row7_col7\" class=\"data row7 col7\" >1.00</td>\n",
              "      <td id=\"T_4412f_row7_col8\" class=\"data row7 col8\" >1.00</td>\n",
              "      <td id=\"T_4412f_row7_col9\" class=\"data row7 col9\" >0.28</td>\n",
              "      <td id=\"T_4412f_row7_col10\" class=\"data row7 col10\" >1.00</td>\n",
              "      <td id=\"T_4412f_row7_col11\" class=\"data row7 col11\" >0.37</td>\n",
              "      <td id=\"T_4412f_row7_col12\" class=\"data row7 col12\" >0.37</td>\n",
              "    </tr>\n",
              "    <tr>\n",
              "      <th id=\"T_4412f_level0_row8\" class=\"row_heading level0 row8\" >iva1_impor</th>\n",
              "      <td id=\"T_4412f_row8_col0\" class=\"data row8 col0\" >-0.16</td>\n",
              "      <td id=\"T_4412f_row8_col1\" class=\"data row8 col1\" >0.54</td>\n",
              "      <td id=\"T_4412f_row8_col2\" class=\"data row8 col2\" >0.54</td>\n",
              "      <td id=\"T_4412f_row8_col3\" class=\"data row8 col3\" >0.18</td>\n",
              "      <td id=\"T_4412f_row8_col4\" class=\"data row8 col4\" >0.13</td>\n",
              "      <td id=\"T_4412f_row8_col5\" class=\"data row8 col5\" >0.03</td>\n",
              "      <td id=\"T_4412f_row8_col6\" class=\"data row8 col6\" >0.12</td>\n",
              "      <td id=\"T_4412f_row8_col7\" class=\"data row8 col7\" >1.00</td>\n",
              "      <td id=\"T_4412f_row8_col8\" class=\"data row8 col8\" >1.00</td>\n",
              "      <td id=\"T_4412f_row8_col9\" class=\"data row8 col9\" >0.28</td>\n",
              "      <td id=\"T_4412f_row8_col10\" class=\"data row8 col10\" >1.00</td>\n",
              "      <td id=\"T_4412f_row8_col11\" class=\"data row8 col11\" >0.37</td>\n",
              "      <td id=\"T_4412f_row8_col12\" class=\"data row8 col12\" >0.37</td>\n",
              "    </tr>\n",
              "    <tr>\n",
              "      <th id=\"T_4412f_level0_row9\" class=\"row_heading level0 row9\" >iva_percep_impor</th>\n",
              "      <td id=\"T_4412f_row9_col0\" class=\"data row9 col0\" >-0.08</td>\n",
              "      <td id=\"T_4412f_row9_col1\" class=\"data row9 col1\" >0.13</td>\n",
              "      <td id=\"T_4412f_row9_col2\" class=\"data row9 col2\" >0.13</td>\n",
              "      <td id=\"T_4412f_row9_col3\" class=\"data row9 col3\" >0.09</td>\n",
              "      <td id=\"T_4412f_row9_col4\" class=\"data row9 col4\" >0.03</td>\n",
              "      <td id=\"T_4412f_row9_col5\" class=\"data row9 col5\" >-0.01</td>\n",
              "      <td id=\"T_4412f_row9_col6\" class=\"data row9 col6\" >0.01</td>\n",
              "      <td id=\"T_4412f_row9_col7\" class=\"data row9 col7\" >0.28</td>\n",
              "      <td id=\"T_4412f_row9_col8\" class=\"data row9 col8\" >0.28</td>\n",
              "      <td id=\"T_4412f_row9_col9\" class=\"data row9 col9\" >1.00</td>\n",
              "      <td id=\"T_4412f_row9_col10\" class=\"data row9 col10\" >0.30</td>\n",
              "      <td id=\"T_4412f_row9_col11\" class=\"data row9 col11\" >0.18</td>\n",
              "      <td id=\"T_4412f_row9_col12\" class=\"data row9 col12\" >0.17</td>\n",
              "    </tr>\n",
              "    <tr>\n",
              "      <th id=\"T_4412f_level0_row10\" class=\"row_heading level0 row10\" >precio_total</th>\n",
              "      <td id=\"T_4412f_row10_col0\" class=\"data row10 col0\" >-0.16</td>\n",
              "      <td id=\"T_4412f_row10_col1\" class=\"data row10 col1\" >0.54</td>\n",
              "      <td id=\"T_4412f_row10_col2\" class=\"data row10 col2\" >0.54</td>\n",
              "      <td id=\"T_4412f_row10_col3\" class=\"data row10 col3\" >0.18</td>\n",
              "      <td id=\"T_4412f_row10_col4\" class=\"data row10 col4\" >0.13</td>\n",
              "      <td id=\"T_4412f_row10_col5\" class=\"data row10 col5\" >0.03</td>\n",
              "      <td id=\"T_4412f_row10_col6\" class=\"data row10 col6\" >0.12</td>\n",
              "      <td id=\"T_4412f_row10_col7\" class=\"data row10 col7\" >1.00</td>\n",
              "      <td id=\"T_4412f_row10_col8\" class=\"data row10 col8\" >1.00</td>\n",
              "      <td id=\"T_4412f_row10_col9\" class=\"data row10 col9\" >0.30</td>\n",
              "      <td id=\"T_4412f_row10_col10\" class=\"data row10 col10\" >1.00</td>\n",
              "      <td id=\"T_4412f_row10_col11\" class=\"data row10 col11\" >0.37</td>\n",
              "      <td id=\"T_4412f_row10_col12\" class=\"data row10 col12\" >0.37</td>\n",
              "    </tr>\n",
              "    <tr>\n",
              "      <th id=\"T_4412f_level0_row11\" class=\"row_heading level0 row11\" >total</th>\n",
              "      <td id=\"T_4412f_row11_col0\" class=\"data row11 col0\" >-0.12</td>\n",
              "      <td id=\"T_4412f_row11_col1\" class=\"data row11 col1\" >0.23</td>\n",
              "      <td id=\"T_4412f_row11_col2\" class=\"data row11 col2\" >0.23</td>\n",
              "      <td id=\"T_4412f_row11_col3\" class=\"data row11 col3\" >0.10</td>\n",
              "      <td id=\"T_4412f_row11_col4\" class=\"data row11 col4\" >0.03</td>\n",
              "      <td id=\"T_4412f_row11_col5\" class=\"data row11 col5\" >0.03</td>\n",
              "      <td id=\"T_4412f_row11_col6\" class=\"data row11 col6\" >0.07</td>\n",
              "      <td id=\"T_4412f_row11_col7\" class=\"data row11 col7\" >0.37</td>\n",
              "      <td id=\"T_4412f_row11_col8\" class=\"data row11 col8\" >0.37</td>\n",
              "      <td id=\"T_4412f_row11_col9\" class=\"data row11 col9\" >0.18</td>\n",
              "      <td id=\"T_4412f_row11_col10\" class=\"data row11 col10\" >0.37</td>\n",
              "      <td id=\"T_4412f_row11_col11\" class=\"data row11 col11\" >1.00</td>\n",
              "      <td id=\"T_4412f_row11_col12\" class=\"data row11 col12\" >1.00</td>\n",
              "    </tr>\n",
              "    <tr>\n",
              "      <th id=\"T_4412f_level0_row12\" class=\"row_heading level0 row12\" >iva1</th>\n",
              "      <td id=\"T_4412f_row12_col0\" class=\"data row12 col0\" >-0.12</td>\n",
              "      <td id=\"T_4412f_row12_col1\" class=\"data row12 col1\" >0.23</td>\n",
              "      <td id=\"T_4412f_row12_col2\" class=\"data row12 col2\" >0.23</td>\n",
              "      <td id=\"T_4412f_row12_col3\" class=\"data row12 col3\" >0.10</td>\n",
              "      <td id=\"T_4412f_row12_col4\" class=\"data row12 col4\" >0.03</td>\n",
              "      <td id=\"T_4412f_row12_col5\" class=\"data row12 col5\" >0.04</td>\n",
              "      <td id=\"T_4412f_row12_col6\" class=\"data row12 col6\" >0.07</td>\n",
              "      <td id=\"T_4412f_row12_col7\" class=\"data row12 col7\" >0.37</td>\n",
              "      <td id=\"T_4412f_row12_col8\" class=\"data row12 col8\" >0.37</td>\n",
              "      <td id=\"T_4412f_row12_col9\" class=\"data row12 col9\" >0.17</td>\n",
              "      <td id=\"T_4412f_row12_col10\" class=\"data row12 col10\" >0.37</td>\n",
              "      <td id=\"T_4412f_row12_col11\" class=\"data row12 col11\" >1.00</td>\n",
              "      <td id=\"T_4412f_row12_col12\" class=\"data row12 col12\" >1.00</td>\n",
              "    </tr>\n",
              "  </tbody>\n",
              "</table>\n"
            ],
            "text/plain": [
              "<pandas.io.formats.style.Styler at 0x7b7c90e25640>"
            ]
          },
          "execution_count": 23,
          "metadata": {},
          "output_type": "execute_result"
        }
      ],
      "source": [
        "# Matriz de correlación\n",
        "invoice_numeric.corr().style.background_gradient(cmap='coolwarm', axis=None).format('{:.2f}')"
      ]
    },
    {
      "cell_type": "markdown",
      "id": "7277e08d",
      "metadata": {
        "id": "7277e08d"
      },
      "source": [
        "🔍 **Observaciones**\n",
        "\n",
        "A partir de analizar combinaciones de las columnas del dataset, se encontraron las siguientes relaciones:\n",
        "1. **Presentación del producto**\n",
        "    - Los **productos** se venden por **unidad**: (un), o por **paquete**:  bolsa/caja (di) y paquete/bulto (bu).\n",
        "\n",
        "    - Un mismo producto (mismo código) se puede vender en diferentes **presentaciones**, por ejemplo, 100 turrones por **unidad**\n",
        "    o 1 **paquete** de 100 turrones.\n",
        "\n",
        "    - El precio unitario es por **paquete**, es decir, 1 un, 1 di o 1 bu.\n",
        "\n",
        "    - La columna `canti_venta` es la cantidad de **paquetes** mientras que canti es por **unidad individual**.\n",
        "\n",
        "    - Conver es la cantidad de productos por **paquete**, por lo que relaciona canti y canti_venta.\n",
        "\n",
        "2. **Detalle de facturación**\n",
        "    - Cada fila representa una línea de factura con: producto, presentación, cantidad, precio, bonificación, IVA e importe total.\n",
        "\n",
        "    - Las bonificaciones se aplican sobre el precio por unidad del producto, dando precio_uni_neto\n",
        "\n",
        "    - `impor_grava` es el importe de los productos de la línea, calculado como precio_uni_neto × canti_venta.\n",
        "\n",
        "    - El `precio_total` se calcula sumando el importe de los productos más impuestos (IVA).\n",
        "\n",
        "3. **Total de facturación**\n",
        "    - `total` e `impor_gravado` son importes sobre el **total** de la factura, y se repiten por cada fila.\n",
        "\n",
        "    - No coinciden con la suma de `precio_total` de todas las filas asociadas a la misma factura, como debería esperarse."
      ]
    },
    {
      "cell_type": "markdown",
      "id": "4dc68d38",
      "metadata": {
        "id": "4dc68d38"
      },
      "source": [
        "En resumen:\n",
        "- canti = canti_venta*conver\n",
        "\n",
        "- precio_total = impor_grava + iva1_impor + iva_percep_impor\n",
        "\n",
        "- impor_grava = canti_venta*precio_uni_neto\n",
        "\n",
        "- total = impor_gravado + iva1\n",
        "\n",
        "✅ Las columnas que aportan mayor información para el análisis de ventas y evitan redundancia son: `precio_uni`, `precio_total`, `canti` y `canti_venta`\n"
      ]
    },
    {
      "cell_type": "markdown",
      "id": "3c6a21e1",
      "metadata": {
        "id": "3c6a21e1"
      },
      "source": [
        "#### 📅 Fechas"
      ]
    },
    {
      "cell_type": "code",
      "execution_count": 24,
      "id": "4b57c0c4",
      "metadata": {
        "colab": {
          "base_uri": "https://localhost:8080/",
          "height": 206
        },
        "id": "4b57c0c4",
        "outputId": "c517eae7-a8c3-4d99-fff5-33b4af348f63"
      },
      "outputs": [
        {
          "data": {
            "text/html": [
              "<div>\n",
              "<style scoped>\n",
              "    .dataframe tbody tr th:only-of-type {\n",
              "        vertical-align: middle;\n",
              "    }\n",
              "\n",
              "    .dataframe tbody tr th {\n",
              "        vertical-align: top;\n",
              "    }\n",
              "\n",
              "    .dataframe thead th {\n",
              "        text-align: right;\n",
              "    }\n",
              "</style>\n",
              "<table border=\"1\" class=\"dataframe\">\n",
              "  <thead>\n",
              "    <tr style=\"text-align: right;\">\n",
              "      <th></th>\n",
              "      <th>entre_fecha</th>\n",
              "      <th>fecha_regis</th>\n",
              "      <th>fecha</th>\n",
              "      <th>fecha_alta</th>\n",
              "    </tr>\n",
              "  </thead>\n",
              "  <tbody>\n",
              "    <tr>\n",
              "      <th>0</th>\n",
              "      <td>2022-01-17</td>\n",
              "      <td>2022-01-17</td>\n",
              "      <td>2022-01-17</td>\n",
              "      <td>2022-01-17 16:06:37.890</td>\n",
              "    </tr>\n",
              "    <tr>\n",
              "      <th>1</th>\n",
              "      <td>2022-01-27</td>\n",
              "      <td>2022-01-28</td>\n",
              "      <td>2022-01-28</td>\n",
              "      <td>2022-01-28 10:01:21.027</td>\n",
              "    </tr>\n",
              "    <tr>\n",
              "      <th>2</th>\n",
              "      <td>2022-01-03</td>\n",
              "      <td>2022-01-03</td>\n",
              "      <td>2022-01-03</td>\n",
              "      <td>2022-01-03 11:52:27.027</td>\n",
              "    </tr>\n",
              "    <tr>\n",
              "      <th>3</th>\n",
              "      <td>2022-01-04</td>\n",
              "      <td>2022-01-03</td>\n",
              "      <td>2022-01-03</td>\n",
              "      <td>2022-01-03 11:52:27.027</td>\n",
              "    </tr>\n",
              "    <tr>\n",
              "      <th>4</th>\n",
              "      <td>2022-01-04</td>\n",
              "      <td>2022-01-03</td>\n",
              "      <td>2022-01-03</td>\n",
              "      <td>2022-01-03 12:49:04.587</td>\n",
              "    </tr>\n",
              "  </tbody>\n",
              "</table>\n",
              "</div>"
            ],
            "text/plain": [
              "  entre_fecha fecha_regis      fecha              fecha_alta\n",
              "0  2022-01-17  2022-01-17 2022-01-17 2022-01-17 16:06:37.890\n",
              "1  2022-01-27  2022-01-28 2022-01-28 2022-01-28 10:01:21.027\n",
              "2  2022-01-03  2022-01-03 2022-01-03 2022-01-03 11:52:27.027\n",
              "3  2022-01-04  2022-01-03 2022-01-03 2022-01-03 11:52:27.027\n",
              "4  2022-01-04  2022-01-03 2022-01-03 2022-01-03 12:49:04.587"
            ]
          },
          "execution_count": 24,
          "metadata": {},
          "output_type": "execute_result"
        }
      ],
      "source": [
        "date_df = filtered_df[column_groups[\"fechas\"]].drop_duplicates().reset_index(drop=True)\n",
        "date_df.head()"
      ]
    },
    {
      "cell_type": "code",
      "execution_count": 25,
      "id": "635c0cd4",
      "metadata": {
        "colab": {
          "base_uri": "https://localhost:8080/"
        },
        "id": "635c0cd4",
        "outputId": "2f8ab859-8adf-41b0-efac-66865a11d3c7"
      },
      "outputs": [
        {
          "name": "stdout",
          "output_type": "stream",
          "text": [
            "Rango temporal: 2022-01-03 00:00:00 a 2024-06-29 00:00:00\n"
          ]
        }
      ],
      "source": [
        "# Rango temporal\n",
        "date_range = date_df['fecha'].agg(['min', 'max'])\n",
        "print(f\"Rango temporal: {date_range['min']} a {date_range['max']}\")"
      ]
    },
    {
      "cell_type": "markdown",
      "id": "3d87108d",
      "metadata": {
        "id": "3d87108d"
      },
      "source": [
        "- El conjunto de datos tiene facturas desde Enero de 2022 hasta Junio de 2024."
      ]
    },
    {
      "cell_type": "code",
      "execution_count": 26,
      "id": "bb5372db",
      "metadata": {
        "colab": {
          "base_uri": "https://localhost:8080/"
        },
        "id": "bb5372db",
        "outputId": "f385317f-0587-41f7-f349-d9cf23630eb4"
      },
      "outputs": [
        {
          "name": "stdout",
          "output_type": "stream",
          "text": [
            "dias_fecha_a_alta\n",
            "0.0    30478\n",
            "Name: count, dtype: int64 \n",
            "\n",
            "dias_fecha_a_regis\n",
            "0.0    30478\n",
            "Name: count, dtype: int64\n"
          ]
        }
      ],
      "source": [
        "date_df['dias_fecha_a_alta'] = (date_df['fecha'].dt.day - date_df['fecha_alta'].dt.day).abs()\n",
        "date_df['dias_fecha_a_regis'] = (date_df['fecha'].dt.day - date_df['fecha_alta'].dt.day).abs()\n",
        "date_df['dias_venta_a_entrega'] = (date_df['fecha'].dt.day - date_df['entre_fecha'].dt.day).abs()\n",
        "# count\n",
        "print(date_df['dias_fecha_a_alta'].value_counts().sort_index(), \"\\n\")\n",
        "print(date_df['dias_fecha_a_regis'].value_counts().sort_index())"
      ]
    },
    {
      "cell_type": "markdown",
      "id": "e3cf5373",
      "metadata": {
        "id": "e3cf5373"
      },
      "source": [
        "✅ Las fechas de **registro**, **alta** y **venta** corresponden al mismo día, por lo que resultan redundantes. Por simplicidad, se conservará únicamente la variable **fecha** que representa la fecha de la venta."
      ]
    },
    {
      "cell_type": "code",
      "execution_count": 27,
      "id": "a65aefc1",
      "metadata": {
        "colab": {
          "base_uri": "https://localhost:8080/",
          "height": 501
        },
        "id": "a65aefc1",
        "outputId": "73d66a1f-e6c9-4455-b5eb-e7493ca10b57"
      },
      "outputs": [
        {
          "data": {
            "image/png": "[encoded data removed]",
            "text/plain": [
              "<Figure size 1300x500 with 1 Axes>"
            ]
          },
          "metadata": {},
          "output_type": "display_data"
        }
      ],
      "source": [
        "date_df['fecha'] = pd.to_datetime(date_df['fecha'])\n",
        "\n",
        "# Agrupar por mes\n",
        "ventas_mensuales = date_df['fecha'].dt.to_period('M').value_counts().sort_index()\n",
        "ventas_mensuales.index = ventas_mensuales.index.to_timestamp()\n",
        "promedio_mensual = ventas_mensuales.mean()\n",
        "labels = ventas_mensuales.index.strftime('%Y-%m')\n",
        "\n",
        "# Graficar\n",
        "plt.figure(figsize=(13, 5))\n",
        "ax = sns.barplot(x=labels, y=ventas_mensuales.values, color='royalblue')\n",
        "plt.axhline(promedio_mensual, color='coral', linestyle='--',\n",
        "            label=f'Promedio: {promedio_mensual:.1f}', alpha=0.7)\n",
        "plt.title('Ventas mensuales')\n",
        "plt.xlabel('Mes')\n",
        "plt.ylabel('Cantidad de ventas')\n",
        "plt.xticks(rotation=45)\n",
        "plt.legend()\n",
        "plt.tight_layout()\n",
        "plt.show()"
      ]
    },
    {
      "cell_type": "markdown",
      "id": "7a408e67",
      "metadata": {
        "id": "7a408e67"
      },
      "source": [
        "- Durante los primeros meses del período analizado (enero a mayo de 2022), el volumen de ventas fue significativamente menor en comparación con los meses posteriores.\n",
        "\n",
        "- Se registraron caídas en el nivel de ventas en abril de 2023 y enero de 2024.\n",
        "\n",
        "- A excepción de los primeros meses, no se evidencia una tendencia clara de crecimiento ni decrecimiento sostenido en el tiempo."
      ]
    },
    {
      "cell_type": "code",
      "execution_count": 28,
      "id": "d0f6c752",
      "metadata": {
        "colab": {
          "base_uri": "https://localhost:8080/",
          "height": 573
        },
        "id": "d0f6c752",
        "outputId": "1927d512-cc65-4492-9caa-516b879ed73b"
      },
      "outputs": [
        {
          "data": {
            "image/png": "[encoded data removed]",
            "text/plain": [
              "<Figure size 1000x600 with 1 Axes>"
            ]
          },
          "metadata": {},
          "output_type": "display_data"
        }
      ],
      "source": [
        "# Histograma de días entre venta y entrega\n",
        "plt.figure(figsize=(10, 6))\n",
        "sns.histplot(date_df['dias_venta_a_entrega'], bins=30, color='royalblue')\n",
        "plt.title('Histograma de diferencias entre fecha de venta y entrega')\n",
        "plt.axvline(date_df['dias_venta_a_entrega'].mean(), color='coral', linestyle='--', label=f'Media: {date_df[\"dias_venta_a_entrega\"].mean():.1f}', alpha=0.7)\n",
        "plt.xlabel('Días entre Venta y Entrega')\n",
        "plt.ylabel('Frecuencia')\n",
        "plt.legend()\n",
        "plt.show()"
      ]
    },
    {
      "cell_type": "markdown",
      "id": "abbd255a",
      "metadata": {
        "id": "abbd255a"
      },
      "source": [
        "- La gran mayoría de las ventas se entregan dentro de 1 a 2 días, mientras que un pequeño porcentaje presenta demoras excepcionales de hasta 30 días."
      ]
    },
    {
      "cell_type": "markdown",
      "id": "abc8fae4",
      "metadata": {
        "id": "abc8fae4"
      },
      "source": [
        "### 📈 2. Análisis y visualización de variables clave"
      ]
    },
    {
      "cell_type": "markdown",
      "id": "2c488d0e",
      "metadata": {
        "id": "2c488d0e"
      },
      "source": [
        "🎯 **Objetivos**:\n",
        "- Identificar los clientes con mayor volumen y cantidad de ventas.\n",
        "\n",
        "- Detectar los productos más y menos vendidos.\n",
        "\n",
        "- Analizar la evolución de ventas, cantidades y precios a lo largo del tiempo.\n",
        "\n",
        "- Evaluar tendencias y posibles estacionalidades."
      ]
    },
    {
      "cell_type": "markdown",
      "id": "add70136",
      "metadata": {
        "id": "add70136"
      },
      "source": [
        "#### 🏆 2.1 Productos y Clientes Destacados\n",
        "\n",
        "- Análisis general desde enero 2022 hasta junio 2024."
      ]
    },
    {
      "cell_type": "code",
      "execution_count": 29,
      "id": "747b76bf",
      "metadata": {
        "id": "747b76bf"
      },
      "outputs": [],
      "source": [
        "# Top 6 productos por cantidad\n",
        "ventas_prod = (\n",
        "    filtered_df\n",
        "    .groupby('descrip')\n",
        "    .agg({\n",
        "        'canti_venta': 'sum',\n",
        "    })\n",
        "    .reset_index()\n",
        "    .rename(columns={'canti_venta': 'ventas', 'descrip': 'producto'})\n",
        ")\n",
        "\n",
        "# Seleccionar top 6\n",
        "top_productos_canti = ventas_prod.sort_values(by='ventas', ascending=False).head(6)\n",
        "\n",
        "# Top 6 clientes por cantidad\n",
        "top_clientes_canti = (\n",
        "    filtered_df\n",
        "    .groupby('cliente')\n",
        "    .agg({'canti_venta': 'sum', 'nombre': 'first'})\n",
        "    .reset_index()\n",
        "    .rename(columns={'canti_venta': 'ventas'})\n",
        "    .sort_values(by='ventas', ascending=False)\n",
        "    .head(6)\n",
        ")\n"
      ]
    },
    {
      "cell_type": "code",
      "execution_count": 30,
      "id": "ccafe62a",
      "metadata": {
        "colab": {
          "base_uri": "https://localhost:8080/",
          "height": 542
        },
        "id": "ccafe62a",
        "outputId": "a322c5e7-e179-4933-f570-8720fd5b58d0"
      },
      "outputs": [
        {
          "name": "stderr",
          "output_type": "stream",
          "text": [
            "/home/ivan/Desktop/ivan/Facultad/Diplo de datos FAMAF/.venv/lib/python3.12/site-packages/kaleido/__init__.py:14: UserWarning:\n",
            "\n",
            "\n",
            "\n",
            "Warning: You have Plotly version 6.0.1, which is not compatible with this version of Kaleido (1.0.0).\n",
            "\n",
            "This means that static image generation (e.g. `fig.write_image()`) will not work.\n",
            "\n",
            "Please upgrade Plotly to version 6.1.1 or greater, or downgrade Kaleido to version 0.2.1.\n",
            "\n",
            "\n"
          ]
        },
        {
          "data": {
            "application/vnd.plotly.v1+json": {
              "config": {
                "plotlyServerURL": "https://plot.ly"
              },
              "data": [
                {
                  "hovertemplate": "Cantidad Vendida=%{x}<br>Producto=%{y}<extra></extra>",
                  "legendgroup": "",
                  "marker": {
                    "color": "#636efa",
                    "pattern": {
                      "shape": ""
                    }
                  },
                  "name": "",
                  "orientation": "h",
                  "showlegend": false,
                  "textposition": "auto",
                  "type": "bar",
                  "x": {
                    "bdata": "AAAAAKiqAEEAAAAAUHD+QAAAAABAcuxAAAAAACCL50AAAAAAgKXmQAAAAABAB+ZA",
                    "dtype": "f8"
                  },
                  "xaxis": "x",
                  "y": [
                    "mogul frutales x 1 kg.",
                    "turron arcor mani x 25 grs.",
                    "mogul jelly buttons x 1 kg",
                    "alf. tatin blanco x 33  gr.",
                    "mogul eucaliptus x 1 kg.",
                    "alf. tatin negro x 33 g"
                  ],
                  "yaxis": "y"
                }
              ],
              "layout": {
                "annotations": [
                  {
                    "font": {
                      "color": "gray",
                      "size": 12
                    },
                    "showarrow": false,
                    "text": "Período: Ene 2022 - Jun 2024",
                    "x": -0.09,
                    "xref": "paper",
                    "y": 1.14,
                    "yref": "paper"
                  }
                ],
                "barmode": "relative",
                "legend": {
                  "tracegroupgap": 0
                },
                "template": {
                  "data": {
                    "bar": [
                      {
                        "error_x": {
                          "color": "#2a3f5f"
                        },
                        "error_y": {
                          "color": "#2a3f5f"
                        },
                        "marker": {
                          "line": {
                            "color": "white",
                            "width": 0.5
                          },
                          "pattern": {
                            "fillmode": "overlay",
                            "size": 10,
                            "solidity": 0.2
                          }
                        },
                        "type": "bar"
                      }
                    ],
                    "barpolar": [
                      {
                        "marker": {
                          "line": {
                            "color": "white",
                            "width": 0.5
                          },
                          "pattern": {
                            "fillmode": "overlay",
                            "size": 10,
                            "solidity": 0.2
                          }
                        },
                        "type": "barpolar"
                      }
                    ],
                    "carpet": [
                      {
                        "aaxis": {
                          "endlinecolor": "#2a3f5f",
                          "gridcolor": "#C8D4E3",
                          "linecolor": "#C8D4E3",
                          "minorgridcolor": "#C8D4E3",
                          "startlinecolor": "#2a3f5f"
                        },
                        "baxis": {
                          "endlinecolor": "#2a3f5f",
                          "gridcolor": "#C8D4E3",
                          "linecolor": "#C8D4E3",
                          "minorgridcolor": "#C8D4E3",
                          "startlinecolor": "#2a3f5f"
                        },
                        "type": "carpet"
                      }
                    ],
                    "choropleth": [
                      {
                        "colorbar": {
                          "outlinewidth": 0,
                          "ticks": ""
                        },
                        "type": "choropleth"
                      }
                    ],
                    "contour": [
                      {
                        "colorbar": {
                          "outlinewidth": 0,
                          "ticks": ""
                        },
                        "colorscale": [
                          [
                            0,
                            "#0d0887"
                          ],
                          [
                            0.1111111111111111,
                            "#46039f"
                          ],
                          [
                            0.2222222222222222,
                            "#7201a8"
                          ],
                          [
                            0.3333333333333333,
                            "#9c179e"
                          ],
                          [
                            0.4444444444444444,
                            "#bd3786"
                          ],
                          [
                            0.5555555555555556,
                            "#d8576b"
                          ],
                          [
                            0.6666666666666666,
                            "#ed7953"
                          ],
                          [
                            0.7777777777777778,
                            "#fb9f3a"
                          ],
                          [
                            0.8888888888888888,
                            "#fdca26"
                          ],
                          [
                            1,
                            "#f0f921"
                          ]
                        ],
                        "type": "contour"
                      }
                    ],
                    "contourcarpet": [
                      {
                        "colorbar": {
                          "outlinewidth": 0,
                          "ticks": ""
                        },
                        "type": "contourcarpet"
                      }
                    ],
                    "heatmap": [
                      {
                        "colorbar": {
                          "outlinewidth": 0,
                          "ticks": ""
                        },
                        "colorscale": [
                          [
                            0,
                            "#0d0887"
                          ],
                          [
                            0.1111111111111111,
                            "#46039f"
                          ],
                          [
                            0.2222222222222222,
                            "#7201a8"
                          ],
                          [
                            0.3333333333333333,
                            "#9c179e"
                          ],
                          [
                            0.4444444444444444,
                            "#bd3786"
                          ],
                          [
                            0.5555555555555556,
                            "#d8576b"
                          ],
                          [
                            0.6666666666666666,
                            "#ed7953"
                          ],
                          [
                            0.7777777777777778,
                            "#fb9f3a"
                          ],
                          [
                            0.8888888888888888,
                            "#fdca26"
                          ],
                          [
                            1,
                            "#f0f921"
                          ]
                        ],
                        "type": "heatmap"
                      }
                    ],
                    "histogram": [
                      {
                        "marker": {
                          "pattern": {
                            "fillmode": "overlay",
                            "size": 10,
                            "solidity": 0.2
                          }
                        },
                        "type": "histogram"
                      }
                    ],
                    "histogram2d": [
                      {
                        "colorbar": {
                          "outlinewidth": 0,
                          "ticks": ""
                        },
                        "colorscale": [
                          [
                            0,
                            "#0d0887"
                          ],
                          [
                            0.1111111111111111,
                            "#46039f"
                          ],
                          [
                            0.2222222222222222,
                            "#7201a8"
                          ],
                          [
                            0.3333333333333333,
                            "#9c179e"
                          ],
                          [
                            0.4444444444444444,
                            "#bd3786"
                          ],
                          [
                            0.5555555555555556,
                            "#d8576b"
                          ],
                          [
                            0.6666666666666666,
                            "#ed7953"
                          ],
                          [
                            0.7777777777777778,
                            "#fb9f3a"
                          ],
                          [
                            0.8888888888888888,
                            "#fdca26"
                          ],
                          [
                            1,
                            "#f0f921"
                          ]
                        ],
                        "type": "histogram2d"
                      }
                    ],
                    "histogram2dcontour": [
                      {
                        "colorbar": {
                          "outlinewidth": 0,
                          "ticks": ""
                        },
                        "colorscale": [
                          [
                            0,
                            "#0d0887"
                          ],
                          [
                            0.1111111111111111,
                            "#46039f"
                          ],
                          [
                            0.2222222222222222,
                            "#7201a8"
                          ],
                          [
                            0.3333333333333333,
                            "#9c179e"
                          ],
                          [
                            0.4444444444444444,
                            "#bd3786"
                          ],
                          [
                            0.5555555555555556,
                            "#d8576b"
                          ],
                          [
                            0.6666666666666666,
                            "#ed7953"
                          ],
                          [
                            0.7777777777777778,
                            "#fb9f3a"
                          ],
                          [
                            0.8888888888888888,
                            "#fdca26"
                          ],
                          [
                            1,
                            "#f0f921"
                          ]
                        ],
                        "type": "histogram2dcontour"
                      }
                    ],
                    "mesh3d": [
                      {
                        "colorbar": {
                          "outlinewidth": 0,
                          "ticks": ""
                        },
                        "type": "mesh3d"
                      }
                    ],
                    "parcoords": [
                      {
                        "line": {
                          "colorbar": {
                            "outlinewidth": 0,
                            "ticks": ""
                          }
                        },
                        "type": "parcoords"
                      }
                    ],
                    "pie": [
                      {
                        "automargin": true,
                        "type": "pie"
                      }
                    ],
                    "scatter": [
                      {
                        "fillpattern": {
                          "fillmode": "overlay",
                          "size": 10,
                          "solidity": 0.2
                        },
                        "type": "scatter"
                      }
                    ],
                    "scatter3d": [
                      {
                        "line": {
                          "colorbar": {
                            "outlinewidth": 0,
                            "ticks": ""
                          }
                        },
                        "marker": {
                          "colorbar": {
                            "outlinewidth": 0,
                            "ticks": ""
                          }
                        },
                        "type": "scatter3d"
                      }
                    ],
                    "scattercarpet": [
                      {
                        "marker": {
                          "colorbar": {
                            "outlinewidth": 0,
                            "ticks": ""
                          }
                        },
                        "type": "scattercarpet"
                      }
                    ],
                    "scattergeo": [
                      {
                        "marker": {
                          "colorbar": {
                            "outlinewidth": 0,
                            "ticks": ""
                          }
                        },
                        "type": "scattergeo"
                      }
                    ],
                    "scattergl": [
                      {
                        "marker": {
                          "colorbar": {
                            "outlinewidth": 0,
                            "ticks": ""
                          }
                        },
                        "type": "scattergl"
                      }
                    ],
                    "scattermap": [
                      {
                        "marker": {
                          "colorbar": {
                            "outlinewidth": 0,
                            "ticks": ""
                          }
                        },
                        "type": "scattermap"
                      }
                    ],
                    "scattermapbox": [
                      {
                        "marker": {
                          "colorbar": {
                            "outlinewidth": 0,
                            "ticks": ""
                          }
                        },
                        "type": "scattermapbox"
                      }
                    ],
                    "scatterpolar": [
                      {
                        "marker": {
                          "colorbar": {
                            "outlinewidth": 0,
                            "ticks": ""
                          }
                        },
                        "type": "scatterpolar"
                      }
                    ],
                    "scatterpolargl": [
                      {
                        "marker": {
                          "colorbar": {
                            "outlinewidth": 0,
                            "ticks": ""
                          }
                        },
                        "type": "scatterpolargl"
                      }
                    ],
                    "scatterternary": [
                      {
                        "marker": {
                          "colorbar": {
                            "outlinewidth": 0,
                            "ticks": ""
                          }
                        },
                        "type": "scatterternary"
                      }
                    ],
                    "surface": [
                      {
                        "colorbar": {
                          "outlinewidth": 0,
                          "ticks": ""
                        },
                        "colorscale": [
                          [
                            0,
                            "#0d0887"
                          ],
                          [
                            0.1111111111111111,
                            "#46039f"
                          ],
                          [
                            0.2222222222222222,
                            "#7201a8"
                          ],
                          [
                            0.3333333333333333,
                            "#9c179e"
                          ],
                          [
                            0.4444444444444444,
                            "#bd3786"
                          ],
                          [
                            0.5555555555555556,
                            "#d8576b"
                          ],
                          [
                            0.6666666666666666,
                            "#ed7953"
                          ],
                          [
                            0.7777777777777778,
                            "#fb9f3a"
                          ],
                          [
                            0.8888888888888888,
                            "#fdca26"
                          ],
                          [
                            1,
                            "#f0f921"
                          ]
                        ],
                        "type": "surface"
                      }
                    ],
                    "table": [
                      {
                        "cells": {
                          "fill": {
                            "color": "#EBF0F8"
                          },
                          "line": {
                            "color": "white"
                          }
                        },
                        "header": {
                          "fill": {
                            "color": "#C8D4E3"
                          },
                          "line": {
                            "color": "white"
                          }
                        },
                        "type": "table"
                      }
                    ]
                  },
                  "layout": {
                    "annotationdefaults": {
                      "arrowcolor": "#2a3f5f",
                      "arrowhead": 0,
                      "arrowwidth": 1
                    },
                    "autotypenumbers": "strict",
                    "coloraxis": {
                      "colorbar": {
                        "outlinewidth": 0,
                        "ticks": ""
                      }
                    },
                    "colorscale": {
                      "diverging": [
                        [
                          0,
                          "#8e0152"
                        ],
                        [
                          0.1,
                          "#c51b7d"
                        ],
                        [
                          0.2,
                          "#de77ae"
                        ],
                        [
                          0.3,
                          "#f1b6da"
                        ],
                        [
                          0.4,
                          "#fde0ef"
                        ],
                        [
                          0.5,
                          "#f7f7f7"
                        ],
                        [
                          0.6,
                          "#e6f5d0"
                        ],
                        [
                          0.7,
                          "#b8e186"
                        ],
                        [
                          0.8,
                          "#7fbc41"
                        ],
                        [
                          0.9,
                          "#4d9221"
                        ],
                        [
                          1,
                          "#276419"
                        ]
                      ],
                      "sequential": [
                        [
                          0,
                          "#0d0887"
                        ],
                        [
                          0.1111111111111111,
                          "#46039f"
                        ],
                        [
                          0.2222222222222222,
                          "#7201a8"
                        ],
                        [
                          0.3333333333333333,
                          "#9c179e"
                        ],
                        [
                          0.4444444444444444,
                          "#bd3786"
                        ],
                        [
                          0.5555555555555556,
                          "#d8576b"
                        ],
                        [
                          0.6666666666666666,
                          "#ed7953"
                        ],
                        [
                          0.7777777777777778,
                          "#fb9f3a"
                        ],
                        [
                          0.8888888888888888,
                          "#fdca26"
                        ],
                        [
                          1,
                          "#f0f921"
                        ]
                      ],
                      "sequentialminus": [
                        [
                          0,
                          "#0d0887"
                        ],
                        [
                          0.1111111111111111,
                          "#46039f"
                        ],
                        [
                          0.2222222222222222,
                          "#7201a8"
                        ],
                        [
                          0.3333333333333333,
                          "#9c179e"
                        ],
                        [
                          0.4444444444444444,
                          "#bd3786"
                        ],
                        [
                          0.5555555555555556,
                          "#d8576b"
                        ],
                        [
                          0.6666666666666666,
                          "#ed7953"
                        ],
                        [
                          0.7777777777777778,
                          "#fb9f3a"
                        ],
                        [
                          0.8888888888888888,
                          "#fdca26"
                        ],
                        [
                          1,
                          "#f0f921"
                        ]
                      ]
                    },
                    "colorway": [
                      "#636efa",
                      "#EF553B",
                      "#00cc96",
                      "#ab63fa",
                      "#FFA15A",
                      "#19d3f3",
                      "#FF6692",
                      "#B6E880",
                      "#FF97FF",
                      "#FECB52"
                    ],
                    "font": {
                      "color": "#2a3f5f"
                    },
                    "geo": {
                      "bgcolor": "white",
                      "lakecolor": "white",
                      "landcolor": "white",
                      "showlakes": true,
                      "showland": true,
                      "subunitcolor": "#C8D4E3"
                    },
                    "hoverlabel": {
                      "align": "left"
                    },
                    "hovermode": "closest",
                    "mapbox": {
                      "style": "light"
                    },
                    "paper_bgcolor": "white",
                    "plot_bgcolor": "white",
                    "polar": {
                      "angularaxis": {
                        "gridcolor": "#EBF0F8",
                        "linecolor": "#EBF0F8",
                        "ticks": ""
                      },
                      "bgcolor": "white",
                      "radialaxis": {
                        "gridcolor": "#EBF0F8",
                        "linecolor": "#EBF0F8",
                        "ticks": ""
                      }
                    },
                    "scene": {
                      "xaxis": {
                        "backgroundcolor": "white",
                        "gridcolor": "#DFE8F3",
                        "gridwidth": 2,
                        "linecolor": "#EBF0F8",
                        "showbackground": true,
                        "ticks": "",
                        "zerolinecolor": "#EBF0F8"
                      },
                      "yaxis": {
                        "backgroundcolor": "white",
                        "gridcolor": "#DFE8F3",
                        "gridwidth": 2,
                        "linecolor": "#EBF0F8",
                        "showbackground": true,
                        "ticks": "",
                        "zerolinecolor": "#EBF0F8"
                      },
                      "zaxis": {
                        "backgroundcolor": "white",
                        "gridcolor": "#DFE8F3",
                        "gridwidth": 2,
                        "linecolor": "#EBF0F8",
                        "showbackground": true,
                        "ticks": "",
                        "zerolinecolor": "#EBF0F8"
                      }
                    },
                    "shapedefaults": {
                      "line": {
                        "color": "#2a3f5f"
                      }
                    },
                    "ternary": {
                      "aaxis": {
                        "gridcolor": "#DFE8F3",
                        "linecolor": "#A2B1C6",
                        "ticks": ""
                      },
                      "baxis": {
                        "gridcolor": "#DFE8F3",
                        "linecolor": "#A2B1C6",
                        "ticks": ""
                      },
                      "bgcolor": "white",
                      "caxis": {
                        "gridcolor": "#DFE8F3",
                        "linecolor": "#A2B1C6",
                        "ticks": ""
                      }
                    },
                    "title": {
                      "x": 0.05
                    },
                    "xaxis": {
                      "automargin": true,
                      "gridcolor": "#EBF0F8",
                      "linecolor": "#EBF0F8",
                      "ticks": "",
                      "title": {
                        "standoff": 15
                      },
                      "zerolinecolor": "#EBF0F8",
                      "zerolinewidth": 2
                    },
                    "yaxis": {
                      "automargin": true,
                      "gridcolor": "#EBF0F8",
                      "linecolor": "#EBF0F8",
                      "ticks": "",
                      "title": {
                        "standoff": 15
                      },
                      "zerolinecolor": "#EBF0F8",
                      "zerolinewidth": 2
                    }
                  }
                },
                "title": {
                  "text": "Top 6 productos más vendidos"
                },
                "xaxis": {
                  "anchor": "y",
                  "domain": [
                    0,
                    1
                  ],
                  "title": {
                    "text": "Cantidad Vendida"
                  }
                },
                "yaxis": {
                  "anchor": "x",
                  "categoryorder": "total ascending",
                  "domain": [
                    0,
                    1
                  ],
                  "title": {
                    "text": "Producto"
                  }
                }
              }
            }
          },
          "metadata": {},
          "output_type": "display_data"
        }
      ],
      "source": [
        "# Graficar los top 6 productos más vendidos\n",
        "fig = px.bar(\n",
        "    top_productos_canti,\n",
        "    x='ventas',\n",
        "    y='producto',\n",
        "    orientation='h',\n",
        "    title='Top 6 productos más vendidos',\n",
        "    labels={'ventas': 'Cantidad Vendida', 'producto': 'Producto'}\n",
        ")\n",
        "\n",
        "fig.update_layout(\n",
        "    yaxis=dict(categoryorder='total ascending'),\n",
        "    template='plotly_white',\n",
        "    annotations=[\n",
        "        dict(\n",
        "            text=\"Período: Ene 2022 - Jun 2024\",\n",
        "            xref=\"paper\", yref=\"paper\",\n",
        "            x=-0.09, y=1.14,\n",
        "            showarrow=False,\n",
        "            font=dict(size=12, color=\"gray\")\n",
        "        )\n",
        "    ]\n",
        ")\n",
        "\n",
        "fig.show()"
      ]
    },
    {
      "cell_type": "code",
      "execution_count": 31,
      "id": "872af2a8",
      "metadata": {
        "colab": {
          "base_uri": "https://localhost:8080/"
        },
        "id": "872af2a8",
        "outputId": "dba51d18-6be4-41a2-bb63-1fda326b292d"
      },
      "outputs": [
        {
          "name": "stdout",
          "output_type": "stream",
          "text": [
            "Producto más vendido: mogul frutales x 1 kg.\n",
            "Clientes que lo compraron: 130 de 571\n"
          ]
        }
      ],
      "source": [
        "# Producto más vendido\n",
        "top_product = top_productos_canti['producto'].iloc[0]\n",
        "nombre_prod = top_productos_canti['producto'].iloc[0]\n",
        "\n",
        "clientes_top_product = filtered_df[filtered_df['descrip'] == top_product]['cliente'].unique()\n",
        "todos_los_clientes = filtered_df['cliente'].unique()\n",
        "\n",
        "print(f\"Producto más vendido: {nombre_prod}\")\n",
        "print(f\"Clientes que lo compraron: {len(clientes_top_product)} de {len(todos_los_clientes)}\")"
      ]
    },
    {
      "cell_type": "code",
      "execution_count": 32,
      "id": "a3279781",
      "metadata": {
        "colab": {
          "base_uri": "https://localhost:8080/",
          "height": 175
        },
        "id": "a3279781",
        "outputId": "b75c9247-4fcf-4c17-88b8-c51d61560795"
      },
      "outputs": [
        {
          "data": {
            "text/html": [
              "<div>\n",
              "<style scoped>\n",
              "    .dataframe tbody tr th:only-of-type {\n",
              "        vertical-align: middle;\n",
              "    }\n",
              "\n",
              "    .dataframe tbody tr th {\n",
              "        vertical-align: top;\n",
              "    }\n",
              "\n",
              "    .dataframe thead th {\n",
              "        text-align: right;\n",
              "    }\n",
              "</style>\n",
              "<table border=\"1\" class=\"dataframe\">\n",
              "  <thead>\n",
              "    <tr style=\"text-align: right;\">\n",
              "      <th></th>\n",
              "      <th>producto</th>\n",
              "      <th>ventas</th>\n",
              "    </tr>\n",
              "  </thead>\n",
              "  <tbody>\n",
              "    <tr>\n",
              "      <th>23</th>\n",
              "      <td>aass gall ar + block</td>\n",
              "      <td>1.0</td>\n",
              "    </tr>\n",
              "    <tr>\n",
              "      <th>29</th>\n",
              "      <td>aass surt bagley</td>\n",
              "      <td>1.0</td>\n",
              "    </tr>\n",
              "    <tr>\n",
              "      <th>31</th>\n",
              "      <td>accion botin</td>\n",
              "      <td>1.0</td>\n",
              "    </tr>\n",
              "    <tr>\n",
              "      <th>58</th>\n",
              "      <td>alf aguila dor</td>\n",
              "      <td>1.0</td>\n",
              "    </tr>\n",
              "  </tbody>\n",
              "</table>\n",
              "</div>"
            ],
            "text/plain": [
              "                producto  ventas\n",
              "23  aass gall ar + block     1.0\n",
              "29      aass surt bagley     1.0\n",
              "31          accion botin     1.0\n",
              "58        alf aguila dor     1.0"
            ]
          },
          "execution_count": 32,
          "metadata": {},
          "output_type": "execute_result"
        }
      ],
      "source": [
        "# productos con menos ventas\n",
        "productos_menos_vendidos = ventas_prod.sort_values(by='ventas', ascending=True)\n",
        "productos_menos_vendidos.head(4)"
      ]
    },
    {
      "cell_type": "code",
      "execution_count": 33,
      "id": "c1a54cbc",
      "metadata": {
        "colab": {
          "base_uri": "https://localhost:8080/",
          "height": 175
        },
        "id": "c1a54cbc",
        "outputId": "2c38595e-3261-4f77-84fd-c529523fa0f4"
      },
      "outputs": [
        {
          "data": {
            "text/html": [
              "<div>\n",
              "<style scoped>\n",
              "    .dataframe tbody tr th:only-of-type {\n",
              "        vertical-align: middle;\n",
              "    }\n",
              "\n",
              "    .dataframe tbody tr th {\n",
              "        vertical-align: top;\n",
              "    }\n",
              "\n",
              "    .dataframe thead th {\n",
              "        text-align: right;\n",
              "    }\n",
              "</style>\n",
              "<table border=\"1\" class=\"dataframe\">\n",
              "  <thead>\n",
              "    <tr style=\"text-align: right;\">\n",
              "      <th></th>\n",
              "      <th>producto</th>\n",
              "      <th>ventas</th>\n",
              "    </tr>\n",
              "  </thead>\n",
              "  <tbody>\n",
              "    <tr>\n",
              "      <th>3681</th>\n",
              "      <td>torta chips aguila</td>\n",
              "      <td>5.0</td>\n",
              "    </tr>\n",
              "    <tr>\n",
              "      <th>3682</th>\n",
              "      <td>torta chps aguila</td>\n",
              "      <td>5.0</td>\n",
              "    </tr>\n",
              "    <tr>\n",
              "      <th>97</th>\n",
              "      <td>alf minitorta coco</td>\n",
              "      <td>5.0</td>\n",
              "    </tr>\n",
              "    <tr>\n",
              "      <th>3668</th>\n",
              "      <td>topline tab sandia</td>\n",
              "      <td>5.0</td>\n",
              "    </tr>\n",
              "  </tbody>\n",
              "</table>\n",
              "</div>"
            ],
            "text/plain": [
              "                producto  ventas\n",
              "3681  torta chips aguila     5.0\n",
              "3682   torta chps aguila     5.0\n",
              "97    alf minitorta coco     5.0\n",
              "3668  topline tab sandia     5.0"
            ]
          },
          "execution_count": 33,
          "metadata": {},
          "output_type": "execute_result"
        }
      ],
      "source": [
        "# Ver productos con al menos 5 ventas\n",
        "productos_menos_vendidos = ventas_prod[ventas_prod['ventas'] >= 5].sort_values(by='ventas', ascending=True)\n",
        "productos_menos_vendidos.head(4)"
      ]
    },
    {
      "cell_type": "markdown",
      "id": "02e69539",
      "metadata": {
        "id": "02e69539"
      },
      "source": [
        "🔍 **Observaciones**\n",
        "\n",
        "- El **producto más vendido** es Mogul Frutales x 1kg, adquirido por 130 de 571 clientes (~23%).\n",
        "\n",
        "- Los **productos más vendidos** son principalmente golosinas, caramelos, alfajores y turrones.\n",
        "\n",
        "- Hay productos con una sola venta, podrían excluirse de sistemas de recomendación.\n",
        "\n",
        "- Para evitar que los **productos menos vendidos** se correspondan a productos sin estandarización, se podría repetir este análisis después de la curación."
      ]
    },
    {
      "cell_type": "code",
      "execution_count": 34,
      "id": "8c174322",
      "metadata": {
        "id": "8c174322"
      },
      "outputs": [],
      "source": [
        "# Datos agrupados por cliente\n",
        "clientes_agg = (\n",
        "    filtered_df.groupby('cliente')\n",
        "    .agg({\n",
        "        'nombre': lambda x: x.mode().iloc[0],   # persona con más ventas\n",
        "        'precio_total': 'sum',                  # facturación total\n",
        "        'canti_venta': 'sum',                   # cantidad de productos vendidos\n",
        "        'canti': 'sum',                         # cantidad de unidades vendias\n",
        "        'factu_nume': 'nunique'                 # cantidad de facturas\n",
        "    })\n",
        "    .assign(nombre_cliente=lambda df: df['nombre'] + ' (' + df.index.astype(str) + ')')\n",
        "    .reset_index()\n",
        ").rename(columns={\n",
        "    'precio_total': 'facturacion_total',\n",
        "    'canti_venta': 'cantidad_productos_vendidos',\n",
        "    'canti': 'cantidad_unidades_vendidas',\n",
        "    'factu_nume': 'cantidad_facturas',\n",
        "})\n",
        "\n",
        "top_clientes_fact = clientes_agg.sort_values(by='facturacion_total', ascending=False).head(6)\n",
        "top_clientes_canti = clientes_agg.sort_values(by='cantidad_productos_vendidos', ascending=False).head(6)\n",
        "\n",
        "top_clientes_fact['facturacion_millones'] = top_clientes_fact['facturacion_total'] / 1_000_000"
      ]
    },
    {
      "cell_type": "code",
      "execution_count": 35,
      "id": "4280971c",
      "metadata": {
        "colab": {
          "base_uri": "https://localhost:8080/",
          "height": 717
        },
        "id": "4280971c",
        "outputId": "43ee3731-26c1-4620-c04e-61c3f16d0b9c"
      },
      "outputs": [
        {
          "data": {
            "application/vnd.plotly.v1+json": {
              "config": {
                "plotlyServerURL": "https://plot.ly"
              },
              "data": [
                {
                  "marker": {
                    "color": "royalblue"
                  },
                  "name": "Facturación",
                  "orientation": "h",
                  "type": "bar",
                  "x": {
                    "bdata": "MN72hePxKkA2uleTZRwfQB8i40clZh5AZNmAgVpfHkCfB3328Z4cQBBPgslsJBtA",
                    "dtype": "f8"
                  },
                  "xaxis": "x",
                  "y": [
                    "Santiago Martinez (27677)",
                    "Lorenzo Thiago Soria Herrera (4818)",
                    "Bautista Benjamin Godoy (4627)",
                    "Isabella Ortiz (3144)",
                    "Simon Valentina Lucero (9093)",
                    "Emma Valentina Ojeda Gonzalez (4943)"
                  ],
                  "yaxis": "y"
                },
                {
                  "marker": {
                    "color": "seagreen"
                  },
                  "name": "Productos Vendidos",
                  "orientation": "h",
                  "type": "bar",
                  "x": {
                    "bdata": "AAAAAHBJ8EAAAAAAQLzqQAAAAABA3+FAAAAAAEA24UAAAAAAIJ3gQAAAAACAoN1A",
                    "dtype": "f8"
                  },
                  "xaxis": "x2",
                  "y": [
                    "Mia Jazmin Tobias Cabrera (4902)",
                    "Victoria Gimenez (2767)",
                    "Jazmin Lola Ferreyra (6110)",
                    "Santiago Martinez (27677)",
                    "Benjamin Gutierrez Perez (526)",
                    "Guillermina Franco Fernandez (8257)"
                  ],
                  "yaxis": "y2"
                }
              ],
              "layout": {
                "annotations": [
                  {
                    "font": {
                      "size": 16
                    },
                    "showarrow": false,
                    "text": "Top 6 Clientes por Facturación",
                    "x": 0.5,
                    "xanchor": "center",
                    "xref": "paper",
                    "y": 1,
                    "yanchor": "bottom",
                    "yref": "paper"
                  },
                  {
                    "font": {
                      "size": 16
                    },
                    "showarrow": false,
                    "text": "Top 6 Clientes por Cantidad de Productos Vendidos",
                    "x": 0.5,
                    "xanchor": "center",
                    "xref": "paper",
                    "y": 0.425,
                    "yanchor": "bottom",
                    "yref": "paper"
                  },
                  {
                    "font": {
                      "color": "gray",
                      "size": 12
                    },
                    "showarrow": false,
                    "text": "Período: Ene 2022 - Jun 2024",
                    "x": -0.12,
                    "xref": "paper",
                    "y": 1.08,
                    "yref": "paper"
                  }
                ],
                "height": 700,
                "showlegend": false,
                "template": {
                  "data": {
                    "bar": [
                      {
                        "error_x": {
                          "color": "#2a3f5f"
                        },
                        "error_y": {
                          "color": "#2a3f5f"
                        },
                        "marker": {
                          "line": {
                            "color": "white",
                            "width": 0.5
                          },
                          "pattern": {
                            "fillmode": "overlay",
                            "size": 10,
                            "solidity": 0.2
                          }
                        },
                        "type": "bar"
                      }
                    ],
                    "barpolar": [
                      {
                        "marker": {
                          "line": {
                            "color": "white",
                            "width": 0.5
                          },
                          "pattern": {
                            "fillmode": "overlay",
                            "size": 10,
                            "solidity": 0.2
                          }
                        },
                        "type": "barpolar"
                      }
                    ],
                    "carpet": [
                      {
                        "aaxis": {
                          "endlinecolor": "#2a3f5f",
                          "gridcolor": "#C8D4E3",
                          "linecolor": "#C8D4E3",
                          "minorgridcolor": "#C8D4E3",
                          "startlinecolor": "#2a3f5f"
                        },
                        "baxis": {
                          "endlinecolor": "#2a3f5f",
                          "gridcolor": "#C8D4E3",
                          "linecolor": "#C8D4E3",
                          "minorgridcolor": "#C8D4E3",
                          "startlinecolor": "#2a3f5f"
                        },
                        "type": "carpet"
                      }
                    ],
                    "choropleth": [
                      {
                        "colorbar": {
                          "outlinewidth": 0,
                          "ticks": ""
                        },
                        "type": "choropleth"
                      }
                    ],
                    "contour": [
                      {
                        "colorbar": {
                          "outlinewidth": 0,
                          "ticks": ""
                        },
                        "colorscale": [
                          [
                            0,
                            "#0d0887"
                          ],
                          [
                            0.1111111111111111,
                            "#46039f"
                          ],
                          [
                            0.2222222222222222,
                            "#7201a8"
                          ],
                          [
                            0.3333333333333333,
                            "#9c179e"
                          ],
                          [
                            0.4444444444444444,
                            "#bd3786"
                          ],
                          [
                            0.5555555555555556,
                            "#d8576b"
                          ],
                          [
                            0.6666666666666666,
                            "#ed7953"
                          ],
                          [
                            0.7777777777777778,
                            "#fb9f3a"
                          ],
                          [
                            0.8888888888888888,
                            "#fdca26"
                          ],
                          [
                            1,
                            "#f0f921"
                          ]
                        ],
                        "type": "contour"
                      }
                    ],
                    "contourcarpet": [
                      {
                        "colorbar": {
                          "outlinewidth": 0,
                          "ticks": ""
                        },
                        "type": "contourcarpet"
                      }
                    ],
                    "heatmap": [
                      {
                        "colorbar": {
                          "outlinewidth": 0,
                          "ticks": ""
                        },
                        "colorscale": [
                          [
                            0,
                            "#0d0887"
                          ],
                          [
                            0.1111111111111111,
                            "#46039f"
                          ],
                          [
                            0.2222222222222222,
                            "#7201a8"
                          ],
                          [
                            0.3333333333333333,
                            "#9c179e"
                          ],
                          [
                            0.4444444444444444,
                            "#bd3786"
                          ],
                          [
                            0.5555555555555556,
                            "#d8576b"
                          ],
                          [
                            0.6666666666666666,
                            "#ed7953"
                          ],
                          [
                            0.7777777777777778,
                            "#fb9f3a"
                          ],
                          [
                            0.8888888888888888,
                            "#fdca26"
                          ],
                          [
                            1,
                            "#f0f921"
                          ]
                        ],
                        "type": "heatmap"
                      }
                    ],
                    "histogram": [
                      {
                        "marker": {
                          "pattern": {
                            "fillmode": "overlay",
                            "size": 10,
                            "solidity": 0.2
                          }
                        },
                        "type": "histogram"
                      }
                    ],
                    "histogram2d": [
                      {
                        "colorbar": {
                          "outlinewidth": 0,
                          "ticks": ""
                        },
                        "colorscale": [
                          [
                            0,
                            "#0d0887"
                          ],
                          [
                            0.1111111111111111,
                            "#46039f"
                          ],
                          [
                            0.2222222222222222,
                            "#7201a8"
                          ],
                          [
                            0.3333333333333333,
                            "#9c179e"
                          ],
                          [
                            0.4444444444444444,
                            "#bd3786"
                          ],
                          [
                            0.5555555555555556,
                            "#d8576b"
                          ],
                          [
                            0.6666666666666666,
                            "#ed7953"
                          ],
                          [
                            0.7777777777777778,
                            "#fb9f3a"
                          ],
                          [
                            0.8888888888888888,
                            "#fdca26"
                          ],
                          [
                            1,
                            "#f0f921"
                          ]
                        ],
                        "type": "histogram2d"
                      }
                    ],
                    "histogram2dcontour": [
                      {
                        "colorbar": {
                          "outlinewidth": 0,
                          "ticks": ""
                        },
                        "colorscale": [
                          [
                            0,
                            "#0d0887"
                          ],
                          [
                            0.1111111111111111,
                            "#46039f"
                          ],
                          [
                            0.2222222222222222,
                            "#7201a8"
                          ],
                          [
                            0.3333333333333333,
                            "#9c179e"
                          ],
                          [
                            0.4444444444444444,
                            "#bd3786"
                          ],
                          [
                            0.5555555555555556,
                            "#d8576b"
                          ],
                          [
                            0.6666666666666666,
                            "#ed7953"
                          ],
                          [
                            0.7777777777777778,
                            "#fb9f3a"
                          ],
                          [
                            0.8888888888888888,
                            "#fdca26"
                          ],
                          [
                            1,
                            "#f0f921"
                          ]
                        ],
                        "type": "histogram2dcontour"
                      }
                    ],
                    "mesh3d": [
                      {
                        "colorbar": {
                          "outlinewidth": 0,
                          "ticks": ""
                        },
                        "type": "mesh3d"
                      }
                    ],
                    "parcoords": [
                      {
                        "line": {
                          "colorbar": {
                            "outlinewidth": 0,
                            "ticks": ""
                          }
                        },
                        "type": "parcoords"
                      }
                    ],
                    "pie": [
                      {
                        "automargin": true,
                        "type": "pie"
                      }
                    ],
                    "scatter": [
                      {
                        "fillpattern": {
                          "fillmode": "overlay",
                          "size": 10,
                          "solidity": 0.2
                        },
                        "type": "scatter"
                      }
                    ],
                    "scatter3d": [
                      {
                        "line": {
                          "colorbar": {
                            "outlinewidth": 0,
                            "ticks": ""
                          }
                        },
                        "marker": {
                          "colorbar": {
                            "outlinewidth": 0,
                            "ticks": ""
                          }
                        },
                        "type": "scatter3d"
                      }
                    ],
                    "scattercarpet": [
                      {
                        "marker": {
                          "colorbar": {
                            "outlinewidth": 0,
                            "ticks": ""
                          }
                        },
                        "type": "scattercarpet"
                      }
                    ],
                    "scattergeo": [
                      {
                        "marker": {
                          "colorbar": {
                            "outlinewidth": 0,
                            "ticks": ""
                          }
                        },
                        "type": "scattergeo"
                      }
                    ],
                    "scattergl": [
                      {
                        "marker": {
                          "colorbar": {
                            "outlinewidth": 0,
                            "ticks": ""
                          }
                        },
                        "type": "scattergl"
                      }
                    ],
                    "scattermap": [
                      {
                        "marker": {
                          "colorbar": {
                            "outlinewidth": 0,
                            "ticks": ""
                          }
                        },
                        "type": "scattermap"
                      }
                    ],
                    "scattermapbox": [
                      {
                        "marker": {
                          "colorbar": {
                            "outlinewidth": 0,
                            "ticks": ""
                          }
                        },
                        "type": "scattermapbox"
                      }
                    ],
                    "scatterpolar": [
                      {
                        "marker": {
                          "colorbar": {
                            "outlinewidth": 0,
                            "ticks": ""
                          }
                        },
                        "type": "scatterpolar"
                      }
                    ],
                    "scatterpolargl": [
                      {
                        "marker": {
                          "colorbar": {
                            "outlinewidth": 0,
                            "ticks": ""
                          }
                        },
                        "type": "scatterpolargl"
                      }
                    ],
                    "scatterternary": [
                      {
                        "marker": {
                          "colorbar": {
                            "outlinewidth": 0,
                            "ticks": ""
                          }
                        },
                        "type": "scatterternary"
                      }
                    ],
                    "surface": [
                      {
                        "colorbar": {
                          "outlinewidth": 0,
                          "ticks": ""
                        },
                        "colorscale": [
                          [
                            0,
                            "#0d0887"
                          ],
                          [
                            0.1111111111111111,
                            "#46039f"
                          ],
                          [
                            0.2222222222222222,
                            "#7201a8"
                          ],
                          [
                            0.3333333333333333,
                            "#9c179e"
                          ],
                          [
                            0.4444444444444444,
                            "#bd3786"
                          ],
                          [
                            0.5555555555555556,
                            "#d8576b"
                          ],
                          [
                            0.6666666666666666,
                            "#ed7953"
                          ],
                          [
                            0.7777777777777778,
                            "#fb9f3a"
                          ],
                          [
                            0.8888888888888888,
                            "#fdca26"
                          ],
                          [
                            1,
                            "#f0f921"
                          ]
                        ],
                        "type": "surface"
                      }
                    ],
                    "table": [
                      {
                        "cells": {
                          "fill": {
                            "color": "#EBF0F8"
                          },
                          "line": {
                            "color": "white"
                          }
                        },
                        "header": {
                          "fill": {
                            "color": "#C8D4E3"
                          },
                          "line": {
                            "color": "white"
                          }
                        },
                        "type": "table"
                      }
                    ]
                  },
                  "layout": {
                    "annotationdefaults": {
                      "arrowcolor": "#2a3f5f",
                      "arrowhead": 0,
                      "arrowwidth": 1
                    },
                    "autotypenumbers": "strict",
                    "coloraxis": {
                      "colorbar": {
                        "outlinewidth": 0,
                        "ticks": ""
                      }
                    },
                    "colorscale": {
                      "diverging": [
                        [
                          0,
                          "#8e0152"
                        ],
                        [
                          0.1,
                          "#c51b7d"
                        ],
                        [
                          0.2,
                          "#de77ae"
                        ],
                        [
                          0.3,
                          "#f1b6da"
                        ],
                        [
                          0.4,
                          "#fde0ef"
                        ],
                        [
                          0.5,
                          "#f7f7f7"
                        ],
                        [
                          0.6,
                          "#e6f5d0"
                        ],
                        [
                          0.7,
                          "#b8e186"
                        ],
                        [
                          0.8,
                          "#7fbc41"
                        ],
                        [
                          0.9,
                          "#4d9221"
                        ],
                        [
                          1,
                          "#276419"
                        ]
                      ],
                      "sequential": [
                        [
                          0,
                          "#0d0887"
                        ],
                        [
                          0.1111111111111111,
                          "#46039f"
                        ],
                        [
                          0.2222222222222222,
                          "#7201a8"
                        ],
                        [
                          0.3333333333333333,
                          "#9c179e"
                        ],
                        [
                          0.4444444444444444,
                          "#bd3786"
                        ],
                        [
                          0.5555555555555556,
                          "#d8576b"
                        ],
                        [
                          0.6666666666666666,
                          "#ed7953"
                        ],
                        [
                          0.7777777777777778,
                          "#fb9f3a"
                        ],
                        [
                          0.8888888888888888,
                          "#fdca26"
                        ],
                        [
                          1,
                          "#f0f921"
                        ]
                      ],
                      "sequentialminus": [
                        [
                          0,
                          "#0d0887"
                        ],
                        [
                          0.1111111111111111,
                          "#46039f"
                        ],
                        [
                          0.2222222222222222,
                          "#7201a8"
                        ],
                        [
                          0.3333333333333333,
                          "#9c179e"
                        ],
                        [
                          0.4444444444444444,
                          "#bd3786"
                        ],
                        [
                          0.5555555555555556,
                          "#d8576b"
                        ],
                        [
                          0.6666666666666666,
                          "#ed7953"
                        ],
                        [
                          0.7777777777777778,
                          "#fb9f3a"
                        ],
                        [
                          0.8888888888888888,
                          "#fdca26"
                        ],
                        [
                          1,
                          "#f0f921"
                        ]
                      ]
                    },
                    "colorway": [
                      "#636efa",
                      "#EF553B",
                      "#00cc96",
                      "#ab63fa",
                      "#FFA15A",
                      "#19d3f3",
                      "#FF6692",
                      "#B6E880",
                      "#FF97FF",
                      "#FECB52"
                    ],
                    "font": {
                      "color": "#2a3f5f"
                    },
                    "geo": {
                      "bgcolor": "white",
                      "lakecolor": "white",
                      "landcolor": "white",
                      "showlakes": true,
                      "showland": true,
                      "subunitcolor": "#C8D4E3"
                    },
                    "hoverlabel": {
                      "align": "left"
                    },
                    "hovermode": "closest",
                    "mapbox": {
                      "style": "light"
                    },
                    "paper_bgcolor": "white",
                    "plot_bgcolor": "white",
                    "polar": {
                      "angularaxis": {
                        "gridcolor": "#EBF0F8",
                        "linecolor": "#EBF0F8",
                        "ticks": ""
                      },
                      "bgcolor": "white",
                      "radialaxis": {
                        "gridcolor": "#EBF0F8",
                        "linecolor": "#EBF0F8",
                        "ticks": ""
                      }
                    },
                    "scene": {
                      "xaxis": {
                        "backgroundcolor": "white",
                        "gridcolor": "#DFE8F3",
                        "gridwidth": 2,
                        "linecolor": "#EBF0F8",
                        "showbackground": true,
                        "ticks": "",
                        "zerolinecolor": "#EBF0F8"
                      },
                      "yaxis": {
                        "backgroundcolor": "white",
                        "gridcolor": "#DFE8F3",
                        "gridwidth": 2,
                        "linecolor": "#EBF0F8",
                        "showbackground": true,
                        "ticks": "",
                        "zerolinecolor": "#EBF0F8"
                      },
                      "zaxis": {
                        "backgroundcolor": "white",
                        "gridcolor": "#DFE8F3",
                        "gridwidth": 2,
                        "linecolor": "#EBF0F8",
                        "showbackground": true,
                        "ticks": "",
                        "zerolinecolor": "#EBF0F8"
                      }
                    },
                    "shapedefaults": {
                      "line": {
                        "color": "#2a3f5f"
                      }
                    },
                    "ternary": {
                      "aaxis": {
                        "gridcolor": "#DFE8F3",
                        "linecolor": "#A2B1C6",
                        "ticks": ""
                      },
                      "baxis": {
                        "gridcolor": "#DFE8F3",
                        "linecolor": "#A2B1C6",
                        "ticks": ""
                      },
                      "bgcolor": "white",
                      "caxis": {
                        "gridcolor": "#DFE8F3",
                        "linecolor": "#A2B1C6",
                        "ticks": ""
                      }
                    },
                    "title": {
                      "x": 0.05
                    },
                    "xaxis": {
                      "automargin": true,
                      "gridcolor": "#EBF0F8",
                      "linecolor": "#EBF0F8",
                      "ticks": "",
                      "title": {
                        "standoff": 15
                      },
                      "zerolinecolor": "#EBF0F8",
                      "zerolinewidth": 2
                    },
                    "yaxis": {
                      "automargin": true,
                      "gridcolor": "#EBF0F8",
                      "linecolor": "#EBF0F8",
                      "ticks": "",
                      "title": {
                        "standoff": 15
                      },
                      "zerolinecolor": "#EBF0F8",
                      "zerolinewidth": 2
                    }
                  }
                },
                "title": {
                  "text": "🏆 Top Clientes"
                },
                "xaxis": {
                  "anchor": "y",
                  "domain": [
                    0,
                    1
                  ],
                  "title": {
                    "text": "Facturación (millones de pesos)"
                  }
                },
                "xaxis2": {
                  "anchor": "y2",
                  "domain": [
                    0,
                    1
                  ],
                  "title": {
                    "text": "Cantidad de Productos Vendidos"
                  }
                },
                "yaxis": {
                  "anchor": "x",
                  "categoryorder": "total ascending",
                  "domain": [
                    0.575,
                    1
                  ]
                },
                "yaxis2": {
                  "anchor": "x2",
                  "categoryorder": "total ascending",
                  "domain": [
                    0,
                    0.425
                  ]
                }
              }
            }
          },
          "metadata": {},
          "output_type": "display_data"
        }
      ],
      "source": [
        "# Crear figura con subplots\n",
        "fig = make_subplots(\n",
        "    rows=2, cols=1,\n",
        "    shared_xaxes=False,\n",
        "    vertical_spacing=0.15,\n",
        "    subplot_titles=(\n",
        "        \"Top 6 Clientes por Facturación\",\n",
        "        \"Top 6 Clientes por Cantidad de Productos Vendidos\"\n",
        "    )\n",
        ")\n",
        "\n",
        "# Gráfico 1: Facturación\n",
        "fig.add_trace(\n",
        "    go.Bar(\n",
        "        x=top_clientes_fact['facturacion_millones'],\n",
        "        y=top_clientes_fact['nombre_cliente'],\n",
        "        orientation='h',\n",
        "        marker_color='royalblue',\n",
        "        name='Facturación'\n",
        "    ),\n",
        "    row=1, col=1\n",
        ")\n",
        "\n",
        "# Gráfico 2: Cantidad de ventas\n",
        "fig.add_trace(\n",
        "    go.Bar(\n",
        "        x=top_clientes_canti['cantidad_productos_vendidos'],\n",
        "        y=top_clientes_canti['nombre_cliente'],\n",
        "        orientation='h',\n",
        "        marker_color='seagreen',\n",
        "        name='Productos Vendidos'\n",
        "    ),\n",
        "    row=2, col=1\n",
        ")\n",
        "\n",
        "fig.update_layout(\n",
        "    height=700,\n",
        "    title_text=\"🏆 Top Clientes\",\n",
        "    showlegend=False,\n",
        "    template='plotly_white'\n",
        ")\n",
        "\n",
        "fig.add_annotation(\n",
        "    text=\"Período: Ene 2022 - Jun 2024\",\n",
        "    xref=\"paper\", yref=\"paper\",\n",
        "    x=-0.12, y=1.08,\n",
        "    showarrow=False,\n",
        "    font=dict(size=12, color=\"gray\")\n",
        ")\n",
        "\n",
        "fig.update_xaxes(title_text=\"Facturación (millones de pesos)\", row=1, col=1)\n",
        "fig.update_xaxes(title_text=\"Cantidad de Productos Vendidos\", row=2, col=1)\n",
        "\n",
        "fig.update_yaxes(categoryorder='total ascending', row=1, col=1)\n",
        "fig.update_yaxes(categoryorder='total ascending', row=2, col=1)\n",
        "\n",
        "fig.show()\n"
      ]
    },
    {
      "cell_type": "markdown",
      "id": "dc29cff5",
      "metadata": {
        "id": "dc29cff5"
      },
      "source": [
        "- Sólo 1 de los 6 clientes con mayor facturación también están entre los que más productos venden."
      ]
    },
    {
      "cell_type": "code",
      "execution_count": 36,
      "id": "97036353",
      "metadata": {
        "colab": {
          "base_uri": "https://localhost:8080/",
          "height": 573
        },
        "id": "97036353",
        "outputId": "4971271c-2802-48a7-8f27-1a2e3cce98e9"
      },
      "outputs": [
        {
          "data": {
            "image/png": "[encoded data removed]",
            "text/plain": [
              "<Figure size 1200x600 with 1 Axes>"
            ]
          },
          "metadata": {},
          "output_type": "display_data"
        }
      ],
      "source": [
        "plt.figure(figsize=(12, 6))\n",
        "\n",
        "sns.regplot(\n",
        "    data=clientes_agg,\n",
        "    x='cantidad_facturas',\n",
        "    y='cantidad_productos_vendidos',\n",
        "    scatter_kws={\n",
        "        'alpha': 0.8,\n",
        "        'edgecolor': 'white',\n",
        "        'linewidths': 0.5,\n",
        "        'label': 'Clientes'\n",
        "    },\n",
        "    line_kws={\n",
        "        'color': 'coral',\n",
        "        'linestyle': '--',\n",
        "        'label': 'Tendencia lineal',\n",
        "    },\n",
        "    ci=None\n",
        ")\n",
        "\n",
        "plt.title('Frecuencia de compra vs volumen de ventas por cliente')\n",
        "plt.xlabel('Frecuencia de compra (Nº Facturas)')\n",
        "plt.ylabel('Volumen total vendido (Productos)')\n",
        "plt.xlim(0, 300)\n",
        "plt.legend()\n",
        "plt.show()"
      ]
    },
    {
      "cell_type": "markdown",
      "id": "7da31539",
      "metadata": {
        "id": "7da31539"
      },
      "source": [
        "- Se observa una clara **tendencia positiva** entre la frecuencia de compra y el volumen de ventas, lo cual es esperable, ya que los clientes que compran más seguido suelen generar mayores ingresos.\n",
        "\n",
        "- Hay una alta concentración de clientes con pocas compras, y algunos casos de alto volumen con baja frecuencia, es decir, pocas compras grandes."
      ]
    },
    {
      "cell_type": "markdown",
      "id": "b5b4e250",
      "metadata": {
        "id": "b5b4e250"
      },
      "source": [
        "#### 💲 2.2 Evolución temporal de precios, ventas y clientes"
      ]
    },
    {
      "cell_type": "code",
      "execution_count": 37,
      "id": "14ad57dc",
      "metadata": {
        "id": "14ad57dc"
      },
      "outputs": [],
      "source": [
        "filtered_df['fecha_dt'] = pd.to_datetime(filtered_df['fecha'])\n",
        "# Primer día del mes como timestamp\n",
        "filtered_df['mes_p'] = filtered_df['fecha_dt'].dt.to_period('M').dt.to_timestamp()\n",
        "\n",
        "# Agregación mensual\n",
        "ventas_mensuales = (\n",
        "    filtered_df.groupby(filtered_df['fecha_dt'].dt.to_period('M'))['canti_venta'].sum().to_timestamp()\n",
        ")"
      ]
    },
    {
      "cell_type": "code",
      "execution_count": 38,
      "id": "e10677cc",
      "metadata": {
        "colab": {
          "base_uri": "https://localhost:8080/",
          "height": 467
        },
        "id": "e10677cc",
        "outputId": "5ea97552-da31-48f8-d340-3f3ede8f67a4"
      },
      "outputs": [
        {
          "data": {
            "application/vnd.plotly.v1+json": {
              "config": {
                "plotlyServerURL": "https://plot.ly"
              },
              "data": [
                {
                  "hovertemplate": "Semana=%{x}<br>Precio Unitario Promedio=%{y}<extra></extra>",
                  "legendgroup": "",
                  "line": {
                    "color": "#636efa",
                    "dash": "solid"
                  },
                  "marker": {
                    "symbol": "circle"
                  },
                  "mode": "lines",
                  "name": "",
                  "orientation": "v",
                  "showlegend": false,
                  "type": "scatter",
                  "x": [
                    "2022-01-03T00:00:00",
                    "2022-01-10T00:00:00",
                    "2022-01-17T00:00:00",
                    "2022-01-24T00:00:00",
                    "2022-01-31T00:00:00",
                    "2022-02-07T00:00:00",
                    "2022-02-14T00:00:00",
                    "2022-02-21T00:00:00",
                    "2022-02-28T00:00:00",
                    "2022-03-07T00:00:00",
                    "2022-03-14T00:00:00",
                    "2022-03-21T00:00:00",
                    "2022-03-28T00:00:00",
                    "2022-04-04T00:00:00",
                    "2022-04-11T00:00:00",
                    "2022-04-18T00:00:00",
                    "2022-04-25T00:00:00",
                    "2022-05-02T00:00:00",
                    "2022-05-09T00:00:00",
                    "2022-05-16T00:00:00",
                    "2022-05-23T00:00:00",
                    "2022-05-30T00:00:00",
                    "2022-06-06T00:00:00",
                    "2022-06-13T00:00:00",
                    "2022-06-20T00:00:00",
                    "2022-06-27T00:00:00",
                    "2022-07-04T00:00:00",
                    "2022-07-11T00:00:00",
                    "2022-07-18T00:00:00",
                    "2022-07-25T00:00:00",
                    "2022-08-01T00:00:00",
                    "2022-08-08T00:00:00",
                    "2022-08-15T00:00:00",
                    "2022-08-22T00:00:00",
                    "2022-08-29T00:00:00",
                    "2022-09-05T00:00:00",
                    "2022-09-12T00:00:00",
                    "2022-09-19T00:00:00",
                    "2022-09-26T00:00:00",
                    "2022-10-03T00:00:00",
                    "2022-10-10T00:00:00",
                    "2022-10-17T00:00:00",
                    "2022-10-24T00:00:00",
                    "2022-10-31T00:00:00",
                    "2022-11-07T00:00:00",
                    "2022-11-14T00:00:00",
                    "2022-11-21T00:00:00",
                    "2022-11-28T00:00:00",
                    "2022-12-05T00:00:00",
                    "2022-12-12T00:00:00",
                    "2022-12-19T00:00:00",
                    "2022-12-26T00:00:00",
                    "2023-01-02T00:00:00",
                    "2023-01-09T00:00:00",
                    "2023-01-16T00:00:00",
                    "2023-01-23T00:00:00",
                    "2023-01-30T00:00:00",
                    "2023-02-06T00:00:00",
                    "2023-02-13T00:00:00",
                    "2023-02-20T00:00:00",
                    "2023-02-27T00:00:00",
                    "2023-03-06T00:00:00",
                    "2023-03-13T00:00:00",
                    "2023-03-20T00:00:00",
                    "2023-03-27T00:00:00",
                    "2023-04-03T00:00:00",
                    "2023-04-10T00:00:00",
                    "2023-04-17T00:00:00",
                    "2023-04-24T00:00:00",
                    "2023-05-01T00:00:00",
                    "2023-05-08T00:00:00",
                    "2023-05-15T00:00:00",
                    "2023-05-22T00:00:00",
                    "2023-05-29T00:00:00",
                    "2023-06-05T00:00:00",
                    "2023-06-12T00:00:00",
                    "2023-06-19T00:00:00",
                    "2023-06-26T00:00:00",
                    "2023-07-03T00:00:00",
                    "2023-07-10T00:00:00",
                    "2023-07-17T00:00:00",
                    "2023-07-24T00:00:00",
                    "2023-07-31T00:00:00",
                    "2023-08-07T00:00:00",
                    "2023-08-14T00:00:00",
                    "2023-08-21T00:00:00",
                    "2023-08-28T00:00:00",
                    "2023-09-04T00:00:00",
                    "2023-09-11T00:00:00",
                    "2023-09-18T00:00:00",
                    "2023-09-25T00:00:00",
                    "2023-10-02T00:00:00",
                    "2023-10-09T00:00:00",
                    "2023-10-16T00:00:00",
                    "2023-10-23T00:00:00",
                    "2023-10-30T00:00:00",
                    "2023-11-06T00:00:00",
                    "2023-11-13T00:00:00",
                    "2023-11-20T00:00:00",
                    "2023-11-27T00:00:00",
                    "2023-12-04T00:00:00",
                    "2023-12-11T00:00:00",
                    "2023-12-18T00:00:00",
                    "2023-12-25T00:00:00",
                    "2024-01-01T00:00:00",
                    "2024-01-08T00:00:00",
                    "2024-01-15T00:00:00",
                    "2024-01-22T00:00:00",
                    "2024-01-29T00:00:00",
                    "2024-02-05T00:00:00",
                    "2024-02-12T00:00:00",
                    "2024-02-19T00:00:00",
                    "2024-02-26T00:00:00",
                    "2024-03-04T00:00:00",
                    "2024-03-11T00:00:00",
                    "2024-03-18T00:00:00",
                    "2024-03-25T00:00:00",
                    "2024-04-01T00:00:00",
                    "2024-04-08T00:00:00",
                    "2024-04-15T00:00:00",
                    "2024-04-22T00:00:00",
                    "2024-04-29T00:00:00",
                    "2024-05-06T00:00:00",
                    "2024-05-13T00:00:00",
                    "2024-05-20T00:00:00",
                    "2024-05-27T00:00:00",
                    "2024-06-03T00:00:00",
                    "2024-06-10T00:00:00",
                    "2024-06-17T00:00:00",
                    "2024-06-24T00:00:00"
                  ],
                  "xaxis": "x",
                  "y": {
                    "bdata": "trKFmOgYcUCAFztrvotxQKLXsxQ0gW9ANRpzGSetbUAY9tIAYTZuQLRY2AT7r25AIVEhT529bkBE+RNfZ+luQIY0+IEfX29Ax1qi3W/Oa0BoDlA9J6RvQP0VvjYZpW1AujH1bzPVa0Acq+HNEqZuQOftOYNHjW9AW7Dm2viOcUDMbP7GQZNxQK7cDBBedG1A6guqa+wTckDIeNqtdERwQA0q1mIQSHJANSqXvj4WcUAmjMQPHndzQGtSbvfvMXFAVb9MNzQsdEATgNBNYZ1yQHbgIvF/R3FAMW8w81GvcUBVhH9OEmhwQBofHksMY3JAPbYov+99ckCbeia7SsJ0QBgzr6nS9nRAR3d/EDs0dEAboUB6OBlzQCzAyhyhD3JA30JxvRAnc0AOu6+5qjJ2QMecpdPBCXVAhlxWX38edUBhe92bHKB1QEGrsM2ksHdAbcKQ+IO/eUBhGka396N1QJ4DL24h0HZAWmZSOmCweUBLbOw5c1d5QFFRHLNdnnlABDnEOhU6fEBlilFQ8+h8QAD++SXQ43lADttjg/OeekArdDaI2093QO0mTygqP3pAztXr0DYpgkB/Kwo3qAd/QF7ShIHN3HpAbipFI6kpfUB9RN+cOESAQNnfKDEL8HlAWl78hUTEfkCpoi87foeDQM206IcHRn5AnpV+4CMhgECvNhe5vd9/QFUJRVVxeH9AZzCD+76KgEBru45VgLeCQKmxGffUIIJAR4Cyb9whf0AEfUDCQZiCQMNOO5ibkIFAFQmb/GjxgUBctKUftWmCQGB6hQGMVoNA3mqfQIEVhEDtgTziasyDQAhYd5iGL4RA8qCn7M23hEAw1KKWC5mFQF2jjf3SN4RABsh/68BChUAqMzFgYrmFQHHGfHL7ZIVAh7JlrTBzhkBHiBrZI7OEQG7m1C0JUYdAr6nKBAtBg0Cfq63okcCDQKJcIJrfAotA9iw3dpaBi0BKtW/laSqHQFrtLTSgIolA4cyc7UPNjkBiHdwRkLmIQIKmqKvPnIlA4V3vOCTGjEBucjbRieWNQPzRMZibDIZAGCi32/WJh0D8RzeuVaiHQEnLVqOtD5BA60VcKh3zk0A6B/2XJ1OYQCPcTUY1bJxA+8Koxrx8mUAW3Lhu00eaQNXIVgfgCJlA1PyHi7fgm0DM8g3iU1SeQH/VHBZYlqBArBrj9RdZoEB2AqD1K0agQBekNEyXjJtAo+/RFQclnUBfLl3GSFWdQEUGggdhXp9ANnFQR4aPnECPaJnOAJeeQJnxh+N9h5lAdOERuNjMnUBr5VpNUCadQM6hI6f7zJlA+N7DT1homkCXS++Wi+SYQA3UTcFMg5hATq3EMsrrlkCYHucogYadQEzhieuARJlAvqhFh4lGnkA=",
                    "dtype": "f8"
                  },
                  "yaxis": "y"
                }
              ],
              "layout": {
                "height": 450,
                "legend": {
                  "tracegroupgap": 0
                },
                "template": {
                  "data": {
                    "bar": [
                      {
                        "error_x": {
                          "color": "#2a3f5f"
                        },
                        "error_y": {
                          "color": "#2a3f5f"
                        },
                        "marker": {
                          "line": {
                            "color": "white",
                            "width": 0.5
                          },
                          "pattern": {
                            "fillmode": "overlay",
                            "size": 10,
                            "solidity": 0.2
                          }
                        },
                        "type": "bar"
                      }
                    ],
                    "barpolar": [
                      {
                        "marker": {
                          "line": {
                            "color": "white",
                            "width": 0.5
                          },
                          "pattern": {
                            "fillmode": "overlay",
                            "size": 10,
                            "solidity": 0.2
                          }
                        },
                        "type": "barpolar"
                      }
                    ],
                    "carpet": [
                      {
                        "aaxis": {
                          "endlinecolor": "#2a3f5f",
                          "gridcolor": "#C8D4E3",
                          "linecolor": "#C8D4E3",
                          "minorgridcolor": "#C8D4E3",
                          "startlinecolor": "#2a3f5f"
                        },
                        "baxis": {
                          "endlinecolor": "#2a3f5f",
                          "gridcolor": "#C8D4E3",
                          "linecolor": "#C8D4E3",
                          "minorgridcolor": "#C8D4E3",
                          "startlinecolor": "#2a3f5f"
                        },
                        "type": "carpet"
                      }
                    ],
                    "choropleth": [
                      {
                        "colorbar": {
                          "outlinewidth": 0,
                          "ticks": ""
                        },
                        "type": "choropleth"
                      }
                    ],
                    "contour": [
                      {
                        "colorbar": {
                          "outlinewidth": 0,
                          "ticks": ""
                        },
                        "colorscale": [
                          [
                            0,
                            "#0d0887"
                          ],
                          [
                            0.1111111111111111,
                            "#46039f"
                          ],
                          [
                            0.2222222222222222,
                            "#7201a8"
                          ],
                          [
                            0.3333333333333333,
                            "#9c179e"
                          ],
                          [
                            0.4444444444444444,
                            "#bd3786"
                          ],
                          [
                            0.5555555555555556,
                            "#d8576b"
                          ],
                          [
                            0.6666666666666666,
                            "#ed7953"
                          ],
                          [
                            0.7777777777777778,
                            "#fb9f3a"
                          ],
                          [
                            0.8888888888888888,
                            "#fdca26"
                          ],
                          [
                            1,
                            "#f0f921"
                          ]
                        ],
                        "type": "contour"
                      }
                    ],
                    "contourcarpet": [
                      {
                        "colorbar": {
                          "outlinewidth": 0,
                          "ticks": ""
                        },
                        "type": "contourcarpet"
                      }
                    ],
                    "heatmap": [
                      {
                        "colorbar": {
                          "outlinewidth": 0,
                          "ticks": ""
                        },
                        "colorscale": [
                          [
                            0,
                            "#0d0887"
                          ],
                          [
                            0.1111111111111111,
                            "#46039f"
                          ],
                          [
                            0.2222222222222222,
                            "#7201a8"
                          ],
                          [
                            0.3333333333333333,
                            "#9c179e"
                          ],
                          [
                            0.4444444444444444,
                            "#bd3786"
                          ],
                          [
                            0.5555555555555556,
                            "#d8576b"
                          ],
                          [
                            0.6666666666666666,
                            "#ed7953"
                          ],
                          [
                            0.7777777777777778,
                            "#fb9f3a"
                          ],
                          [
                            0.8888888888888888,
                            "#fdca26"
                          ],
                          [
                            1,
                            "#f0f921"
                          ]
                        ],
                        "type": "heatmap"
                      }
                    ],
                    "histogram": [
                      {
                        "marker": {
                          "pattern": {
                            "fillmode": "overlay",
                            "size": 10,
                            "solidity": 0.2
                          }
                        },
                        "type": "histogram"
                      }
                    ],
                    "histogram2d": [
                      {
                        "colorbar": {
                          "outlinewidth": 0,
                          "ticks": ""
                        },
                        "colorscale": [
                          [
                            0,
                            "#0d0887"
                          ],
                          [
                            0.1111111111111111,
                            "#46039f"
                          ],
                          [
                            0.2222222222222222,
                            "#7201a8"
                          ],
                          [
                            0.3333333333333333,
                            "#9c179e"
                          ],
                          [
                            0.4444444444444444,
                            "#bd3786"
                          ],
                          [
                            0.5555555555555556,
                            "#d8576b"
                          ],
                          [
                            0.6666666666666666,
                            "#ed7953"
                          ],
                          [
                            0.7777777777777778,
                            "#fb9f3a"
                          ],
                          [
                            0.8888888888888888,
                            "#fdca26"
                          ],
                          [
                            1,
                            "#f0f921"
                          ]
                        ],
                        "type": "histogram2d"
                      }
                    ],
                    "histogram2dcontour": [
                      {
                        "colorbar": {
                          "outlinewidth": 0,
                          "ticks": ""
                        },
                        "colorscale": [
                          [
                            0,
                            "#0d0887"
                          ],
                          [
                            0.1111111111111111,
                            "#46039f"
                          ],
                          [
                            0.2222222222222222,
                            "#7201a8"
                          ],
                          [
                            0.3333333333333333,
                            "#9c179e"
                          ],
                          [
                            0.4444444444444444,
                            "#bd3786"
                          ],
                          [
                            0.5555555555555556,
                            "#d8576b"
                          ],
                          [
                            0.6666666666666666,
                            "#ed7953"
                          ],
                          [
                            0.7777777777777778,
                            "#fb9f3a"
                          ],
                          [
                            0.8888888888888888,
                            "#fdca26"
                          ],
                          [
                            1,
                            "#f0f921"
                          ]
                        ],
                        "type": "histogram2dcontour"
                      }
                    ],
                    "mesh3d": [
                      {
                        "colorbar": {
                          "outlinewidth": 0,
                          "ticks": ""
                        },
                        "type": "mesh3d"
                      }
                    ],
                    "parcoords": [
                      {
                        "line": {
                          "colorbar": {
                            "outlinewidth": 0,
                            "ticks": ""
                          }
                        },
                        "type": "parcoords"
                      }
                    ],
                    "pie": [
                      {
                        "automargin": true,
                        "type": "pie"
                      }
                    ],
                    "scatter": [
                      {
                        "fillpattern": {
                          "fillmode": "overlay",
                          "size": 10,
                          "solidity": 0.2
                        },
                        "type": "scatter"
                      }
                    ],
                    "scatter3d": [
                      {
                        "line": {
                          "colorbar": {
                            "outlinewidth": 0,
                            "ticks": ""
                          }
                        },
                        "marker": {
                          "colorbar": {
                            "outlinewidth": 0,
                            "ticks": ""
                          }
                        },
                        "type": "scatter3d"
                      }
                    ],
                    "scattercarpet": [
                      {
                        "marker": {
                          "colorbar": {
                            "outlinewidth": 0,
                            "ticks": ""
                          }
                        },
                        "type": "scattercarpet"
                      }
                    ],
                    "scattergeo": [
                      {
                        "marker": {
                          "colorbar": {
                            "outlinewidth": 0,
                            "ticks": ""
                          }
                        },
                        "type": "scattergeo"
                      }
                    ],
                    "scattergl": [
                      {
                        "marker": {
                          "colorbar": {
                            "outlinewidth": 0,
                            "ticks": ""
                          }
                        },
                        "type": "scattergl"
                      }
                    ],
                    "scattermap": [
                      {
                        "marker": {
                          "colorbar": {
                            "outlinewidth": 0,
                            "ticks": ""
                          }
                        },
                        "type": "scattermap"
                      }
                    ],
                    "scattermapbox": [
                      {
                        "marker": {
                          "colorbar": {
                            "outlinewidth": 0,
                            "ticks": ""
                          }
                        },
                        "type": "scattermapbox"
                      }
                    ],
                    "scatterpolar": [
                      {
                        "marker": {
                          "colorbar": {
                            "outlinewidth": 0,
                            "ticks": ""
                          }
                        },
                        "type": "scatterpolar"
                      }
                    ],
                    "scatterpolargl": [
                      {
                        "marker": {
                          "colorbar": {
                            "outlinewidth": 0,
                            "ticks": ""
                          }
                        },
                        "type": "scatterpolargl"
                      }
                    ],
                    "scatterternary": [
                      {
                        "marker": {
                          "colorbar": {
                            "outlinewidth": 0,
                            "ticks": ""
                          }
                        },
                        "type": "scatterternary"
                      }
                    ],
                    "surface": [
                      {
                        "colorbar": {
                          "outlinewidth": 0,
                          "ticks": ""
                        },
                        "colorscale": [
                          [
                            0,
                            "#0d0887"
                          ],
                          [
                            0.1111111111111111,
                            "#46039f"
                          ],
                          [
                            0.2222222222222222,
                            "#7201a8"
                          ],
                          [
                            0.3333333333333333,
                            "#9c179e"
                          ],
                          [
                            0.4444444444444444,
                            "#bd3786"
                          ],
                          [
                            0.5555555555555556,
                            "#d8576b"
                          ],
                          [
                            0.6666666666666666,
                            "#ed7953"
                          ],
                          [
                            0.7777777777777778,
                            "#fb9f3a"
                          ],
                          [
                            0.8888888888888888,
                            "#fdca26"
                          ],
                          [
                            1,
                            "#f0f921"
                          ]
                        ],
                        "type": "surface"
                      }
                    ],
                    "table": [
                      {
                        "cells": {
                          "fill": {
                            "color": "#EBF0F8"
                          },
                          "line": {
                            "color": "white"
                          }
                        },
                        "header": {
                          "fill": {
                            "color": "#C8D4E3"
                          },
                          "line": {
                            "color": "white"
                          }
                        },
                        "type": "table"
                      }
                    ]
                  },
                  "layout": {
                    "annotationdefaults": {
                      "arrowcolor": "#2a3f5f",
                      "arrowhead": 0,
                      "arrowwidth": 1
                    },
                    "autotypenumbers": "strict",
                    "coloraxis": {
                      "colorbar": {
                        "outlinewidth": 0,
                        "ticks": ""
                      }
                    },
                    "colorscale": {
                      "diverging": [
                        [
                          0,
                          "#8e0152"
                        ],
                        [
                          0.1,
                          "#c51b7d"
                        ],
                        [
                          0.2,
                          "#de77ae"
                        ],
                        [
                          0.3,
                          "#f1b6da"
                        ],
                        [
                          0.4,
                          "#fde0ef"
                        ],
                        [
                          0.5,
                          "#f7f7f7"
                        ],
                        [
                          0.6,
                          "#e6f5d0"
                        ],
                        [
                          0.7,
                          "#b8e186"
                        ],
                        [
                          0.8,
                          "#7fbc41"
                        ],
                        [
                          0.9,
                          "#4d9221"
                        ],
                        [
                          1,
                          "#276419"
                        ]
                      ],
                      "sequential": [
                        [
                          0,
                          "#0d0887"
                        ],
                        [
                          0.1111111111111111,
                          "#46039f"
                        ],
                        [
                          0.2222222222222222,
                          "#7201a8"
                        ],
                        [
                          0.3333333333333333,
                          "#9c179e"
                        ],
                        [
                          0.4444444444444444,
                          "#bd3786"
                        ],
                        [
                          0.5555555555555556,
                          "#d8576b"
                        ],
                        [
                          0.6666666666666666,
                          "#ed7953"
                        ],
                        [
                          0.7777777777777778,
                          "#fb9f3a"
                        ],
                        [
                          0.8888888888888888,
                          "#fdca26"
                        ],
                        [
                          1,
                          "#f0f921"
                        ]
                      ],
                      "sequentialminus": [
                        [
                          0,
                          "#0d0887"
                        ],
                        [
                          0.1111111111111111,
                          "#46039f"
                        ],
                        [
                          0.2222222222222222,
                          "#7201a8"
                        ],
                        [
                          0.3333333333333333,
                          "#9c179e"
                        ],
                        [
                          0.4444444444444444,
                          "#bd3786"
                        ],
                        [
                          0.5555555555555556,
                          "#d8576b"
                        ],
                        [
                          0.6666666666666666,
                          "#ed7953"
                        ],
                        [
                          0.7777777777777778,
                          "#fb9f3a"
                        ],
                        [
                          0.8888888888888888,
                          "#fdca26"
                        ],
                        [
                          1,
                          "#f0f921"
                        ]
                      ]
                    },
                    "colorway": [
                      "#636efa",
                      "#EF553B",
                      "#00cc96",
                      "#ab63fa",
                      "#FFA15A",
                      "#19d3f3",
                      "#FF6692",
                      "#B6E880",
                      "#FF97FF",
                      "#FECB52"
                    ],
                    "font": {
                      "color": "#2a3f5f"
                    },
                    "geo": {
                      "bgcolor": "white",
                      "lakecolor": "white",
                      "landcolor": "white",
                      "showlakes": true,
                      "showland": true,
                      "subunitcolor": "#C8D4E3"
                    },
                    "hoverlabel": {
                      "align": "left"
                    },
                    "hovermode": "closest",
                    "mapbox": {
                      "style": "light"
                    },
                    "paper_bgcolor": "white",
                    "plot_bgcolor": "white",
                    "polar": {
                      "angularaxis": {
                        "gridcolor": "#EBF0F8",
                        "linecolor": "#EBF0F8",
                        "ticks": ""
                      },
                      "bgcolor": "white",
                      "radialaxis": {
                        "gridcolor": "#EBF0F8",
                        "linecolor": "#EBF0F8",
                        "ticks": ""
                      }
                    },
                    "scene": {
                      "xaxis": {
                        "backgroundcolor": "white",
                        "gridcolor": "#DFE8F3",
                        "gridwidth": 2,
                        "linecolor": "#EBF0F8",
                        "showbackground": true,
                        "ticks": "",
                        "zerolinecolor": "#EBF0F8"
                      },
                      "yaxis": {
                        "backgroundcolor": "white",
                        "gridcolor": "#DFE8F3",
                        "gridwidth": 2,
                        "linecolor": "#EBF0F8",
                        "showbackground": true,
                        "ticks": "",
                        "zerolinecolor": "#EBF0F8"
                      },
                      "zaxis": {
                        "backgroundcolor": "white",
                        "gridcolor": "#DFE8F3",
                        "gridwidth": 2,
                        "linecolor": "#EBF0F8",
                        "showbackground": true,
                        "ticks": "",
                        "zerolinecolor": "#EBF0F8"
                      }
                    },
                    "shapedefaults": {
                      "line": {
                        "color": "#2a3f5f"
                      }
                    },
                    "ternary": {
                      "aaxis": {
                        "gridcolor": "#DFE8F3",
                        "linecolor": "#A2B1C6",
                        "ticks": ""
                      },
                      "baxis": {
                        "gridcolor": "#DFE8F3",
                        "linecolor": "#A2B1C6",
                        "ticks": ""
                      },
                      "bgcolor": "white",
                      "caxis": {
                        "gridcolor": "#DFE8F3",
                        "linecolor": "#A2B1C6",
                        "ticks": ""
                      }
                    },
                    "title": {
                      "x": 0.05
                    },
                    "xaxis": {
                      "automargin": true,
                      "gridcolor": "#EBF0F8",
                      "linecolor": "#EBF0F8",
                      "ticks": "",
                      "title": {
                        "standoff": 15
                      },
                      "zerolinecolor": "#EBF0F8",
                      "zerolinewidth": 2
                    },
                    "yaxis": {
                      "automargin": true,
                      "gridcolor": "#EBF0F8",
                      "linecolor": "#EBF0F8",
                      "ticks": "",
                      "title": {
                        "standoff": 15
                      },
                      "zerolinecolor": "#EBF0F8",
                      "zerolinewidth": 2
                    }
                  }
                },
                "title": {
                  "text": "Precio Unitario Promedio Semanal"
                },
                "xaxis": {
                  "anchor": "y",
                  "domain": [
                    0,
                    1
                  ],
                  "title": {
                    "text": "Semana"
                  }
                },
                "yaxis": {
                  "anchor": "x",
                  "domain": [
                    0,
                    1
                  ],
                  "title": {
                    "text": "Precio Unitario Promedio"
                  }
                }
              }
            }
          },
          "metadata": {},
          "output_type": "display_data"
        }
      ],
      "source": [
        "# Calcular precio unitario promedio semanal\n",
        "precio_semanal = (\n",
        "    filtered_df.groupby(filtered_df['fecha_dt'].dt.to_period('W'))['precio_uni']\n",
        "    .mean()\n",
        "    .reset_index()\n",
        ")\n",
        "precio_semanal['fecha'] = precio_semanal['fecha_dt'].dt.to_timestamp()\n",
        "precio_semanal = precio_semanal.rename(columns={'precio_uni': 'precio_unitario'})\n",
        "\n",
        "# Graficar con plotly\n",
        "fig = px.line(\n",
        "    precio_semanal,\n",
        "    x='fecha',\n",
        "    y='precio_unitario',\n",
        "    title='Precio Unitario Promedio Semanal',\n",
        "    labels={'fecha': 'Semana', 'precio_unitario': 'Precio Unitario Promedio'}\n",
        ")\n",
        "fig.update_layout(template='plotly_white', height=450)\n",
        "fig.show()"
      ]
    },
    {
      "cell_type": "markdown",
      "id": "a35a4e22",
      "metadata": {
        "id": "a35a4e22"
      },
      "source": [
        "🔍 **Observaciones**:\n",
        "\n",
        "- Se observa un crecimiento sostenido en los precios hasta 2024, seguido de un fuerte incremento a partir de enero de ese año.\n",
        "\n",
        "- La marcada suba de precios indica la necesidad de actualizar los valores según la inflación, para poder predecir con mayor precisión tendencias y comportamientos de compra."
      ]
    },
    {
      "cell_type": "code",
      "execution_count": 39,
      "id": "304e64ae",
      "metadata": {
        "colab": {
          "base_uri": "https://localhost:8080/",
          "height": 717
        },
        "id": "304e64ae",
        "outputId": "55fd6ae1-dd6c-4ed3-84ac-3db321a8446e"
      },
      "outputs": [
        {
          "data": {
            "application/vnd.plotly.v1+json": {
              "config": {
                "plotlyServerURL": "https://plot.ly"
              },
              "data": [
                {
                  "line": {
                    "color": "royalblue"
                  },
                  "mode": "lines+markers",
                  "name": "Total general",
                  "type": "scatter",
                  "x": [
                    "2022-01-01T00:00:00",
                    "2022-02-01T00:00:00",
                    "2022-03-01T00:00:00",
                    "2022-04-01T00:00:00",
                    "2022-05-01T00:00:00",
                    "2022-06-01T00:00:00",
                    "2022-07-01T00:00:00",
                    "2022-08-01T00:00:00",
                    "2022-09-01T00:00:00",
                    "2022-10-01T00:00:00",
                    "2022-11-01T00:00:00",
                    "2022-12-01T00:00:00",
                    "2023-01-01T00:00:00",
                    "2023-02-01T00:00:00",
                    "2023-03-01T00:00:00",
                    "2023-04-01T00:00:00",
                    "2023-05-01T00:00:00",
                    "2023-06-01T00:00:00",
                    "2023-07-01T00:00:00",
                    "2023-08-01T00:00:00",
                    "2023-09-01T00:00:00",
                    "2023-10-01T00:00:00",
                    "2023-11-01T00:00:00",
                    "2023-12-01T00:00:00",
                    "2024-01-01T00:00:00",
                    "2024-02-01T00:00:00",
                    "2024-03-01T00:00:00",
                    "2024-04-01T00:00:00",
                    "2024-05-01T00:00:00",
                    "2024-06-01T00:00:00"
                  ],
                  "xaxis": "x",
                  "y": {
                    "bdata": "AAAAAKAh4UAAAAAAIHvpQAAAAABAX/FAAAAAAOBx8UAAAAAAUMf0QAAAAAAw1/NAAAAAAMDe8EAAAAAA8OHyQAAAAACQDwJBAAAAAICC9kAAAAAA8GH3QAAAAADgT+1AAAAAAICh6UAAAAAAUCnzQAAAAABgfu9AAAAAAOBL80AAAAAAAPr0QAAAAADQ7/dAAAAAALAo8UAAAAAA4BfuQAAAAABwqPJAAAAAAECr70AAAAAAIGXuQAAAAABgpeJAAAAAAADa20AAAAAAYN/sQAAAAABA/+hAAAAAAMDJ8UAAAAAAEI7yQAAAAAAAsPBA",
                    "dtype": "f8"
                  },
                  "yaxis": "y"
                },
                {
                  "line": {
                    "width": 2
                  },
                  "mode": "lines+markers",
                  "name": "Mia Jazmin Tobias Cabrera",
                  "type": "scatter",
                  "x": [
                    "2022-01-01T00:00:00",
                    "2022-02-01T00:00:00",
                    "2022-03-01T00:00:00",
                    "2022-04-01T00:00:00",
                    "2022-05-01T00:00:00",
                    "2022-06-01T00:00:00",
                    "2022-07-01T00:00:00",
                    "2022-08-01T00:00:00",
                    "2022-09-01T00:00:00",
                    "2022-10-01T00:00:00",
                    "2022-11-01T00:00:00",
                    "2022-12-01T00:00:00",
                    "2023-01-01T00:00:00",
                    "2023-02-01T00:00:00",
                    "2023-03-01T00:00:00",
                    "2023-04-01T00:00:00",
                    "2023-05-01T00:00:00",
                    "2023-06-01T00:00:00",
                    "2023-07-01T00:00:00",
                    "2023-08-01T00:00:00",
                    "2023-09-01T00:00:00",
                    "2023-10-01T00:00:00",
                    "2023-11-01T00:00:00",
                    "2023-12-01T00:00:00",
                    "2024-01-01T00:00:00",
                    "2024-02-01T00:00:00",
                    "2024-03-01T00:00:00",
                    "2024-04-01T00:00:00",
                    "2024-05-01T00:00:00",
                    "2024-06-01T00:00:00"
                  ],
                  "xaxis": "x2",
                  "y": {
                    "bdata": "AAAAAACAbUAAAAAAAGBkQAAAAAAAsHJAAAAAAACgcUAAAAAAAFBwQAAAAAAAoGhAAAAAAAAgaUAAAAAAAGiEQAAAAAAA0LBAAAAAAACPsEAAAAAAAHSyQAAAAAAAlKhAAAAAAABSqEAAAAAAAJSbQAAAAAAAoqhAAAAAAABtskAAAAAAABO4QAAAAAAA4bZAAAAAAABQiUAAAAAAAAB5QAAAAAAA9rFAAAAAAACWrUAAAAAAAIKqQAAAAAAAMJ9AAAAAAADonEAAAAAAAJiiQAAAAAAA0IZAAAAAAADojkAAAAAAAFSSQAAAAAAAsJFA",
                    "dtype": "f8"
                  },
                  "yaxis": "y2"
                },
                {
                  "line": {
                    "width": 2
                  },
                  "mode": "lines+markers",
                  "name": "Victoria Gimenez",
                  "type": "scatter",
                  "x": [
                    "2022-02-01T00:00:00",
                    "2022-03-01T00:00:00",
                    "2022-04-01T00:00:00",
                    "2022-05-01T00:00:00",
                    "2022-06-01T00:00:00",
                    "2022-07-01T00:00:00",
                    "2022-08-01T00:00:00",
                    "2022-09-01T00:00:00",
                    "2022-10-01T00:00:00",
                    "2022-11-01T00:00:00",
                    "2022-12-01T00:00:00",
                    "2023-01-01T00:00:00",
                    "2023-02-01T00:00:00",
                    "2023-03-01T00:00:00",
                    "2023-04-01T00:00:00",
                    "2023-05-01T00:00:00",
                    "2023-06-01T00:00:00",
                    "2023-07-01T00:00:00",
                    "2023-08-01T00:00:00",
                    "2023-09-01T00:00:00",
                    "2023-10-01T00:00:00",
                    "2023-11-01T00:00:00",
                    "2023-12-01T00:00:00",
                    "2024-01-01T00:00:00",
                    "2024-02-01T00:00:00",
                    "2024-03-01T00:00:00",
                    "2024-04-01T00:00:00",
                    "2024-05-01T00:00:00",
                    "2024-06-01T00:00:00"
                  ],
                  "xaxis": "x3",
                  "y": {
                    "bdata": "AAAAAACggkAAAAAAANB0QAAAAAAAADBAAAAAAACAb0AAAAAAAIBwQAAAAAAAUHtAAAAAAAB4hUAAAAAAAAiDQAAAAAAAFJ9AAAAAAABkoUAAAAAAADSUQAAAAAAAWKRAAAAAAAAhtkAAAAAAAGBiQAAAAAAAbKNAAAAAAADqrUAAAAAAAPC1QAAAAAAAAKxAAAAAAABoqUAAAAAAAAaxQAAAAAAAiJ5AAAAAAADUqUAAAAAAAPiKQAAAAAAAwFRAAAAAAABMl0AAAAAAAAiTQAAAAAAAdJhAAAAAAACwpEAAAAAAAJyVQA==",
                    "dtype": "f8"
                  },
                  "yaxis": "y3"
                },
                {
                  "line": {
                    "width": 2
                  },
                  "mode": "lines+markers",
                  "name": "Jazmin Lola Ferreyra",
                  "type": "scatter",
                  "x": [
                    "2022-01-01T00:00:00",
                    "2022-02-01T00:00:00",
                    "2022-03-01T00:00:00",
                    "2022-04-01T00:00:00",
                    "2022-05-01T00:00:00",
                    "2022-06-01T00:00:00",
                    "2022-07-01T00:00:00",
                    "2022-08-01T00:00:00",
                    "2022-09-01T00:00:00",
                    "2022-10-01T00:00:00",
                    "2022-11-01T00:00:00",
                    "2022-12-01T00:00:00",
                    "2023-01-01T00:00:00",
                    "2023-02-01T00:00:00",
                    "2023-03-01T00:00:00",
                    "2023-04-01T00:00:00",
                    "2023-05-01T00:00:00",
                    "2023-06-01T00:00:00",
                    "2023-07-01T00:00:00",
                    "2023-08-01T00:00:00",
                    "2023-09-01T00:00:00",
                    "2023-10-01T00:00:00",
                    "2023-11-01T00:00:00",
                    "2023-12-01T00:00:00",
                    "2024-01-01T00:00:00",
                    "2024-02-01T00:00:00",
                    "2024-03-01T00:00:00",
                    "2024-04-01T00:00:00",
                    "2024-05-01T00:00:00",
                    "2024-06-01T00:00:00"
                  ],
                  "xaxis": "x4",
                  "y": {
                    "bdata": "AAAAAADAZ0AAAAAAAIBQQAAAAAAAwGtAAAAAAADgbEAAAAAAALB9QAAAAAAAQHVAAAAAAABgdkAAAAAAANBxQAAAAAAAMHdAAAAAAAB4n0AAAAAAAGKlQAAAAAAAWJlAAAAAAABggEAAAAAAADyQQAAAAAAAGJtAAAAAAADQp0AAAAAAAAirQAAAAAAABKVAAAAAAABIgkAAAAAAAGyfQAAAAAAAVJ1AAAAAAADAlkAAAAAAAIyqQAAAAAAAFKNAAAAAAADgmkAAAAAAACBiQAAAAAAA0H5AAAAAAACQckAAAAAAADCAQAAAAAAAwG9A",
                    "dtype": "f8"
                  },
                  "yaxis": "y4"
                },
                {
                  "line": {
                    "width": 2
                  },
                  "mode": "lines+markers",
                  "name": "Santiago Martinez",
                  "type": "scatter",
                  "x": [
                    "2022-01-01T00:00:00",
                    "2022-02-01T00:00:00",
                    "2022-03-01T00:00:00",
                    "2022-04-01T00:00:00",
                    "2022-05-01T00:00:00",
                    "2022-06-01T00:00:00",
                    "2022-07-01T00:00:00",
                    "2022-08-01T00:00:00",
                    "2022-09-01T00:00:00",
                    "2022-10-01T00:00:00",
                    "2022-11-01T00:00:00",
                    "2022-12-01T00:00:00",
                    "2023-01-01T00:00:00",
                    "2023-02-01T00:00:00",
                    "2023-03-01T00:00:00",
                    "2023-04-01T00:00:00",
                    "2023-05-01T00:00:00",
                    "2023-06-01T00:00:00",
                    "2023-07-01T00:00:00",
                    "2023-08-01T00:00:00",
                    "2023-09-01T00:00:00",
                    "2023-10-01T00:00:00",
                    "2023-11-01T00:00:00",
                    "2023-12-01T00:00:00",
                    "2024-01-01T00:00:00",
                    "2024-02-01T00:00:00",
                    "2024-03-01T00:00:00",
                    "2024-04-01T00:00:00",
                    "2024-05-01T00:00:00",
                    "2024-06-01T00:00:00"
                  ],
                  "xaxis": "x5",
                  "y": {
                    "bdata": "AAAAAADgiUAAAAAAADiJQAAAAAAADJRAAAAAAACMmUAAAAAAAJSYQAAAAAAAMJZAAAAAAACsl0AAAAAAALSUQAAAAAAAkJ5AAAAAAACgjEAAAAAAANCKQAAAAAAA8ItAAAAAAACIhEAAAAAAAESVQAAAAAAA2IhAAAAAAAAgjUAAAAAAAIyVQAAAAAAAbJVAAAAAAACYnUAAAAAAAAiQQAAAAAAA+JdAAAAAAAB8kkAAAAAAAACKQAAAAAAA+IxAAAAAAADIiEAAAAAAAOiOQAAAAAAAsI1AAAAAAADsl0AAAAAAAMCKQAAAAAAAOJNA",
                    "dtype": "f8"
                  },
                  "yaxis": "y5"
                },
                {
                  "line": {
                    "width": 2
                  },
                  "mode": "lines+markers",
                  "name": "Benjamin Gutierrez Perez",
                  "type": "scatter",
                  "x": [
                    "2022-01-01T00:00:00",
                    "2022-02-01T00:00:00",
                    "2022-03-01T00:00:00",
                    "2022-04-01T00:00:00",
                    "2022-05-01T00:00:00",
                    "2022-06-01T00:00:00",
                    "2022-07-01T00:00:00",
                    "2022-08-01T00:00:00",
                    "2022-09-01T00:00:00",
                    "2022-10-01T00:00:00",
                    "2022-11-01T00:00:00",
                    "2022-12-01T00:00:00",
                    "2023-01-01T00:00:00",
                    "2023-02-01T00:00:00",
                    "2023-03-01T00:00:00",
                    "2023-04-01T00:00:00",
                    "2023-05-01T00:00:00",
                    "2023-06-01T00:00:00",
                    "2023-07-01T00:00:00",
                    "2023-08-01T00:00:00",
                    "2023-09-01T00:00:00",
                    "2023-10-01T00:00:00",
                    "2023-11-01T00:00:00",
                    "2023-12-01T00:00:00",
                    "2024-01-01T00:00:00",
                    "2024-02-01T00:00:00",
                    "2024-03-01T00:00:00",
                    "2024-04-01T00:00:00",
                    "2024-05-01T00:00:00",
                    "2024-06-01T00:00:00"
                  ],
                  "xaxis": "x6",
                  "y": {
                    "bdata": "AAAAAACgZ0AAAAAAAOB+QAAAAAAAwHxAAAAAAAAgeEAAAAAAAOB3QAAAAAAAIHVAAAAAAACwgUAAAAAAACB9QAAAAAAAoqdAAAAAAABSoUAAAAAAACCqQAAAAAAAIqZAAAAAAAD8qUAAAAAAAHCNQAAAAAAAAHtAAAAAAADQf0AAAAAAALmwQAAAAAAAMrRAAAAAAABQkEAAAAAAADB9QAAAAAAAAIlAAAAAAABgcEAAAAAAACBiQAAAAAAAAGNAAAAAAACga0AAAAAAALBxQAAAAAAAQGpAAAAAAABgfEAAAAAAACB7QAAAAAAAIGhA",
                    "dtype": "f8"
                  },
                  "yaxis": "y6"
                }
              ],
              "layout": {
                "annotations": [
                  {
                    "font": {
                      "size": 16
                    },
                    "showarrow": false,
                    "text": "Volumen mensual total (todos los clientes)",
                    "x": 0.5,
                    "xanchor": "center",
                    "xref": "paper",
                    "y": 1,
                    "yanchor": "bottom",
                    "yref": "paper"
                  },
                  {
                    "font": {
                      "size": 16
                    },
                    "showarrow": false,
                    "text": "🔹 Mia Jazmin Tobias Cabrera",
                    "x": 0.08399999999999999,
                    "xanchor": "center",
                    "xref": "paper",
                    "y": 0.45,
                    "yanchor": "bottom",
                    "yref": "paper"
                  },
                  {
                    "font": {
                      "size": 16
                    },
                    "showarrow": false,
                    "text": "🔹 Victoria Gimenez",
                    "x": 0.292,
                    "xanchor": "center",
                    "xref": "paper",
                    "y": 0.45,
                    "yanchor": "bottom",
                    "yref": "paper"
                  },
                  {
                    "font": {
                      "size": 16
                    },
                    "showarrow": false,
                    "text": "🔹 Jazmin Lola Ferreyra",
                    "x": 0.5,
                    "xanchor": "center",
                    "xref": "paper",
                    "y": 0.45,
                    "yanchor": "bottom",
                    "yref": "paper"
                  },
                  {
                    "font": {
                      "size": 16
                    },
                    "showarrow": false,
                    "text": "🔹 Santiago Martinez",
                    "x": 0.708,
                    "xanchor": "center",
                    "xref": "paper",
                    "y": 0.45,
                    "yanchor": "bottom",
                    "yref": "paper"
                  },
                  {
                    "font": {
                      "size": 16
                    },
                    "showarrow": false,
                    "text": "🔹 Benjamin Gutierrez Perez",
                    "x": 0.9159999999999999,
                    "xanchor": "center",
                    "xref": "paper",
                    "y": 0.45,
                    "yanchor": "bottom",
                    "yref": "paper"
                  }
                ],
                "height": 700,
                "margin": {
                  "t": 60
                },
                "showlegend": false,
                "template": {
                  "data": {
                    "bar": [
                      {
                        "error_x": {
                          "color": "#2a3f5f"
                        },
                        "error_y": {
                          "color": "#2a3f5f"
                        },
                        "marker": {
                          "line": {
                            "color": "white",
                            "width": 0.5
                          },
                          "pattern": {
                            "fillmode": "overlay",
                            "size": 10,
                            "solidity": 0.2
                          }
                        },
                        "type": "bar"
                      }
                    ],
                    "barpolar": [
                      {
                        "marker": {
                          "line": {
                            "color": "white",
                            "width": 0.5
                          },
                          "pattern": {
                            "fillmode": "overlay",
                            "size": 10,
                            "solidity": 0.2
                          }
                        },
                        "type": "barpolar"
                      }
                    ],
                    "carpet": [
                      {
                        "aaxis": {
                          "endlinecolor": "#2a3f5f",
                          "gridcolor": "#C8D4E3",
                          "linecolor": "#C8D4E3",
                          "minorgridcolor": "#C8D4E3",
                          "startlinecolor": "#2a3f5f"
                        },
                        "baxis": {
                          "endlinecolor": "#2a3f5f",
                          "gridcolor": "#C8D4E3",
                          "linecolor": "#C8D4E3",
                          "minorgridcolor": "#C8D4E3",
                          "startlinecolor": "#2a3f5f"
                        },
                        "type": "carpet"
                      }
                    ],
                    "choropleth": [
                      {
                        "colorbar": {
                          "outlinewidth": 0,
                          "ticks": ""
                        },
                        "type": "choropleth"
                      }
                    ],
                    "contour": [
                      {
                        "colorbar": {
                          "outlinewidth": 0,
                          "ticks": ""
                        },
                        "colorscale": [
                          [
                            0,
                            "#0d0887"
                          ],
                          [
                            0.1111111111111111,
                            "#46039f"
                          ],
                          [
                            0.2222222222222222,
                            "#7201a8"
                          ],
                          [
                            0.3333333333333333,
                            "#9c179e"
                          ],
                          [
                            0.4444444444444444,
                            "#bd3786"
                          ],
                          [
                            0.5555555555555556,
                            "#d8576b"
                          ],
                          [
                            0.6666666666666666,
                            "#ed7953"
                          ],
                          [
                            0.7777777777777778,
                            "#fb9f3a"
                          ],
                          [
                            0.8888888888888888,
                            "#fdca26"
                          ],
                          [
                            1,
                            "#f0f921"
                          ]
                        ],
                        "type": "contour"
                      }
                    ],
                    "contourcarpet": [
                      {
                        "colorbar": {
                          "outlinewidth": 0,
                          "ticks": ""
                        },
                        "type": "contourcarpet"
                      }
                    ],
                    "heatmap": [
                      {
                        "colorbar": {
                          "outlinewidth": 0,
                          "ticks": ""
                        },
                        "colorscale": [
                          [
                            0,
                            "#0d0887"
                          ],
                          [
                            0.1111111111111111,
                            "#46039f"
                          ],
                          [
                            0.2222222222222222,
                            "#7201a8"
                          ],
                          [
                            0.3333333333333333,
                            "#9c179e"
                          ],
                          [
                            0.4444444444444444,
                            "#bd3786"
                          ],
                          [
                            0.5555555555555556,
                            "#d8576b"
                          ],
                          [
                            0.6666666666666666,
                            "#ed7953"
                          ],
                          [
                            0.7777777777777778,
                            "#fb9f3a"
                          ],
                          [
                            0.8888888888888888,
                            "#fdca26"
                          ],
                          [
                            1,
                            "#f0f921"
                          ]
                        ],
                        "type": "heatmap"
                      }
                    ],
                    "histogram": [
                      {
                        "marker": {
                          "pattern": {
                            "fillmode": "overlay",
                            "size": 10,
                            "solidity": 0.2
                          }
                        },
                        "type": "histogram"
                      }
                    ],
                    "histogram2d": [
                      {
                        "colorbar": {
                          "outlinewidth": 0,
                          "ticks": ""
                        },
                        "colorscale": [
                          [
                            0,
                            "#0d0887"
                          ],
                          [
                            0.1111111111111111,
                            "#46039f"
                          ],
                          [
                            0.2222222222222222,
                            "#7201a8"
                          ],
                          [
                            0.3333333333333333,
                            "#9c179e"
                          ],
                          [
                            0.4444444444444444,
                            "#bd3786"
                          ],
                          [
                            0.5555555555555556,
                            "#d8576b"
                          ],
                          [
                            0.6666666666666666,
                            "#ed7953"
                          ],
                          [
                            0.7777777777777778,
                            "#fb9f3a"
                          ],
                          [
                            0.8888888888888888,
                            "#fdca26"
                          ],
                          [
                            1,
                            "#f0f921"
                          ]
                        ],
                        "type": "histogram2d"
                      }
                    ],
                    "histogram2dcontour": [
                      {
                        "colorbar": {
                          "outlinewidth": 0,
                          "ticks": ""
                        },
                        "colorscale": [
                          [
                            0,
                            "#0d0887"
                          ],
                          [
                            0.1111111111111111,
                            "#46039f"
                          ],
                          [
                            0.2222222222222222,
                            "#7201a8"
                          ],
                          [
                            0.3333333333333333,
                            "#9c179e"
                          ],
                          [
                            0.4444444444444444,
                            "#bd3786"
                          ],
                          [
                            0.5555555555555556,
                            "#d8576b"
                          ],
                          [
                            0.6666666666666666,
                            "#ed7953"
                          ],
                          [
                            0.7777777777777778,
                            "#fb9f3a"
                          ],
                          [
                            0.8888888888888888,
                            "#fdca26"
                          ],
                          [
                            1,
                            "#f0f921"
                          ]
                        ],
                        "type": "histogram2dcontour"
                      }
                    ],
                    "mesh3d": [
                      {
                        "colorbar": {
                          "outlinewidth": 0,
                          "ticks": ""
                        },
                        "type": "mesh3d"
                      }
                    ],
                    "parcoords": [
                      {
                        "line": {
                          "colorbar": {
                            "outlinewidth": 0,
                            "ticks": ""
                          }
                        },
                        "type": "parcoords"
                      }
                    ],
                    "pie": [
                      {
                        "automargin": true,
                        "type": "pie"
                      }
                    ],
                    "scatter": [
                      {
                        "fillpattern": {
                          "fillmode": "overlay",
                          "size": 10,
                          "solidity": 0.2
                        },
                        "type": "scatter"
                      }
                    ],
                    "scatter3d": [
                      {
                        "line": {
                          "colorbar": {
                            "outlinewidth": 0,
                            "ticks": ""
                          }
                        },
                        "marker": {
                          "colorbar": {
                            "outlinewidth": 0,
                            "ticks": ""
                          }
                        },
                        "type": "scatter3d"
                      }
                    ],
                    "scattercarpet": [
                      {
                        "marker": {
                          "colorbar": {
                            "outlinewidth": 0,
                            "ticks": ""
                          }
                        },
                        "type": "scattercarpet"
                      }
                    ],
                    "scattergeo": [
                      {
                        "marker": {
                          "colorbar": {
                            "outlinewidth": 0,
                            "ticks": ""
                          }
                        },
                        "type": "scattergeo"
                      }
                    ],
                    "scattergl": [
                      {
                        "marker": {
                          "colorbar": {
                            "outlinewidth": 0,
                            "ticks": ""
                          }
                        },
                        "type": "scattergl"
                      }
                    ],
                    "scattermap": [
                      {
                        "marker": {
                          "colorbar": {
                            "outlinewidth": 0,
                            "ticks": ""
                          }
                        },
                        "type": "scattermap"
                      }
                    ],
                    "scattermapbox": [
                      {
                        "marker": {
                          "colorbar": {
                            "outlinewidth": 0,
                            "ticks": ""
                          }
                        },
                        "type": "scattermapbox"
                      }
                    ],
                    "scatterpolar": [
                      {
                        "marker": {
                          "colorbar": {
                            "outlinewidth": 0,
                            "ticks": ""
                          }
                        },
                        "type": "scatterpolar"
                      }
                    ],
                    "scatterpolargl": [
                      {
                        "marker": {
                          "colorbar": {
                            "outlinewidth": 0,
                            "ticks": ""
                          }
                        },
                        "type": "scatterpolargl"
                      }
                    ],
                    "scatterternary": [
                      {
                        "marker": {
                          "colorbar": {
                            "outlinewidth": 0,
                            "ticks": ""
                          }
                        },
                        "type": "scatterternary"
                      }
                    ],
                    "surface": [
                      {
                        "colorbar": {
                          "outlinewidth": 0,
                          "ticks": ""
                        },
                        "colorscale": [
                          [
                            0,
                            "#0d0887"
                          ],
                          [
                            0.1111111111111111,
                            "#46039f"
                          ],
                          [
                            0.2222222222222222,
                            "#7201a8"
                          ],
                          [
                            0.3333333333333333,
                            "#9c179e"
                          ],
                          [
                            0.4444444444444444,
                            "#bd3786"
                          ],
                          [
                            0.5555555555555556,
                            "#d8576b"
                          ],
                          [
                            0.6666666666666666,
                            "#ed7953"
                          ],
                          [
                            0.7777777777777778,
                            "#fb9f3a"
                          ],
                          [
                            0.8888888888888888,
                            "#fdca26"
                          ],
                          [
                            1,
                            "#f0f921"
                          ]
                        ],
                        "type": "surface"
                      }
                    ],
                    "table": [
                      {
                        "cells": {
                          "fill": {
                            "color": "#EBF0F8"
                          },
                          "line": {
                            "color": "white"
                          }
                        },
                        "header": {
                          "fill": {
                            "color": "#C8D4E3"
                          },
                          "line": {
                            "color": "white"
                          }
                        },
                        "type": "table"
                      }
                    ]
                  },
                  "layout": {
                    "annotationdefaults": {
                      "arrowcolor": "#2a3f5f",
                      "arrowhead": 0,
                      "arrowwidth": 1
                    },
                    "autotypenumbers": "strict",
                    "coloraxis": {
                      "colorbar": {
                        "outlinewidth": 0,
                        "ticks": ""
                      }
                    },
                    "colorscale": {
                      "diverging": [
                        [
                          0,
                          "#8e0152"
                        ],
                        [
                          0.1,
                          "#c51b7d"
                        ],
                        [
                          0.2,
                          "#de77ae"
                        ],
                        [
                          0.3,
                          "#f1b6da"
                        ],
                        [
                          0.4,
                          "#fde0ef"
                        ],
                        [
                          0.5,
                          "#f7f7f7"
                        ],
                        [
                          0.6,
                          "#e6f5d0"
                        ],
                        [
                          0.7,
                          "#b8e186"
                        ],
                        [
                          0.8,
                          "#7fbc41"
                        ],
                        [
                          0.9,
                          "#4d9221"
                        ],
                        [
                          1,
                          "#276419"
                        ]
                      ],
                      "sequential": [
                        [
                          0,
                          "#0d0887"
                        ],
                        [
                          0.1111111111111111,
                          "#46039f"
                        ],
                        [
                          0.2222222222222222,
                          "#7201a8"
                        ],
                        [
                          0.3333333333333333,
                          "#9c179e"
                        ],
                        [
                          0.4444444444444444,
                          "#bd3786"
                        ],
                        [
                          0.5555555555555556,
                          "#d8576b"
                        ],
                        [
                          0.6666666666666666,
                          "#ed7953"
                        ],
                        [
                          0.7777777777777778,
                          "#fb9f3a"
                        ],
                        [
                          0.8888888888888888,
                          "#fdca26"
                        ],
                        [
                          1,
                          "#f0f921"
                        ]
                      ],
                      "sequentialminus": [
                        [
                          0,
                          "#0d0887"
                        ],
                        [
                          0.1111111111111111,
                          "#46039f"
                        ],
                        [
                          0.2222222222222222,
                          "#7201a8"
                        ],
                        [
                          0.3333333333333333,
                          "#9c179e"
                        ],
                        [
                          0.4444444444444444,
                          "#bd3786"
                        ],
                        [
                          0.5555555555555556,
                          "#d8576b"
                        ],
                        [
                          0.6666666666666666,
                          "#ed7953"
                        ],
                        [
                          0.7777777777777778,
                          "#fb9f3a"
                        ],
                        [
                          0.8888888888888888,
                          "#fdca26"
                        ],
                        [
                          1,
                          "#f0f921"
                        ]
                      ]
                    },
                    "colorway": [
                      "#636efa",
                      "#EF553B",
                      "#00cc96",
                      "#ab63fa",
                      "#FFA15A",
                      "#19d3f3",
                      "#FF6692",
                      "#B6E880",
                      "#FF97FF",
                      "#FECB52"
                    ],
                    "font": {
                      "color": "#2a3f5f"
                    },
                    "geo": {
                      "bgcolor": "white",
                      "lakecolor": "white",
                      "landcolor": "white",
                      "showlakes": true,
                      "showland": true,
                      "subunitcolor": "#C8D4E3"
                    },
                    "hoverlabel": {
                      "align": "left"
                    },
                    "hovermode": "closest",
                    "mapbox": {
                      "style": "light"
                    },
                    "paper_bgcolor": "white",
                    "plot_bgcolor": "white",
                    "polar": {
                      "angularaxis": {
                        "gridcolor": "#EBF0F8",
                        "linecolor": "#EBF0F8",
                        "ticks": ""
                      },
                      "bgcolor": "white",
                      "radialaxis": {
                        "gridcolor": "#EBF0F8",
                        "linecolor": "#EBF0F8",
                        "ticks": ""
                      }
                    },
                    "scene": {
                      "xaxis": {
                        "backgroundcolor": "white",
                        "gridcolor": "#DFE8F3",
                        "gridwidth": 2,
                        "linecolor": "#EBF0F8",
                        "showbackground": true,
                        "ticks": "",
                        "zerolinecolor": "#EBF0F8"
                      },
                      "yaxis": {
                        "backgroundcolor": "white",
                        "gridcolor": "#DFE8F3",
                        "gridwidth": 2,
                        "linecolor": "#EBF0F8",
                        "showbackground": true,
                        "ticks": "",
                        "zerolinecolor": "#EBF0F8"
                      },
                      "zaxis": {
                        "backgroundcolor": "white",
                        "gridcolor": "#DFE8F3",
                        "gridwidth": 2,
                        "linecolor": "#EBF0F8",
                        "showbackground": true,
                        "ticks": "",
                        "zerolinecolor": "#EBF0F8"
                      }
                    },
                    "shapedefaults": {
                      "line": {
                        "color": "#2a3f5f"
                      }
                    },
                    "ternary": {
                      "aaxis": {
                        "gridcolor": "#DFE8F3",
                        "linecolor": "#A2B1C6",
                        "ticks": ""
                      },
                      "baxis": {
                        "gridcolor": "#DFE8F3",
                        "linecolor": "#A2B1C6",
                        "ticks": ""
                      },
                      "bgcolor": "white",
                      "caxis": {
                        "gridcolor": "#DFE8F3",
                        "linecolor": "#A2B1C6",
                        "ticks": ""
                      }
                    },
                    "title": {
                      "x": 0.05
                    },
                    "xaxis": {
                      "automargin": true,
                      "gridcolor": "#EBF0F8",
                      "linecolor": "#EBF0F8",
                      "ticks": "",
                      "title": {
                        "standoff": 15
                      },
                      "zerolinecolor": "#EBF0F8",
                      "zerolinewidth": 2
                    },
                    "yaxis": {
                      "automargin": true,
                      "gridcolor": "#EBF0F8",
                      "linecolor": "#EBF0F8",
                      "ticks": "",
                      "title": {
                        "standoff": 15
                      },
                      "zerolinecolor": "#EBF0F8",
                      "zerolinewidth": 2
                    }
                  }
                },
                "title": {
                  "text": "Evolución Mensual del Volumen Promedio de Ventas"
                },
                "width": 1250,
                "xaxis": {
                  "anchor": "y",
                  "domain": [
                    0,
                    1
                  ]
                },
                "xaxis2": {
                  "anchor": "y2",
                  "domain": [
                    0,
                    0.16799999999999998
                  ],
                  "title": {
                    "text": "Mes"
                  }
                },
                "xaxis3": {
                  "anchor": "y3",
                  "domain": [
                    0.208,
                    0.376
                  ],
                  "title": {
                    "text": "Mes"
                  }
                },
                "xaxis4": {
                  "anchor": "y4",
                  "domain": [
                    0.416,
                    0.584
                  ],
                  "title": {
                    "text": "Mes"
                  }
                },
                "xaxis5": {
                  "anchor": "y5",
                  "domain": [
                    0.624,
                    0.792
                  ],
                  "title": {
                    "text": "Mes"
                  }
                },
                "xaxis6": {
                  "anchor": "y6",
                  "domain": [
                    0.832,
                    1
                  ],
                  "title": {
                    "text": "Mes"
                  }
                },
                "yaxis": {
                  "anchor": "x",
                  "domain": [
                    0.55,
                    1
                  ],
                  "title": {
                    "text": "Volumen total"
                  }
                },
                "yaxis2": {
                  "anchor": "x2",
                  "domain": [
                    0,
                    0.45
                  ],
                  "title": {
                    "text": "Volumen"
                  }
                },
                "yaxis3": {
                  "anchor": "x3",
                  "domain": [
                    0,
                    0.45
                  ],
                  "title": {
                    "text": "Volumen"
                  }
                },
                "yaxis4": {
                  "anchor": "x4",
                  "domain": [
                    0,
                    0.45
                  ],
                  "title": {
                    "text": "Volumen"
                  }
                },
                "yaxis5": {
                  "anchor": "x5",
                  "domain": [
                    0,
                    0.45
                  ],
                  "title": {
                    "text": "Volumen"
                  }
                },
                "yaxis6": {
                  "anchor": "x6",
                  "domain": [
                    0,
                    0.45
                  ],
                  "title": {
                    "text": "Volumen"
                  }
                }
              }
            }
          },
          "metadata": {},
          "output_type": "display_data"
        }
      ],
      "source": [
        "# Volumen total mensual\n",
        "volumen_mensual_total = (\n",
        "    filtered_df\n",
        "    .groupby('mes_p')['canti_venta']\n",
        "    .sum()\n",
        "    .reset_index(name='volumen_total')\n",
        ")\n",
        "\n",
        "# Top 5 clientes por volumen de ventas\n",
        "top_5_clientes = top_clientes_canti.head(5).copy()\n",
        "\n",
        "# Filtrar dataset con esos clientes\n",
        "top_df = filtered_df[filtered_df['cliente'].isin(top_5_clientes['cliente'])]\n",
        "\n",
        "# Agrupar por mes y cliente\n",
        "volumen_por_cliente = (\n",
        "    top_df\n",
        "    .groupby(['mes_p', 'cliente'])['canti_venta']\n",
        "    .sum()\n",
        "    .reset_index()\n",
        ")\n",
        "\n",
        "# Diccionario de nombres\n",
        "cliente_nombres = dict(zip(top_5_clientes['cliente'], top_5_clientes['nombre']))\n",
        "\n",
        "# --- Crear figura ---\n",
        "fig = make_subplots(\n",
        "    rows=2, cols=5,\n",
        "    specs=[\n",
        "        [{'colspan': 5}, None, None, None, None],\n",
        "        [{}, {}, {}, {}, {}]\n",
        "    ],\n",
        "    shared_xaxes=False,\n",
        "    vertical_spacing=0.1,\n",
        "    subplot_titles=[\"Volumen mensual total (todos los clientes)\"] +\n",
        "                   [f\"🔹 {cliente_nombres[c]}\" for c in top_5_clientes['cliente']]\n",
        ")\n",
        "\n",
        "# --- Gráfico general ---\n",
        "fig.add_trace(\n",
        "    go.Scatter(\n",
        "        x=volumen_mensual_total['mes_p'],\n",
        "        y=volumen_mensual_total['volumen_total'],\n",
        "        mode='lines+markers',\n",
        "        name='Total general',\n",
        "        line=dict(color='royalblue')\n",
        "    ),\n",
        "    row=1, col=1\n",
        ")\n",
        "\n",
        "# --- Gráficos individuales ---\n",
        "for i, cliente in enumerate(top_5_clientes['cliente']):\n",
        "    data_cliente = volumen_por_cliente[volumen_por_cliente['cliente'] == cliente]\n",
        "    fig.add_trace(\n",
        "        go.Scatter(\n",
        "            x=data_cliente['mes_p'],\n",
        "            y=data_cliente['canti_venta'],\n",
        "            mode='lines+markers',\n",
        "            name=cliente_nombres[cliente],\n",
        "            line=dict(width=2)\n",
        "        ),\n",
        "        row=2, col=i+1\n",
        "    )\n",
        "\n",
        "# --- Layout ---\n",
        "fig.update_layout(\n",
        "    height=700,\n",
        "    width=1250,\n",
        "    title_text='Evolución Mensual del Volumen Promedio de Ventas',\n",
        "    showlegend=False,\n",
        "    template='plotly_white',\n",
        "    margin=dict(t=60)\n",
        ")\n",
        "\n",
        "# Ejes\n",
        "fig.update_xaxes(title_text=\"Mes\", row=2)\n",
        "fig.update_yaxes(title_text=\"Volumen total\", row=1, col=1)\n",
        "for i in range(1, 6):\n",
        "    fig.update_yaxes(title_text=\"Volumen\", row=2, col=i)\n",
        "\n",
        "fig.show()"
      ]
    },
    {
      "cell_type": "markdown",
      "id": "49111283",
      "metadata": {
        "id": "49111283"
      },
      "source": [
        "🔍 **Observaciones**:\n",
        "1. Generales:\n",
        "    - **Pico destacado en julio de 2022**, donde el volumen total de ventas alcanza su máximo (~145k).\n",
        "\n",
        "    - A partir de **2023**, el volumen muestra mayor estabilidad pero con una **tendencia levemente descendente**.\n",
        "\n",
        "    - Se observa una **caída marcada a inicios de 2024**, posiblemente vinculada al impacto de aumentos de precios por inflación, lo cual podría haber afectado la demanda.\n",
        "\n",
        "2. Por cliente:\n",
        "    - Incluso entre los principales compradores, **la actividad mensual es muy irregular**: no todos realizan compras todos los meses y el volumen varía significativamente.\n",
        "\n",
        "    - Esto sugiere que una granularidad mensual podría no ser adecuada para predecir el comportamiento individual, y que tal vez sea necesario agrupar en períodos más amplios (como trimestres) para captar patrones más estables."
      ]
    },
    {
      "cell_type": "code",
      "execution_count": 40,
      "id": "67a0707e",
      "metadata": {
        "colab": {
          "base_uri": "https://localhost:8080/",
          "height": 467
        },
        "id": "67a0707e",
        "outputId": "b62c03fa-876c-45c7-e9b2-8bac2a4ca8ef"
      },
      "outputs": [
        {
          "data": {
            "application/vnd.plotly.v1+json": {
              "config": {
                "plotlyServerURL": "https://plot.ly"
              },
              "data": [
                {
                  "hovertemplate": "Mes=%{x}<br>Clientes activos únicos=%{y}<extra></extra>",
                  "legendgroup": "",
                  "line": {
                    "color": "#636efa",
                    "dash": "solid"
                  },
                  "marker": {
                    "symbol": "circle"
                  },
                  "mode": "lines+markers",
                  "name": "",
                  "orientation": "v",
                  "showlegend": false,
                  "type": "scatter",
                  "x": [
                    "2022-01-01T00:00:00",
                    "2022-02-01T00:00:00",
                    "2022-03-01T00:00:00",
                    "2022-04-01T00:00:00",
                    "2022-05-01T00:00:00",
                    "2022-06-01T00:00:00",
                    "2022-07-01T00:00:00",
                    "2022-08-01T00:00:00",
                    "2022-09-01T00:00:00",
                    "2022-10-01T00:00:00",
                    "2022-11-01T00:00:00",
                    "2022-12-01T00:00:00",
                    "2023-01-01T00:00:00",
                    "2023-02-01T00:00:00",
                    "2023-03-01T00:00:00",
                    "2023-04-01T00:00:00",
                    "2023-05-01T00:00:00",
                    "2023-06-01T00:00:00",
                    "2023-07-01T00:00:00",
                    "2023-08-01T00:00:00",
                    "2023-09-01T00:00:00",
                    "2023-10-01T00:00:00",
                    "2023-11-01T00:00:00",
                    "2023-12-01T00:00:00",
                    "2024-01-01T00:00:00",
                    "2024-02-01T00:00:00",
                    "2024-03-01T00:00:00",
                    "2024-04-01T00:00:00",
                    "2024-05-01T00:00:00",
                    "2024-06-01T00:00:00"
                  ],
                  "xaxis": "x",
                  "y": {
                    "bdata": "NQFuAY4BfQGXAZMBkwGPAYMBewGGAWoBWQFcAWwBbgFwAWwBbQFiAWoBbgFsAUkBJAFQAWkBXgFsAWwB",
                    "dtype": "i2"
                  },
                  "yaxis": "y"
                }
              ],
              "layout": {
                "annotations": [
                  {
                    "showarrow": false,
                    "text": "Promedio: 364.9",
                    "x": 1,
                    "xanchor": "right",
                    "xref": "x domain",
                    "y": 364.8666666666667,
                    "yanchor": "bottom",
                    "yref": "y"
                  }
                ],
                "height": 450,
                "legend": {
                  "tracegroupgap": 0
                },
                "shapes": [
                  {
                    "line": {
                      "color": "gray",
                      "dash": "dash"
                    },
                    "type": "line",
                    "x0": 0,
                    "x1": 1,
                    "xref": "x domain",
                    "y0": 364.8666666666667,
                    "y1": 364.8666666666667,
                    "yref": "y"
                  }
                ],
                "template": {
                  "data": {
                    "bar": [
                      {
                        "error_x": {
                          "color": "#2a3f5f"
                        },
                        "error_y": {
                          "color": "#2a3f5f"
                        },
                        "marker": {
                          "line": {
                            "color": "white",
                            "width": 0.5
                          },
                          "pattern": {
                            "fillmode": "overlay",
                            "size": 10,
                            "solidity": 0.2
                          }
                        },
                        "type": "bar"
                      }
                    ],
                    "barpolar": [
                      {
                        "marker": {
                          "line": {
                            "color": "white",
                            "width": 0.5
                          },
                          "pattern": {
                            "fillmode": "overlay",
                            "size": 10,
                            "solidity": 0.2
                          }
                        },
                        "type": "barpolar"
                      }
                    ],
                    "carpet": [
                      {
                        "aaxis": {
                          "endlinecolor": "#2a3f5f",
                          "gridcolor": "#C8D4E3",
                          "linecolor": "#C8D4E3",
                          "minorgridcolor": "#C8D4E3",
                          "startlinecolor": "#2a3f5f"
                        },
                        "baxis": {
                          "endlinecolor": "#2a3f5f",
                          "gridcolor": "#C8D4E3",
                          "linecolor": "#C8D4E3",
                          "minorgridcolor": "#C8D4E3",
                          "startlinecolor": "#2a3f5f"
                        },
                        "type": "carpet"
                      }
                    ],
                    "choropleth": [
                      {
                        "colorbar": {
                          "outlinewidth": 0,
                          "ticks": ""
                        },
                        "type": "choropleth"
                      }
                    ],
                    "contour": [
                      {
                        "colorbar": {
                          "outlinewidth": 0,
                          "ticks": ""
                        },
                        "colorscale": [
                          [
                            0,
                            "#0d0887"
                          ],
                          [
                            0.1111111111111111,
                            "#46039f"
                          ],
                          [
                            0.2222222222222222,
                            "#7201a8"
                          ],
                          [
                            0.3333333333333333,
                            "#9c179e"
                          ],
                          [
                            0.4444444444444444,
                            "#bd3786"
                          ],
                          [
                            0.5555555555555556,
                            "#d8576b"
                          ],
                          [
                            0.6666666666666666,
                            "#ed7953"
                          ],
                          [
                            0.7777777777777778,
                            "#fb9f3a"
                          ],
                          [
                            0.8888888888888888,
                            "#fdca26"
                          ],
                          [
                            1,
                            "#f0f921"
                          ]
                        ],
                        "type": "contour"
                      }
                    ],
                    "contourcarpet": [
                      {
                        "colorbar": {
                          "outlinewidth": 0,
                          "ticks": ""
                        },
                        "type": "contourcarpet"
                      }
                    ],
                    "heatmap": [
                      {
                        "colorbar": {
                          "outlinewidth": 0,
                          "ticks": ""
                        },
                        "colorscale": [
                          [
                            0,
                            "#0d0887"
                          ],
                          [
                            0.1111111111111111,
                            "#46039f"
                          ],
                          [
                            0.2222222222222222,
                            "#7201a8"
                          ],
                          [
                            0.3333333333333333,
                            "#9c179e"
                          ],
                          [
                            0.4444444444444444,
                            "#bd3786"
                          ],
                          [
                            0.5555555555555556,
                            "#d8576b"
                          ],
                          [
                            0.6666666666666666,
                            "#ed7953"
                          ],
                          [
                            0.7777777777777778,
                            "#fb9f3a"
                          ],
                          [
                            0.8888888888888888,
                            "#fdca26"
                          ],
                          [
                            1,
                            "#f0f921"
                          ]
                        ],
                        "type": "heatmap"
                      }
                    ],
                    "histogram": [
                      {
                        "marker": {
                          "pattern": {
                            "fillmode": "overlay",
                            "size": 10,
                            "solidity": 0.2
                          }
                        },
                        "type": "histogram"
                      }
                    ],
                    "histogram2d": [
                      {
                        "colorbar": {
                          "outlinewidth": 0,
                          "ticks": ""
                        },
                        "colorscale": [
                          [
                            0,
                            "#0d0887"
                          ],
                          [
                            0.1111111111111111,
                            "#46039f"
                          ],
                          [
                            0.2222222222222222,
                            "#7201a8"
                          ],
                          [
                            0.3333333333333333,
                            "#9c179e"
                          ],
                          [
                            0.4444444444444444,
                            "#bd3786"
                          ],
                          [
                            0.5555555555555556,
                            "#d8576b"
                          ],
                          [
                            0.6666666666666666,
                            "#ed7953"
                          ],
                          [
                            0.7777777777777778,
                            "#fb9f3a"
                          ],
                          [
                            0.8888888888888888,
                            "#fdca26"
                          ],
                          [
                            1,
                            "#f0f921"
                          ]
                        ],
                        "type": "histogram2d"
                      }
                    ],
                    "histogram2dcontour": [
                      {
                        "colorbar": {
                          "outlinewidth": 0,
                          "ticks": ""
                        },
                        "colorscale": [
                          [
                            0,
                            "#0d0887"
                          ],
                          [
                            0.1111111111111111,
                            "#46039f"
                          ],
                          [
                            0.2222222222222222,
                            "#7201a8"
                          ],
                          [
                            0.3333333333333333,
                            "#9c179e"
                          ],
                          [
                            0.4444444444444444,
                            "#bd3786"
                          ],
                          [
                            0.5555555555555556,
                            "#d8576b"
                          ],
                          [
                            0.6666666666666666,
                            "#ed7953"
                          ],
                          [
                            0.7777777777777778,
                            "#fb9f3a"
                          ],
                          [
                            0.8888888888888888,
                            "#fdca26"
                          ],
                          [
                            1,
                            "#f0f921"
                          ]
                        ],
                        "type": "histogram2dcontour"
                      }
                    ],
                    "mesh3d": [
                      {
                        "colorbar": {
                          "outlinewidth": 0,
                          "ticks": ""
                        },
                        "type": "mesh3d"
                      }
                    ],
                    "parcoords": [
                      {
                        "line": {
                          "colorbar": {
                            "outlinewidth": 0,
                            "ticks": ""
                          }
                        },
                        "type": "parcoords"
                      }
                    ],
                    "pie": [
                      {
                        "automargin": true,
                        "type": "pie"
                      }
                    ],
                    "scatter": [
                      {
                        "fillpattern": {
                          "fillmode": "overlay",
                          "size": 10,
                          "solidity": 0.2
                        },
                        "type": "scatter"
                      }
                    ],
                    "scatter3d": [
                      {
                        "line": {
                          "colorbar": {
                            "outlinewidth": 0,
                            "ticks": ""
                          }
                        },
                        "marker": {
                          "colorbar": {
                            "outlinewidth": 0,
                            "ticks": ""
                          }
                        },
                        "type": "scatter3d"
                      }
                    ],
                    "scattercarpet": [
                      {
                        "marker": {
                          "colorbar": {
                            "outlinewidth": 0,
                            "ticks": ""
                          }
                        },
                        "type": "scattercarpet"
                      }
                    ],
                    "scattergeo": [
                      {
                        "marker": {
                          "colorbar": {
                            "outlinewidth": 0,
                            "ticks": ""
                          }
                        },
                        "type": "scattergeo"
                      }
                    ],
                    "scattergl": [
                      {
                        "marker": {
                          "colorbar": {
                            "outlinewidth": 0,
                            "ticks": ""
                          }
                        },
                        "type": "scattergl"
                      }
                    ],
                    "scattermap": [
                      {
                        "marker": {
                          "colorbar": {
                            "outlinewidth": 0,
                            "ticks": ""
                          }
                        },
                        "type": "scattermap"
                      }
                    ],
                    "scattermapbox": [
                      {
                        "marker": {
                          "colorbar": {
                            "outlinewidth": 0,
                            "ticks": ""
                          }
                        },
                        "type": "scattermapbox"
                      }
                    ],
                    "scatterpolar": [
                      {
                        "marker": {
                          "colorbar": {
                            "outlinewidth": 0,
                            "ticks": ""
                          }
                        },
                        "type": "scatterpolar"
                      }
                    ],
                    "scatterpolargl": [
                      {
                        "marker": {
                          "colorbar": {
                            "outlinewidth": 0,
                            "ticks": ""
                          }
                        },
                        "type": "scatterpolargl"
                      }
                    ],
                    "scatterternary": [
                      {
                        "marker": {
                          "colorbar": {
                            "outlinewidth": 0,
                            "ticks": ""
                          }
                        },
                        "type": "scatterternary"
                      }
                    ],
                    "surface": [
                      {
                        "colorbar": {
                          "outlinewidth": 0,
                          "ticks": ""
                        },
                        "colorscale": [
                          [
                            0,
                            "#0d0887"
                          ],
                          [
                            0.1111111111111111,
                            "#46039f"
                          ],
                          [
                            0.2222222222222222,
                            "#7201a8"
                          ],
                          [
                            0.3333333333333333,
                            "#9c179e"
                          ],
                          [
                            0.4444444444444444,
                            "#bd3786"
                          ],
                          [
                            0.5555555555555556,
                            "#d8576b"
                          ],
                          [
                            0.6666666666666666,
                            "#ed7953"
                          ],
                          [
                            0.7777777777777778,
                            "#fb9f3a"
                          ],
                          [
                            0.8888888888888888,
                            "#fdca26"
                          ],
                          [
                            1,
                            "#f0f921"
                          ]
                        ],
                        "type": "surface"
                      }
                    ],
                    "table": [
                      {
                        "cells": {
                          "fill": {
                            "color": "#EBF0F8"
                          },
                          "line": {
                            "color": "white"
                          }
                        },
                        "header": {
                          "fill": {
                            "color": "#C8D4E3"
                          },
                          "line": {
                            "color": "white"
                          }
                        },
                        "type": "table"
                      }
                    ]
                  },
                  "layout": {
                    "annotationdefaults": {
                      "arrowcolor": "#2a3f5f",
                      "arrowhead": 0,
                      "arrowwidth": 1
                    },
                    "autotypenumbers": "strict",
                    "coloraxis": {
                      "colorbar": {
                        "outlinewidth": 0,
                        "ticks": ""
                      }
                    },
                    "colorscale": {
                      "diverging": [
                        [
                          0,
                          "#8e0152"
                        ],
                        [
                          0.1,
                          "#c51b7d"
                        ],
                        [
                          0.2,
                          "#de77ae"
                        ],
                        [
                          0.3,
                          "#f1b6da"
                        ],
                        [
                          0.4,
                          "#fde0ef"
                        ],
                        [
                          0.5,
                          "#f7f7f7"
                        ],
                        [
                          0.6,
                          "#e6f5d0"
                        ],
                        [
                          0.7,
                          "#b8e186"
                        ],
                        [
                          0.8,
                          "#7fbc41"
                        ],
                        [
                          0.9,
                          "#4d9221"
                        ],
                        [
                          1,
                          "#276419"
                        ]
                      ],
                      "sequential": [
                        [
                          0,
                          "#0d0887"
                        ],
                        [
                          0.1111111111111111,
                          "#46039f"
                        ],
                        [
                          0.2222222222222222,
                          "#7201a8"
                        ],
                        [
                          0.3333333333333333,
                          "#9c179e"
                        ],
                        [
                          0.4444444444444444,
                          "#bd3786"
                        ],
                        [
                          0.5555555555555556,
                          "#d8576b"
                        ],
                        [
                          0.6666666666666666,
                          "#ed7953"
                        ],
                        [
                          0.7777777777777778,
                          "#fb9f3a"
                        ],
                        [
                          0.8888888888888888,
                          "#fdca26"
                        ],
                        [
                          1,
                          "#f0f921"
                        ]
                      ],
                      "sequentialminus": [
                        [
                          0,
                          "#0d0887"
                        ],
                        [
                          0.1111111111111111,
                          "#46039f"
                        ],
                        [
                          0.2222222222222222,
                          "#7201a8"
                        ],
                        [
                          0.3333333333333333,
                          "#9c179e"
                        ],
                        [
                          0.4444444444444444,
                          "#bd3786"
                        ],
                        [
                          0.5555555555555556,
                          "#d8576b"
                        ],
                        [
                          0.6666666666666666,
                          "#ed7953"
                        ],
                        [
                          0.7777777777777778,
                          "#fb9f3a"
                        ],
                        [
                          0.8888888888888888,
                          "#fdca26"
                        ],
                        [
                          1,
                          "#f0f921"
                        ]
                      ]
                    },
                    "colorway": [
                      "#636efa",
                      "#EF553B",
                      "#00cc96",
                      "#ab63fa",
                      "#FFA15A",
                      "#19d3f3",
                      "#FF6692",
                      "#B6E880",
                      "#FF97FF",
                      "#FECB52"
                    ],
                    "font": {
                      "color": "#2a3f5f"
                    },
                    "geo": {
                      "bgcolor": "white",
                      "lakecolor": "white",
                      "landcolor": "white",
                      "showlakes": true,
                      "showland": true,
                      "subunitcolor": "#C8D4E3"
                    },
                    "hoverlabel": {
                      "align": "left"
                    },
                    "hovermode": "closest",
                    "mapbox": {
                      "style": "light"
                    },
                    "paper_bgcolor": "white",
                    "plot_bgcolor": "white",
                    "polar": {
                      "angularaxis": {
                        "gridcolor": "#EBF0F8",
                        "linecolor": "#EBF0F8",
                        "ticks": ""
                      },
                      "bgcolor": "white",
                      "radialaxis": {
                        "gridcolor": "#EBF0F8",
                        "linecolor": "#EBF0F8",
                        "ticks": ""
                      }
                    },
                    "scene": {
                      "xaxis": {
                        "backgroundcolor": "white",
                        "gridcolor": "#DFE8F3",
                        "gridwidth": 2,
                        "linecolor": "#EBF0F8",
                        "showbackground": true,
                        "ticks": "",
                        "zerolinecolor": "#EBF0F8"
                      },
                      "yaxis": {
                        "backgroundcolor": "white",
                        "gridcolor": "#DFE8F3",
                        "gridwidth": 2,
                        "linecolor": "#EBF0F8",
                        "showbackground": true,
                        "ticks": "",
                        "zerolinecolor": "#EBF0F8"
                      },
                      "zaxis": {
                        "backgroundcolor": "white",
                        "gridcolor": "#DFE8F3",
                        "gridwidth": 2,
                        "linecolor": "#EBF0F8",
                        "showbackground": true,
                        "ticks": "",
                        "zerolinecolor": "#EBF0F8"
                      }
                    },
                    "shapedefaults": {
                      "line": {
                        "color": "#2a3f5f"
                      }
                    },
                    "ternary": {
                      "aaxis": {
                        "gridcolor": "#DFE8F3",
                        "linecolor": "#A2B1C6",
                        "ticks": ""
                      },
                      "baxis": {
                        "gridcolor": "#DFE8F3",
                        "linecolor": "#A2B1C6",
                        "ticks": ""
                      },
                      "bgcolor": "white",
                      "caxis": {
                        "gridcolor": "#DFE8F3",
                        "linecolor": "#A2B1C6",
                        "ticks": ""
                      }
                    },
                    "title": {
                      "x": 0.05
                    },
                    "xaxis": {
                      "automargin": true,
                      "gridcolor": "#EBF0F8",
                      "linecolor": "#EBF0F8",
                      "ticks": "",
                      "title": {
                        "standoff": 15
                      },
                      "zerolinecolor": "#EBF0F8",
                      "zerolinewidth": 2
                    },
                    "yaxis": {
                      "automargin": true,
                      "gridcolor": "#EBF0F8",
                      "linecolor": "#EBF0F8",
                      "ticks": "",
                      "title": {
                        "standoff": 15
                      },
                      "zerolinecolor": "#EBF0F8",
                      "zerolinewidth": 2
                    }
                  }
                },
                "title": {
                  "text": "Clientes Activos por Mes"
                },
                "xaxis": {
                  "anchor": "y",
                  "domain": [
                    0,
                    1
                  ],
                  "title": {
                    "text": "Mes"
                  }
                },
                "yaxis": {
                  "anchor": "x",
                  "domain": [
                    0,
                    1
                  ],
                  "title": {
                    "text": "Clientes activos únicos"
                  }
                }
              }
            }
          },
          "metadata": {},
          "output_type": "display_data"
        }
      ],
      "source": [
        "# Contar clientes activos únicos por mes\n",
        "clientes_por_mes = (\n",
        "    filtered_df.groupby('mes_p')['cliente']\n",
        "    .nunique()\n",
        "    .reset_index(name='clientes_activos')\n",
        ")\n",
        "\n",
        "# Calcular promedio mensual de clientes activos\n",
        "promedio_clientes = clientes_por_mes['clientes_activos'].mean()\n",
        "\n",
        "# Graficar\n",
        "fig = px.line(\n",
        "    clientes_por_mes,\n",
        "    x='mes_p',\n",
        "    y='clientes_activos',\n",
        "    markers=True,\n",
        "    title='Clientes Activos por Mes',\n",
        "    labels={'clientes_activos': 'Clientes activos únicos', 'mes_p': 'Mes'},\n",
        ")\n",
        "\n",
        "# Agregar línea de promedio horizontal\n",
        "fig.add_hline(\n",
        "    y=promedio_clientes,\n",
        "    line_dash='dash',\n",
        "    line_color='gray',\n",
        "    annotation_text=f'Promedio: {promedio_clientes:.1f}',\n",
        "    annotation_position='top right'\n",
        ")\n",
        "\n",
        "fig.update_layout(template='plotly_white', height=450)\n",
        "fig.show()"
      ]
    },
    {
      "cell_type": "markdown",
      "id": "a97a1f50",
      "metadata": {
        "id": "a97a1f50"
      },
      "source": [
        "- En 2022 se registró la mayor cantidad de clientes, seguida de una disminución significativa a partir de enero de 2023.\n",
        "\n",
        "- Hay una caída notable en clientes activos a principios de 2024, después de la caída la cantidad de clientes activos se recupera parcialmente."
      ]
    },
    {
      "cell_type": "markdown",
      "id": "0977806e",
      "metadata": {
        "id": "0977806e"
      },
      "source": [
        "#### 📆 2.3 Tendencias y estacionalidades"
      ]
    },
    {
      "cell_type": "code",
      "execution_count": 41,
      "id": "a0ab0912",
      "metadata": {
        "id": "a0ab0912"
      },
      "outputs": [],
      "source": [
        "# Agregar columnas de dia, mes y año\n",
        "filtered_df['nombre_dia'] = filtered_df['fecha'].dt.day_name()\n",
        "filtered_df['nombre_mes'] = filtered_df['fecha'].dt.month_name()\n",
        "# Agregar columnas de mes y año\n",
        "filtered_df['mes'] = filtered_df['fecha_dt'].dt.month\n",
        "filtered_df['año'] = filtered_df['fecha_dt'].dt.year\n",
        "\n",
        "# Orden para gráficos\n",
        "orden_dias = ['Monday', 'Tuesday', 'Wednesday', 'Thursday', 'Friday', 'Saturday', 'Sunday']\n",
        "orden_meses = ['January', 'February', 'March', 'April', 'May', 'June',\n",
        "               'July', 'August', 'September', 'October', 'November', 'December']"
      ]
    },
    {
      "cell_type": "code",
      "execution_count": 42,
      "id": "2e065e45",
      "metadata": {
        "colab": {
          "base_uri": "https://localhost:8080/",
          "height": 601
        },
        "id": "2e065e45",
        "outputId": "55292c94-db7c-4ca4-d815-af308cff7646"
      },
      "outputs": [
        {
          "data": {
            "image/png": "[encoded data removed]",
            "text/plain": [
              "<Figure size 1200x600 with 2 Axes>"
            ]
          },
          "metadata": {},
          "output_type": "display_data"
        }
      ],
      "source": [
        "plt.figure(figsize=(12, 6))\n",
        "\n",
        "# --- Promedio por día de la semana ---\n",
        "plt.subplot(2, 1, 1)\n",
        "sns.barplot(\n",
        "    data=filtered_df.groupby(['mes', 'nombre_dia'])['canti_venta'].sum().reset_index(),\n",
        "    x='nombre_dia',\n",
        "    y='canti_venta',\n",
        "    estimator='mean',\n",
        "    order=orden_dias,\n",
        "    color='#636EFA'\n",
        ")\n",
        "plt.title('Volumen de ventas por día de la semana')\n",
        "plt.xlabel('')\n",
        "plt.ylabel('Promedio por mes')\n",
        "\n",
        "# --- Promedio por mes del año ---\n",
        "plt.subplot(2, 1, 2)\n",
        "sns.barplot(\n",
        "    data=filtered_df.groupby(['año', 'nombre_mes'])['canti_venta'].sum().reset_index(),\n",
        "    x='nombre_mes',\n",
        "    y='canti_venta',\n",
        "    estimator='mean',\n",
        "    order=orden_meses,\n",
        "    color='#00CC96'\n",
        ")\n",
        "plt.title('Volumen de ventas por mes del año')\n",
        "plt.xlabel('')\n",
        "plt.ylabel('Promedio por año')\n",
        "plt.xticks(rotation=0)\n",
        "\n",
        "plt.tight_layout()\n",
        "plt.show()"
      ]
    },
    {
      "cell_type": "markdown",
      "id": "8e683196",
      "metadata": {
        "id": "8e683196"
      },
      "source": [
        "🔍 **Observaciones**:\n",
        "\n",
        "- Jueves es el día con mayor volumen promedio de ventas, fines de semana bajan notablemente, y los domingos no se registran ventas.\n",
        "\n",
        "- Septiembre concentra el mayor volumen de ventas (pero alta variabilidad), mientras que enero y diciembre presentan los niveles más bajos de ventas.\n",
        "\n",
        "✅ Las diferencias claras entre meses y días de la semana muestran patrones regulares de comportamiento, lo que puede ayudar a anticipar mejor las ventas en distintos momentos del año."
      ]
    },
    {
      "cell_type": "code",
      "execution_count": 43,
      "id": "62df9999",
      "metadata": {
        "colab": {
          "base_uri": "https://localhost:8080/",
          "height": 542
        },
        "id": "62df9999",
        "outputId": "21925824-b134-4d8a-b63a-2de44b962867"
      },
      "outputs": [
        {
          "data": {
            "application/vnd.plotly.v1+json": {
              "config": {
                "plotlyServerURL": "https://plot.ly"
              },
              "data": [
                {
                  "hovertemplate": "año=2022<br>Mes=%{x}<br>Ventas=%{y}<extra></extra>",
                  "legendgroup": "2022",
                  "line": {
                    "color": "#636efa",
                    "dash": "solid"
                  },
                  "marker": {
                    "symbol": "circle"
                  },
                  "mode": "lines",
                  "name": "2022",
                  "orientation": "v",
                  "showlegend": true,
                  "type": "scatter",
                  "x": {
                    "bdata": "AQAAAAIAAAADAAAABAAAAAUAAAAGAAAABwAAAAgAAAAJAAAACgAAAAsAAAAMAAAA",
                    "dtype": "i4"
                  },
                  "xaxis": "x",
                  "y": {
                    "bdata": "AAAAAKAh4UAAAAAAIHvpQAAAAABAX/FAAAAAAOBx8UAAAAAAUMf0QAAAAAAw1/NAAAAAAMDe8EAAAAAA8OHyQAAAAACQDwJBAAAAAICC9kAAAAAA8GH3QAAAAADgT+1A",
                    "dtype": "f8"
                  },
                  "yaxis": "y"
                },
                {
                  "hovertemplate": "año=2023<br>Mes=%{x}<br>Ventas=%{y}<extra></extra>",
                  "legendgroup": "2023",
                  "line": {
                    "color": "#EF553B",
                    "dash": "solid"
                  },
                  "marker": {
                    "symbol": "circle"
                  },
                  "mode": "lines",
                  "name": "2023",
                  "orientation": "v",
                  "showlegend": true,
                  "type": "scatter",
                  "x": {
                    "bdata": "AQAAAAIAAAADAAAABAAAAAUAAAAGAAAABwAAAAgAAAAJAAAACgAAAAsAAAAMAAAA",
                    "dtype": "i4"
                  },
                  "xaxis": "x",
                  "y": {
                    "bdata": "AAAAAICh6UAAAAAAUCnzQAAAAABgfu9AAAAAAOBL80AAAAAAAPr0QAAAAADQ7/dAAAAAALAo8UAAAAAA4BfuQAAAAABwqPJAAAAAAECr70AAAAAAIGXuQAAAAABgpeJA",
                    "dtype": "f8"
                  },
                  "yaxis": "y"
                },
                {
                  "hovertemplate": "año=2024<br>Mes=%{x}<br>Ventas=%{y}<extra></extra>",
                  "legendgroup": "2024",
                  "line": {
                    "color": "#00cc96",
                    "dash": "solid"
                  },
                  "marker": {
                    "symbol": "circle"
                  },
                  "mode": "lines",
                  "name": "2024",
                  "orientation": "v",
                  "showlegend": true,
                  "type": "scatter",
                  "x": {
                    "bdata": "AQAAAAIAAAADAAAABAAAAAUAAAAGAAAA",
                    "dtype": "i4"
                  },
                  "xaxis": "x",
                  "y": {
                    "bdata": "AAAAAADa20AAAAAAYN/sQAAAAABA/+hAAAAAAMDJ8UAAAAAAEI7yQAAAAAAAsPBA",
                    "dtype": "f8"
                  },
                  "yaxis": "y"
                }
              ],
              "layout": {
                "legend": {
                  "title": {
                    "text": "año"
                  },
                  "tracegroupgap": 0
                },
                "template": {
                  "data": {
                    "bar": [
                      {
                        "error_x": {
                          "color": "#2a3f5f"
                        },
                        "error_y": {
                          "color": "#2a3f5f"
                        },
                        "marker": {
                          "line": {
                            "color": "#E5ECF6",
                            "width": 0.5
                          },
                          "pattern": {
                            "fillmode": "overlay",
                            "size": 10,
                            "solidity": 0.2
                          }
                        },
                        "type": "bar"
                      }
                    ],
                    "barpolar": [
                      {
                        "marker": {
                          "line": {
                            "color": "#E5ECF6",
                            "width": 0.5
                          },
                          "pattern": {
                            "fillmode": "overlay",
                            "size": 10,
                            "solidity": 0.2
                          }
                        },
                        "type": "barpolar"
                      }
                    ],
                    "carpet": [
                      {
                        "aaxis": {
                          "endlinecolor": "#2a3f5f",
                          "gridcolor": "white",
                          "linecolor": "white",
                          "minorgridcolor": "white",
                          "startlinecolor": "#2a3f5f"
                        },
                        "baxis": {
                          "endlinecolor": "#2a3f5f",
                          "gridcolor": "white",
                          "linecolor": "white",
                          "minorgridcolor": "white",
                          "startlinecolor": "#2a3f5f"
                        },
                        "type": "carpet"
                      }
                    ],
                    "choropleth": [
                      {
                        "colorbar": {
                          "outlinewidth": 0,
                          "ticks": ""
                        },
                        "type": "choropleth"
                      }
                    ],
                    "contour": [
                      {
                        "colorbar": {
                          "outlinewidth": 0,
                          "ticks": ""
                        },
                        "colorscale": [
                          [
                            0,
                            "#0d0887"
                          ],
                          [
                            0.1111111111111111,
                            "#46039f"
                          ],
                          [
                            0.2222222222222222,
                            "#7201a8"
                          ],
                          [
                            0.3333333333333333,
                            "#9c179e"
                          ],
                          [
                            0.4444444444444444,
                            "#bd3786"
                          ],
                          [
                            0.5555555555555556,
                            "#d8576b"
                          ],
                          [
                            0.6666666666666666,
                            "#ed7953"
                          ],
                          [
                            0.7777777777777778,
                            "#fb9f3a"
                          ],
                          [
                            0.8888888888888888,
                            "#fdca26"
                          ],
                          [
                            1,
                            "#f0f921"
                          ]
                        ],
                        "type": "contour"
                      }
                    ],
                    "contourcarpet": [
                      {
                        "colorbar": {
                          "outlinewidth": 0,
                          "ticks": ""
                        },
                        "type": "contourcarpet"
                      }
                    ],
                    "heatmap": [
                      {
                        "colorbar": {
                          "outlinewidth": 0,
                          "ticks": ""
                        },
                        "colorscale": [
                          [
                            0,
                            "#0d0887"
                          ],
                          [
                            0.1111111111111111,
                            "#46039f"
                          ],
                          [
                            0.2222222222222222,
                            "#7201a8"
                          ],
                          [
                            0.3333333333333333,
                            "#9c179e"
                          ],
                          [
                            0.4444444444444444,
                            "#bd3786"
                          ],
                          [
                            0.5555555555555556,
                            "#d8576b"
                          ],
                          [
                            0.6666666666666666,
                            "#ed7953"
                          ],
                          [
                            0.7777777777777778,
                            "#fb9f3a"
                          ],
                          [
                            0.8888888888888888,
                            "#fdca26"
                          ],
                          [
                            1,
                            "#f0f921"
                          ]
                        ],
                        "type": "heatmap"
                      }
                    ],
                    "histogram": [
                      {
                        "marker": {
                          "pattern": {
                            "fillmode": "overlay",
                            "size": 10,
                            "solidity": 0.2
                          }
                        },
                        "type": "histogram"
                      }
                    ],
                    "histogram2d": [
                      {
                        "colorbar": {
                          "outlinewidth": 0,
                          "ticks": ""
                        },
                        "colorscale": [
                          [
                            0,
                            "#0d0887"
                          ],
                          [
                            0.1111111111111111,
                            "#46039f"
                          ],
                          [
                            0.2222222222222222,
                            "#7201a8"
                          ],
                          [
                            0.3333333333333333,
                            "#9c179e"
                          ],
                          [
                            0.4444444444444444,
                            "#bd3786"
                          ],
                          [
                            0.5555555555555556,
                            "#d8576b"
                          ],
                          [
                            0.6666666666666666,
                            "#ed7953"
                          ],
                          [
                            0.7777777777777778,
                            "#fb9f3a"
                          ],
                          [
                            0.8888888888888888,
                            "#fdca26"
                          ],
                          [
                            1,
                            "#f0f921"
                          ]
                        ],
                        "type": "histogram2d"
                      }
                    ],
                    "histogram2dcontour": [
                      {
                        "colorbar": {
                          "outlinewidth": 0,
                          "ticks": ""
                        },
                        "colorscale": [
                          [
                            0,
                            "#0d0887"
                          ],
                          [
                            0.1111111111111111,
                            "#46039f"
                          ],
                          [
                            0.2222222222222222,
                            "#7201a8"
                          ],
                          [
                            0.3333333333333333,
                            "#9c179e"
                          ],
                          [
                            0.4444444444444444,
                            "#bd3786"
                          ],
                          [
                            0.5555555555555556,
                            "#d8576b"
                          ],
                          [
                            0.6666666666666666,
                            "#ed7953"
                          ],
                          [
                            0.7777777777777778,
                            "#fb9f3a"
                          ],
                          [
                            0.8888888888888888,
                            "#fdca26"
                          ],
                          [
                            1,
                            "#f0f921"
                          ]
                        ],
                        "type": "histogram2dcontour"
                      }
                    ],
                    "mesh3d": [
                      {
                        "colorbar": {
                          "outlinewidth": 0,
                          "ticks": ""
                        },
                        "type": "mesh3d"
                      }
                    ],
                    "parcoords": [
                      {
                        "line": {
                          "colorbar": {
                            "outlinewidth": 0,
                            "ticks": ""
                          }
                        },
                        "type": "parcoords"
                      }
                    ],
                    "pie": [
                      {
                        "automargin": true,
                        "type": "pie"
                      }
                    ],
                    "scatter": [
                      {
                        "fillpattern": {
                          "fillmode": "overlay",
                          "size": 10,
                          "solidity": 0.2
                        },
                        "type": "scatter"
                      }
                    ],
                    "scatter3d": [
                      {
                        "line": {
                          "colorbar": {
                            "outlinewidth": 0,
                            "ticks": ""
                          }
                        },
                        "marker": {
                          "colorbar": {
                            "outlinewidth": 0,
                            "ticks": ""
                          }
                        },
                        "type": "scatter3d"
                      }
                    ],
                    "scattercarpet": [
                      {
                        "marker": {
                          "colorbar": {
                            "outlinewidth": 0,
                            "ticks": ""
                          }
                        },
                        "type": "scattercarpet"
                      }
                    ],
                    "scattergeo": [
                      {
                        "marker": {
                          "colorbar": {
                            "outlinewidth": 0,
                            "ticks": ""
                          }
                        },
                        "type": "scattergeo"
                      }
                    ],
                    "scattergl": [
                      {
                        "marker": {
                          "colorbar": {
                            "outlinewidth": 0,
                            "ticks": ""
                          }
                        },
                        "type": "scattergl"
                      }
                    ],
                    "scattermap": [
                      {
                        "marker": {
                          "colorbar": {
                            "outlinewidth": 0,
                            "ticks": ""
                          }
                        },
                        "type": "scattermap"
                      }
                    ],
                    "scattermapbox": [
                      {
                        "marker": {
                          "colorbar": {
                            "outlinewidth": 0,
                            "ticks": ""
                          }
                        },
                        "type": "scattermapbox"
                      }
                    ],
                    "scatterpolar": [
                      {
                        "marker": {
                          "colorbar": {
                            "outlinewidth": 0,
                            "ticks": ""
                          }
                        },
                        "type": "scatterpolar"
                      }
                    ],
                    "scatterpolargl": [
                      {
                        "marker": {
                          "colorbar": {
                            "outlinewidth": 0,
                            "ticks": ""
                          }
                        },
                        "type": "scatterpolargl"
                      }
                    ],
                    "scatterternary": [
                      {
                        "marker": {
                          "colorbar": {
                            "outlinewidth": 0,
                            "ticks": ""
                          }
                        },
                        "type": "scatterternary"
                      }
                    ],
                    "surface": [
                      {
                        "colorbar": {
                          "outlinewidth": 0,
                          "ticks": ""
                        },
                        "colorscale": [
                          [
                            0,
                            "#0d0887"
                          ],
                          [
                            0.1111111111111111,
                            "#46039f"
                          ],
                          [
                            0.2222222222222222,
                            "#7201a8"
                          ],
                          [
                            0.3333333333333333,
                            "#9c179e"
                          ],
                          [
                            0.4444444444444444,
                            "#bd3786"
                          ],
                          [
                            0.5555555555555556,
                            "#d8576b"
                          ],
                          [
                            0.6666666666666666,
                            "#ed7953"
                          ],
                          [
                            0.7777777777777778,
                            "#fb9f3a"
                          ],
                          [
                            0.8888888888888888,
                            "#fdca26"
                          ],
                          [
                            1,
                            "#f0f921"
                          ]
                        ],
                        "type": "surface"
                      }
                    ],
                    "table": [
                      {
                        "cells": {
                          "fill": {
                            "color": "#EBF0F8"
                          },
                          "line": {
                            "color": "white"
                          }
                        },
                        "header": {
                          "fill": {
                            "color": "#C8D4E3"
                          },
                          "line": {
                            "color": "white"
                          }
                        },
                        "type": "table"
                      }
                    ]
                  },
                  "layout": {
                    "annotationdefaults": {
                      "arrowcolor": "#2a3f5f",
                      "arrowhead": 0,
                      "arrowwidth": 1
                    },
                    "autotypenumbers": "strict",
                    "coloraxis": {
                      "colorbar": {
                        "outlinewidth": 0,
                        "ticks": ""
                      }
                    },
                    "colorscale": {
                      "diverging": [
                        [
                          0,
                          "#8e0152"
                        ],
                        [
                          0.1,
                          "#c51b7d"
                        ],
                        [
                          0.2,
                          "#de77ae"
                        ],
                        [
                          0.3,
                          "#f1b6da"
                        ],
                        [
                          0.4,
                          "#fde0ef"
                        ],
                        [
                          0.5,
                          "#f7f7f7"
                        ],
                        [
                          0.6,
                          "#e6f5d0"
                        ],
                        [
                          0.7,
                          "#b8e186"
                        ],
                        [
                          0.8,
                          "#7fbc41"
                        ],
                        [
                          0.9,
                          "#4d9221"
                        ],
                        [
                          1,
                          "#276419"
                        ]
                      ],
                      "sequential": [
                        [
                          0,
                          "#0d0887"
                        ],
                        [
                          0.1111111111111111,
                          "#46039f"
                        ],
                        [
                          0.2222222222222222,
                          "#7201a8"
                        ],
                        [
                          0.3333333333333333,
                          "#9c179e"
                        ],
                        [
                          0.4444444444444444,
                          "#bd3786"
                        ],
                        [
                          0.5555555555555556,
                          "#d8576b"
                        ],
                        [
                          0.6666666666666666,
                          "#ed7953"
                        ],
                        [
                          0.7777777777777778,
                          "#fb9f3a"
                        ],
                        [
                          0.8888888888888888,
                          "#fdca26"
                        ],
                        [
                          1,
                          "#f0f921"
                        ]
                      ],
                      "sequentialminus": [
                        [
                          0,
                          "#0d0887"
                        ],
                        [
                          0.1111111111111111,
                          "#46039f"
                        ],
                        [
                          0.2222222222222222,
                          "#7201a8"
                        ],
                        [
                          0.3333333333333333,
                          "#9c179e"
                        ],
                        [
                          0.4444444444444444,
                          "#bd3786"
                        ],
                        [
                          0.5555555555555556,
                          "#d8576b"
                        ],
                        [
                          0.6666666666666666,
                          "#ed7953"
                        ],
                        [
                          0.7777777777777778,
                          "#fb9f3a"
                        ],
                        [
                          0.8888888888888888,
                          "#fdca26"
                        ],
                        [
                          1,
                          "#f0f921"
                        ]
                      ]
                    },
                    "colorway": [
                      "#636efa",
                      "#EF553B",
                      "#00cc96",
                      "#ab63fa",
                      "#FFA15A",
                      "#19d3f3",
                      "#FF6692",
                      "#B6E880",
                      "#FF97FF",
                      "#FECB52"
                    ],
                    "font": {
                      "color": "#2a3f5f"
                    },
                    "geo": {
                      "bgcolor": "white",
                      "lakecolor": "white",
                      "landcolor": "#E5ECF6",
                      "showlakes": true,
                      "showland": true,
                      "subunitcolor": "white"
                    },
                    "hoverlabel": {
                      "align": "left"
                    },
                    "hovermode": "closest",
                    "mapbox": {
                      "style": "light"
                    },
                    "paper_bgcolor": "white",
                    "plot_bgcolor": "#E5ECF6",
                    "polar": {
                      "angularaxis": {
                        "gridcolor": "white",
                        "linecolor": "white",
                        "ticks": ""
                      },
                      "bgcolor": "#E5ECF6",
                      "radialaxis": {
                        "gridcolor": "white",
                        "linecolor": "white",
                        "ticks": ""
                      }
                    },
                    "scene": {
                      "xaxis": {
                        "backgroundcolor": "#E5ECF6",
                        "gridcolor": "white",
                        "gridwidth": 2,
                        "linecolor": "white",
                        "showbackground": true,
                        "ticks": "",
                        "zerolinecolor": "white"
                      },
                      "yaxis": {
                        "backgroundcolor": "#E5ECF6",
                        "gridcolor": "white",
                        "gridwidth": 2,
                        "linecolor": "white",
                        "showbackground": true,
                        "ticks": "",
                        "zerolinecolor": "white"
                      },
                      "zaxis": {
                        "backgroundcolor": "#E5ECF6",
                        "gridcolor": "white",
                        "gridwidth": 2,
                        "linecolor": "white",
                        "showbackground": true,
                        "ticks": "",
                        "zerolinecolor": "white"
                      }
                    },
                    "shapedefaults": {
                      "line": {
                        "color": "#2a3f5f"
                      }
                    },
                    "ternary": {
                      "aaxis": {
                        "gridcolor": "white",
                        "linecolor": "white",
                        "ticks": ""
                      },
                      "baxis": {
                        "gridcolor": "white",
                        "linecolor": "white",
                        "ticks": ""
                      },
                      "bgcolor": "#E5ECF6",
                      "caxis": {
                        "gridcolor": "white",
                        "linecolor": "white",
                        "ticks": ""
                      }
                    },
                    "title": {
                      "x": 0.05
                    },
                    "xaxis": {
                      "automargin": true,
                      "gridcolor": "white",
                      "linecolor": "white",
                      "ticks": "",
                      "title": {
                        "standoff": 15
                      },
                      "zerolinecolor": "white",
                      "zerolinewidth": 2
                    },
                    "yaxis": {
                      "automargin": true,
                      "gridcolor": "white",
                      "linecolor": "white",
                      "ticks": "",
                      "title": {
                        "standoff": 15
                      },
                      "zerolinecolor": "white",
                      "zerolinewidth": 2
                    }
                  }
                },
                "title": {
                  "text": "Gráfico estacional: ventas por mes, comparadas por año"
                },
                "xaxis": {
                  "anchor": "y",
                  "domain": [
                    0,
                    1
                  ],
                  "title": {
                    "text": "Mes"
                  }
                },
                "yaxis": {
                  "anchor": "x",
                  "domain": [
                    0,
                    1
                  ],
                  "title": {
                    "text": "Ventas"
                  }
                }
              }
            }
          },
          "metadata": {},
          "output_type": "display_data"
        }
      ],
      "source": [
        "# Agrupar por año y mes\n",
        "seasonal = filtered_df.groupby(['año', 'mes'])['canti_venta'].sum().reset_index()\n",
        "\n",
        "fig = px.line(seasonal, x='mes', y='canti_venta', color='año',\n",
        "              labels={'mes': 'Mes', 'canti_venta': 'Ventas'},\n",
        "              title='Gráfico estacional: ventas por mes, comparadas por año')\n",
        "fig.show()"
      ]
    },
    {
      "cell_type": "markdown",
      "id": "2d852d9c",
      "metadata": {
        "id": "2d852d9c"
      },
      "source": [
        "🔍 **Observaciones**:\n",
        "\n",
        "- **Patrón estacional claro**: todos los años muestran un crecimiento entre enero y junio, caída en julio-agosto y un pico en septiembre, especialmente en 2022.\n",
        "\n",
        "- **Meses de baja actividad**: diciembre y enero tienden a mostrar valores más bajos, lo que podría estar relacionado con estacionalidad comercial o recesos."
      ]
    },
    {
      "cell_type": "markdown",
      "id": "3fc07847",
      "metadata": {
        "id": "3fc07847"
      },
      "source": [
        "### 🕒 3. Análisis de granularidad temporal"
      ]
    },
    {
      "cell_type": "markdown",
      "id": "80415807",
      "metadata": {
        "id": "80415807"
      },
      "source": [
        "🎯 **Objetivos**:\n",
        "\n",
        "- Evaluar variabilidad y ruido de los datos al agruparlos con diferentes granularidades temporales.\n",
        "\n",
        "- Analizar el grado de completitud de las series de tiempo según la granularidad elegida."
      ]
    },
    {
      "cell_type": "markdown",
      "id": "39090e86",
      "metadata": {
        "id": "39090e86"
      },
      "source": [
        "Para medir la variabilidad de las series se puede usar el **coeficiente de variación por cliente**, ya que es independiente del volumen de ventas. Promediarlo permite evaluar cómo cambia la variabilidad al modificar la granularidad."
      ]
    },
    {
      "cell_type": "code",
      "execution_count": 44,
      "id": "d0aeb9ce",
      "metadata": {
        "colab": {
          "base_uri": "https://localhost:8080/",
          "height": 175
        },
        "id": "d0aeb9ce",
        "outputId": "76f39c5d-5e94-4c59-f50f-f028d9555d73"
      },
      "outputs": [
        {
          "data": {
            "text/html": [
              "<div>\n",
              "<style scoped>\n",
              "    .dataframe tbody tr th:only-of-type {\n",
              "        vertical-align: middle;\n",
              "    }\n",
              "\n",
              "    .dataframe tbody tr th {\n",
              "        vertical-align: top;\n",
              "    }\n",
              "\n",
              "    .dataframe thead th {\n",
              "        text-align: right;\n",
              "    }\n",
              "</style>\n",
              "<table border=\"1\" class=\"dataframe\">\n",
              "  <thead>\n",
              "    <tr style=\"text-align: right;\">\n",
              "      <th></th>\n",
              "      <th>granularidad</th>\n",
              "      <th>clientes</th>\n",
              "      <th>promedio_cv</th>\n",
              "    </tr>\n",
              "  </thead>\n",
              "  <tbody>\n",
              "    <tr>\n",
              "      <th>0</th>\n",
              "      <td>D</td>\n",
              "      <td>571</td>\n",
              "      <td>1.0673</td>\n",
              "    </tr>\n",
              "    <tr>\n",
              "      <th>1</th>\n",
              "      <td>W</td>\n",
              "      <td>571</td>\n",
              "      <td>1.0039</td>\n",
              "    </tr>\n",
              "    <tr>\n",
              "      <th>2</th>\n",
              "      <td>M</td>\n",
              "      <td>571</td>\n",
              "      <td>0.7871</td>\n",
              "    </tr>\n",
              "    <tr>\n",
              "      <th>3</th>\n",
              "      <td>Q</td>\n",
              "      <td>571</td>\n",
              "      <td>0.6023</td>\n",
              "    </tr>\n",
              "  </tbody>\n",
              "</table>\n",
              "</div>"
            ],
            "text/plain": [
              "  granularidad  clientes  promedio_cv\n",
              "0            D       571       1.0673\n",
              "1            W       571       1.0039\n",
              "2            M       571       0.7871\n",
              "3            Q       571       0.6023"
            ]
          },
          "execution_count": 44,
          "metadata": {},
          "output_type": "execute_result"
        }
      ],
      "source": [
        "def coeficiente_variacion_por_granularidad(df, col_fecha, col_cliente, col_ventas, granularidades):\n",
        "    resultados = []\n",
        "\n",
        "    for gr in granularidades:\n",
        "        df['periodo'] = df[col_fecha].dt.to_period(gr)\n",
        "\n",
        "        # Agrupar por cliente y periodo, sumando ventas\n",
        "        resumen = df.groupby([col_cliente, 'periodo'])[col_ventas].sum().reset_index()\n",
        "\n",
        "        # Calcular media y std por cliente\n",
        "        stats = resumen.groupby(col_cliente)[col_ventas].agg(['mean', 'std'])\n",
        "\n",
        "        # Calcular coeficiente de variación (evitar división por cero)\n",
        "        stats = stats[stats['mean'] > 0]\n",
        "        stats['cv'] = stats['std'] / stats['mean']\n",
        "\n",
        "        # Promediar el CV entre todos los clientes\n",
        "        promedio_cv = stats['cv'].mean()\n",
        "\n",
        "        resultados.append({\n",
        "            'granularidad': gr,\n",
        "            'clientes': stats.shape[0],\n",
        "            'promedio_cv': round(promedio_cv, 4)\n",
        "        })\n",
        "\n",
        "    return pd.DataFrame(resultados)\n",
        "\n",
        "granularidades = ['D', 'W', 'M', 'Q']  # Días, Semanas, Meses, Trimestres\n",
        "cv_resultados = coeficiente_variacion_por_granularidad(\n",
        "    filtered_df,\n",
        "    col_fecha='fecha_dt',\n",
        "    col_cliente='cliente',\n",
        "    col_ventas='canti_venta',\n",
        "    granularidades=granularidades\n",
        ")\n",
        "cv_resultados.sort_values(by='promedio_cv', ascending=False, inplace=True)\n",
        "cv_resultados"
      ]
    },
    {
      "cell_type": "markdown",
      "id": "f15f6907",
      "metadata": {
        "id": "f15f6907"
      },
      "source": [
        "- Tanto la granularidad diaria como la semanal presentan alta variabilidad, es recomendable utilizar una granularidad **mensual o trimestral**."
      ]
    },
    {
      "cell_type": "code",
      "execution_count": 45,
      "id": "e4a86ee4",
      "metadata": {
        "colab": {
          "base_uri": "https://localhost:8080/",
          "height": 617
        },
        "id": "e4a86ee4",
        "outputId": "7cd5f949-34da-457b-b93e-18f4da1b51f3"
      },
      "outputs": [
        {
          "data": {
            "application/vnd.plotly.v1+json": {
              "config": {
                "plotlyServerURL": "https://plot.ly"
              },
              "data": [
                {
                  "mode": "lines+markers",
                  "showlegend": false,
                  "type": "scatter",
                  "x": [
                    "2022-01-01T00:00:00",
                    "2022-02-01T00:00:00",
                    "2022-03-01T00:00:00",
                    "2022-04-01T00:00:00",
                    "2022-05-01T00:00:00",
                    "2022-06-01T00:00:00",
                    "2022-07-01T00:00:00",
                    "2022-08-01T00:00:00",
                    "2022-09-01T00:00:00",
                    "2022-10-01T00:00:00",
                    "2022-11-01T00:00:00",
                    "2022-12-01T00:00:00",
                    "2023-01-01T00:00:00",
                    "2023-02-01T00:00:00",
                    "2023-03-01T00:00:00",
                    "2023-04-01T00:00:00",
                    "2023-05-01T00:00:00",
                    "2023-06-01T00:00:00",
                    "2023-07-01T00:00:00",
                    "2023-08-01T00:00:00",
                    "2023-09-01T00:00:00",
                    "2023-10-01T00:00:00",
                    "2023-11-01T00:00:00",
                    "2023-12-01T00:00:00",
                    "2024-01-01T00:00:00",
                    "2024-02-01T00:00:00",
                    "2024-03-01T00:00:00",
                    "2024-04-01T00:00:00",
                    "2024-05-01T00:00:00",
                    "2024-06-01T00:00:00"
                  ],
                  "xaxis": "x",
                  "y": {
                    "bdata": "AAAAAACAbUAAAAAAAGBkQAAAAAAAsHJAAAAAAACgcUAAAAAAAFBwQAAAAAAAoGhAAAAAAAAgaUAAAAAAAGiEQAAAAAAA0LBAAAAAAACPsEAAAAAAAHSyQAAAAAAAlKhAAAAAAABSqEAAAAAAAJSbQAAAAAAAoqhAAAAAAABtskAAAAAAABO4QAAAAAAA4bZAAAAAAABQiUAAAAAAAAB5QAAAAAAA9rFAAAAAAACWrUAAAAAAAIKqQAAAAAAAMJ9AAAAAAADonEAAAAAAAJiiQAAAAAAA0IZAAAAAAADojkAAAAAAAFSSQAAAAAAAsJFA",
                    "dtype": "f8"
                  },
                  "yaxis": "y"
                },
                {
                  "mode": "lines+markers",
                  "showlegend": false,
                  "type": "scatter",
                  "x": [
                    "2022-02-01T00:00:00",
                    "2022-03-01T00:00:00",
                    "2022-04-01T00:00:00",
                    "2022-05-01T00:00:00",
                    "2022-06-01T00:00:00",
                    "2022-07-01T00:00:00",
                    "2022-08-01T00:00:00",
                    "2022-09-01T00:00:00",
                    "2022-10-01T00:00:00",
                    "2022-11-01T00:00:00",
                    "2022-12-01T00:00:00",
                    "2023-01-01T00:00:00",
                    "2023-02-01T00:00:00",
                    "2023-03-01T00:00:00",
                    "2023-04-01T00:00:00",
                    "2023-05-01T00:00:00",
                    "2023-06-01T00:00:00",
                    "2023-07-01T00:00:00",
                    "2023-08-01T00:00:00",
                    "2023-09-01T00:00:00",
                    "2023-10-01T00:00:00",
                    "2023-11-01T00:00:00",
                    "2023-12-01T00:00:00",
                    "2024-01-01T00:00:00",
                    "2024-02-01T00:00:00",
                    "2024-03-01T00:00:00",
                    "2024-04-01T00:00:00",
                    "2024-05-01T00:00:00",
                    "2024-06-01T00:00:00"
                  ],
                  "xaxis": "x2",
                  "y": {
                    "bdata": "AAAAAACggkAAAAAAANB0QAAAAAAAADBAAAAAAACAb0AAAAAAAIBwQAAAAAAAUHtAAAAAAAB4hUAAAAAAAAiDQAAAAAAAFJ9AAAAAAABkoUAAAAAAADSUQAAAAAAAWKRAAAAAAAAhtkAAAAAAAGBiQAAAAAAAbKNAAAAAAADqrUAAAAAAAPC1QAAAAAAAAKxAAAAAAABoqUAAAAAAAAaxQAAAAAAAiJ5AAAAAAADUqUAAAAAAAPiKQAAAAAAAwFRAAAAAAABMl0AAAAAAAAiTQAAAAAAAdJhAAAAAAACwpEAAAAAAAJyVQA==",
                    "dtype": "f8"
                  },
                  "yaxis": "y2"
                },
                {
                  "mode": "lines+markers",
                  "showlegend": false,
                  "type": "scatter",
                  "x": [
                    "2022-01-01T00:00:00",
                    "2022-02-01T00:00:00",
                    "2022-03-01T00:00:00",
                    "2022-04-01T00:00:00",
                    "2022-05-01T00:00:00",
                    "2022-06-01T00:00:00",
                    "2022-07-01T00:00:00",
                    "2022-08-01T00:00:00",
                    "2022-09-01T00:00:00",
                    "2022-10-01T00:00:00",
                    "2022-11-01T00:00:00",
                    "2022-12-01T00:00:00",
                    "2023-01-01T00:00:00",
                    "2023-02-01T00:00:00",
                    "2023-03-01T00:00:00",
                    "2023-04-01T00:00:00",
                    "2023-05-01T00:00:00",
                    "2023-06-01T00:00:00",
                    "2023-07-01T00:00:00",
                    "2023-08-01T00:00:00",
                    "2023-09-01T00:00:00",
                    "2023-10-01T00:00:00",
                    "2023-11-01T00:00:00",
                    "2023-12-01T00:00:00",
                    "2024-01-01T00:00:00",
                    "2024-02-01T00:00:00",
                    "2024-03-01T00:00:00",
                    "2024-04-01T00:00:00",
                    "2024-05-01T00:00:00",
                    "2024-06-01T00:00:00"
                  ],
                  "xaxis": "x3",
                  "y": {
                    "bdata": "AAAAAADAZ0AAAAAAAIBQQAAAAAAAwGtAAAAAAADgbEAAAAAAALB9QAAAAAAAQHVAAAAAAABgdkAAAAAAANBxQAAAAAAAMHdAAAAAAAB4n0AAAAAAAGKlQAAAAAAAWJlAAAAAAABggEAAAAAAADyQQAAAAAAAGJtAAAAAAADQp0AAAAAAAAirQAAAAAAABKVAAAAAAABIgkAAAAAAAGyfQAAAAAAAVJ1AAAAAAADAlkAAAAAAAIyqQAAAAAAAFKNAAAAAAADgmkAAAAAAACBiQAAAAAAA0H5AAAAAAACQckAAAAAAADCAQAAAAAAAwG9A",
                    "dtype": "f8"
                  },
                  "yaxis": "y3"
                },
                {
                  "mode": "lines+markers",
                  "showlegend": false,
                  "type": "scatter",
                  "x": [
                    "2022-01-01T00:00:00",
                    "2022-02-01T00:00:00",
                    "2022-03-01T00:00:00",
                    "2022-04-01T00:00:00",
                    "2022-05-01T00:00:00",
                    "2022-06-01T00:00:00",
                    "2022-07-01T00:00:00",
                    "2022-08-01T00:00:00",
                    "2022-09-01T00:00:00",
                    "2022-10-01T00:00:00",
                    "2022-11-01T00:00:00",
                    "2022-12-01T00:00:00",
                    "2023-01-01T00:00:00",
                    "2023-02-01T00:00:00",
                    "2023-03-01T00:00:00",
                    "2023-04-01T00:00:00",
                    "2023-05-01T00:00:00",
                    "2023-06-01T00:00:00",
                    "2023-07-01T00:00:00",
                    "2023-08-01T00:00:00",
                    "2023-09-01T00:00:00",
                    "2023-10-01T00:00:00",
                    "2023-11-01T00:00:00",
                    "2023-12-01T00:00:00",
                    "2024-01-01T00:00:00",
                    "2024-02-01T00:00:00",
                    "2024-03-01T00:00:00",
                    "2024-04-01T00:00:00",
                    "2024-05-01T00:00:00",
                    "2024-06-01T00:00:00"
                  ],
                  "xaxis": "x4",
                  "y": {
                    "bdata": "AAAAAADgiUAAAAAAADiJQAAAAAAADJRAAAAAAACMmUAAAAAAAJSYQAAAAAAAMJZAAAAAAACsl0AAAAAAALSUQAAAAAAAkJ5AAAAAAACgjEAAAAAAANCKQAAAAAAA8ItAAAAAAACIhEAAAAAAAESVQAAAAAAA2IhAAAAAAAAgjUAAAAAAAIyVQAAAAAAAbJVAAAAAAACYnUAAAAAAAAiQQAAAAAAA+JdAAAAAAAB8kkAAAAAAAACKQAAAAAAA+IxAAAAAAADIiEAAAAAAAOiOQAAAAAAAsI1AAAAAAADsl0AAAAAAAMCKQAAAAAAAOJNA",
                    "dtype": "f8"
                  },
                  "yaxis": "y4"
                },
                {
                  "mode": "lines+markers",
                  "showlegend": false,
                  "type": "scatter",
                  "x": [
                    "2022-01-01T00:00:00",
                    "2022-02-01T00:00:00",
                    "2022-03-01T00:00:00",
                    "2022-04-01T00:00:00",
                    "2022-05-01T00:00:00",
                    "2022-06-01T00:00:00",
                    "2022-07-01T00:00:00",
                    "2022-08-01T00:00:00",
                    "2022-09-01T00:00:00",
                    "2022-10-01T00:00:00",
                    "2022-11-01T00:00:00",
                    "2022-12-01T00:00:00",
                    "2023-01-01T00:00:00",
                    "2023-02-01T00:00:00",
                    "2023-03-01T00:00:00",
                    "2023-04-01T00:00:00",
                    "2023-05-01T00:00:00",
                    "2023-06-01T00:00:00",
                    "2023-07-01T00:00:00",
                    "2023-08-01T00:00:00",
                    "2023-09-01T00:00:00",
                    "2023-10-01T00:00:00",
                    "2023-11-01T00:00:00",
                    "2023-12-01T00:00:00",
                    "2024-01-01T00:00:00",
                    "2024-02-01T00:00:00",
                    "2024-03-01T00:00:00",
                    "2024-04-01T00:00:00",
                    "2024-05-01T00:00:00",
                    "2024-06-01T00:00:00"
                  ],
                  "xaxis": "x5",
                  "y": {
                    "bdata": "AAAAAACgZ0AAAAAAAOB+QAAAAAAAwHxAAAAAAAAgeEAAAAAAAOB3QAAAAAAAIHVAAAAAAACwgUAAAAAAACB9QAAAAAAAoqdAAAAAAABSoUAAAAAAACCqQAAAAAAAIqZAAAAAAAD8qUAAAAAAAHCNQAAAAAAAAHtAAAAAAADQf0AAAAAAALmwQAAAAAAAMrRAAAAAAABQkEAAAAAAADB9QAAAAAAAAIlAAAAAAABgcEAAAAAAACBiQAAAAAAAAGNAAAAAAACga0AAAAAAALBxQAAAAAAAQGpAAAAAAABgfEAAAAAAACB7QAAAAAAAIGhA",
                    "dtype": "f8"
                  },
                  "yaxis": "y5"
                },
                {
                  "mode": "lines+markers",
                  "showlegend": false,
                  "type": "scatter",
                  "x": [
                    "2022-01-01T00:00:00",
                    "2022-04-01T00:00:00",
                    "2022-07-01T00:00:00",
                    "2022-10-01T00:00:00",
                    "2023-01-01T00:00:00",
                    "2023-04-01T00:00:00",
                    "2023-07-01T00:00:00",
                    "2023-10-01T00:00:00",
                    "2024-01-01T00:00:00",
                    "2024-04-01T00:00:00"
                  ],
                  "xaxis": "x6",
                  "y": {
                    "bdata": "AAAAAADQhUAAAAAAACCHQAAAAAAAJrRAAAAAAICmx0AAAAAAAF+/QAAAAABAWNBAAAAAAACwtkAAAAAAAOzBQAAAAAAAYLNAAAAAAAC8qUA=",
                    "dtype": "f8"
                  },
                  "yaxis": "y6"
                },
                {
                  "mode": "lines+markers",
                  "showlegend": false,
                  "type": "scatter",
                  "x": [
                    "2022-01-01T00:00:00",
                    "2022-04-01T00:00:00",
                    "2022-07-01T00:00:00",
                    "2022-10-01T00:00:00",
                    "2023-01-01T00:00:00",
                    "2023-04-01T00:00:00",
                    "2023-07-01T00:00:00",
                    "2023-10-01T00:00:00",
                    "2024-01-01T00:00:00",
                    "2024-04-01T00:00:00"
                  ],
                  "xaxis": "x7",
                  "y": {
                    "bdata": "AAAAAAAIjUAAAAAAAKCAQAAAAAAAFJtAAAAAAACEtUAAAAAAAHDAQAAAAACATcdAAAAAAADdxUAAAAAAAOu3QAAAAAAA0KVAAAAAAADctUA=",
                    "dtype": "f8"
                  },
                  "yaxis": "y7"
                },
                {
                  "mode": "lines+markers",
                  "showlegend": false,
                  "type": "scatter",
                  "x": [
                    "2022-01-01T00:00:00",
                    "2022-04-01T00:00:00",
                    "2022-07-01T00:00:00",
                    "2022-10-01T00:00:00",
                    "2023-01-01T00:00:00",
                    "2023-04-01T00:00:00",
                    "2023-07-01T00:00:00",
                    "2023-10-01T00:00:00",
                    "2024-01-01T00:00:00",
                    "2024-04-01T00:00:00"
                  ],
                  "xaxis": "x8",
                  "y": {
                    "bdata": "AAAAAADgfUAAAAAAAFiQQAAAAAAAsI9AAAAAAADluEAAAAAAAMKpQAAAAAAA98FAAAAAAAB5sUAAAAAAAIC8QAAAAAAAbKJAAAAAAAC0kEA=",
                    "dtype": "f8"
                  },
                  "yaxis": "y8"
                },
                {
                  "mode": "lines+markers",
                  "showlegend": false,
                  "type": "scatter",
                  "x": [
                    "2022-01-01T00:00:00",
                    "2022-04-01T00:00:00",
                    "2022-07-01T00:00:00",
                    "2022-10-01T00:00:00",
                    "2023-01-01T00:00:00",
                    "2023-04-01T00:00:00",
                    "2023-07-01T00:00:00",
                    "2023-10-01T00:00:00",
                    "2024-01-01T00:00:00",
                    "2024-04-01T00:00:00"
                  ],
                  "xaxis": "x9",
                  "y": {
                    "bdata": "AAAAAADMpkAAAAAAABSyQAAAAAAAvLJAAAAAAADYpEAAAAAAAPqlQAAAAAAAxKxAAAAAAABmsUAAAAAAAPymQAAAAAAAWKVAAAAAAABCrEA=",
                    "dtype": "f8"
                  },
                  "yaxis": "y9"
                },
                {
                  "mode": "lines+markers",
                  "showlegend": false,
                  "type": "scatter",
                  "x": [
                    "2022-01-01T00:00:00",
                    "2022-04-01T00:00:00",
                    "2022-07-01T00:00:00",
                    "2022-10-01T00:00:00",
                    "2023-01-01T00:00:00",
                    "2023-04-01T00:00:00",
                    "2023-07-01T00:00:00",
                    "2023-10-01T00:00:00",
                    "2024-01-01T00:00:00",
                    "2024-04-01T00:00:00"
                  ],
                  "xaxis": "x10",
                  "y": {
                    "bdata": "AAAAAADckUAAAAAAAEiRQAAAAAAAsq9AAAAAAABlwEAAAAAAAFyyQAAAAAAAdMNAAAAAAAAOokAAAAAAAHiBQAAAAAAAUIZAAAAAAADkkEA=",
                    "dtype": "f8"
                  },
                  "yaxis": "y10"
                }
              ],
              "layout": {
                "annotations": [
                  {
                    "font": {
                      "size": 16
                    },
                    "showarrow": false,
                    "text": "Cliente 4902",
                    "x": 0.08199999999999999,
                    "xanchor": "center",
                    "xref": "paper",
                    "y": 1,
                    "yanchor": "bottom",
                    "yref": "paper"
                  },
                  {
                    "font": {
                      "size": 16
                    },
                    "showarrow": false,
                    "text": "Cliente 2767",
                    "x": 0.286,
                    "xanchor": "center",
                    "xref": "paper",
                    "y": 1,
                    "yanchor": "bottom",
                    "yref": "paper"
                  },
                  {
                    "font": {
                      "size": 16
                    },
                    "showarrow": false,
                    "text": "Cliente 6110",
                    "x": 0.49,
                    "xanchor": "center",
                    "xref": "paper",
                    "y": 1,
                    "yanchor": "bottom",
                    "yref": "paper"
                  },
                  {
                    "font": {
                      "size": 16
                    },
                    "showarrow": false,
                    "text": "Cliente 27677",
                    "x": 0.6939999999999998,
                    "xanchor": "center",
                    "xref": "paper",
                    "y": 1,
                    "yanchor": "bottom",
                    "yref": "paper"
                  },
                  {
                    "font": {
                      "size": 16
                    },
                    "showarrow": false,
                    "text": "Cliente 526",
                    "x": 0.8979999999999999,
                    "xanchor": "center",
                    "xref": "paper",
                    "y": 1,
                    "yanchor": "bottom",
                    "yref": "paper"
                  },
                  {
                    "font": {
                      "size": 16
                    },
                    "showarrow": false,
                    "text": "Mensual",
                    "textangle": 90,
                    "x": 0.98,
                    "xanchor": "left",
                    "xref": "paper",
                    "y": 0.7875,
                    "yanchor": "middle",
                    "yref": "paper"
                  },
                  {
                    "font": {
                      "size": 16
                    },
                    "showarrow": false,
                    "text": "Trimestral",
                    "textangle": 90,
                    "x": 0.98,
                    "xanchor": "left",
                    "xref": "paper",
                    "y": 0.2125,
                    "yanchor": "middle",
                    "yref": "paper"
                  }
                ],
                "height": 600,
                "margin": {
                  "t": 130
                },
                "template": {
                  "data": {
                    "bar": [
                      {
                        "error_x": {
                          "color": "#2a3f5f"
                        },
                        "error_y": {
                          "color": "#2a3f5f"
                        },
                        "marker": {
                          "line": {
                            "color": "white",
                            "width": 0.5
                          },
                          "pattern": {
                            "fillmode": "overlay",
                            "size": 10,
                            "solidity": 0.2
                          }
                        },
                        "type": "bar"
                      }
                    ],
                    "barpolar": [
                      {
                        "marker": {
                          "line": {
                            "color": "white",
                            "width": 0.5
                          },
                          "pattern": {
                            "fillmode": "overlay",
                            "size": 10,
                            "solidity": 0.2
                          }
                        },
                        "type": "barpolar"
                      }
                    ],
                    "carpet": [
                      {
                        "aaxis": {
                          "endlinecolor": "#2a3f5f",
                          "gridcolor": "#C8D4E3",
                          "linecolor": "#C8D4E3",
                          "minorgridcolor": "#C8D4E3",
                          "startlinecolor": "#2a3f5f"
                        },
                        "baxis": {
                          "endlinecolor": "#2a3f5f",
                          "gridcolor": "#C8D4E3",
                          "linecolor": "#C8D4E3",
                          "minorgridcolor": "#C8D4E3",
                          "startlinecolor": "#2a3f5f"
                        },
                        "type": "carpet"
                      }
                    ],
                    "choropleth": [
                      {
                        "colorbar": {
                          "outlinewidth": 0,
                          "ticks": ""
                        },
                        "type": "choropleth"
                      }
                    ],
                    "contour": [
                      {
                        "colorbar": {
                          "outlinewidth": 0,
                          "ticks": ""
                        },
                        "colorscale": [
                          [
                            0,
                            "#0d0887"
                          ],
                          [
                            0.1111111111111111,
                            "#46039f"
                          ],
                          [
                            0.2222222222222222,
                            "#7201a8"
                          ],
                          [
                            0.3333333333333333,
                            "#9c179e"
                          ],
                          [
                            0.4444444444444444,
                            "#bd3786"
                          ],
                          [
                            0.5555555555555556,
                            "#d8576b"
                          ],
                          [
                            0.6666666666666666,
                            "#ed7953"
                          ],
                          [
                            0.7777777777777778,
                            "#fb9f3a"
                          ],
                          [
                            0.8888888888888888,
                            "#fdca26"
                          ],
                          [
                            1,
                            "#f0f921"
                          ]
                        ],
                        "type": "contour"
                      }
                    ],
                    "contourcarpet": [
                      {
                        "colorbar": {
                          "outlinewidth": 0,
                          "ticks": ""
                        },
                        "type": "contourcarpet"
                      }
                    ],
                    "heatmap": [
                      {
                        "colorbar": {
                          "outlinewidth": 0,
                          "ticks": ""
                        },
                        "colorscale": [
                          [
                            0,
                            "#0d0887"
                          ],
                          [
                            0.1111111111111111,
                            "#46039f"
                          ],
                          [
                            0.2222222222222222,
                            "#7201a8"
                          ],
                          [
                            0.3333333333333333,
                            "#9c179e"
                          ],
                          [
                            0.4444444444444444,
                            "#bd3786"
                          ],
                          [
                            0.5555555555555556,
                            "#d8576b"
                          ],
                          [
                            0.6666666666666666,
                            "#ed7953"
                          ],
                          [
                            0.7777777777777778,
                            "#fb9f3a"
                          ],
                          [
                            0.8888888888888888,
                            "#fdca26"
                          ],
                          [
                            1,
                            "#f0f921"
                          ]
                        ],
                        "type": "heatmap"
                      }
                    ],
                    "histogram": [
                      {
                        "marker": {
                          "pattern": {
                            "fillmode": "overlay",
                            "size": 10,
                            "solidity": 0.2
                          }
                        },
                        "type": "histogram"
                      }
                    ],
                    "histogram2d": [
                      {
                        "colorbar": {
                          "outlinewidth": 0,
                          "ticks": ""
                        },
                        "colorscale": [
                          [
                            0,
                            "#0d0887"
                          ],
                          [
                            0.1111111111111111,
                            "#46039f"
                          ],
                          [
                            0.2222222222222222,
                            "#7201a8"
                          ],
                          [
                            0.3333333333333333,
                            "#9c179e"
                          ],
                          [
                            0.4444444444444444,
                            "#bd3786"
                          ],
                          [
                            0.5555555555555556,
                            "#d8576b"
                          ],
                          [
                            0.6666666666666666,
                            "#ed7953"
                          ],
                          [
                            0.7777777777777778,
                            "#fb9f3a"
                          ],
                          [
                            0.8888888888888888,
                            "#fdca26"
                          ],
                          [
                            1,
                            "#f0f921"
                          ]
                        ],
                        "type": "histogram2d"
                      }
                    ],
                    "histogram2dcontour": [
                      {
                        "colorbar": {
                          "outlinewidth": 0,
                          "ticks": ""
                        },
                        "colorscale": [
                          [
                            0,
                            "#0d0887"
                          ],
                          [
                            0.1111111111111111,
                            "#46039f"
                          ],
                          [
                            0.2222222222222222,
                            "#7201a8"
                          ],
                          [
                            0.3333333333333333,
                            "#9c179e"
                          ],
                          [
                            0.4444444444444444,
                            "#bd3786"
                          ],
                          [
                            0.5555555555555556,
                            "#d8576b"
                          ],
                          [
                            0.6666666666666666,
                            "#ed7953"
                          ],
                          [
                            0.7777777777777778,
                            "#fb9f3a"
                          ],
                          [
                            0.8888888888888888,
                            "#fdca26"
                          ],
                          [
                            1,
                            "#f0f921"
                          ]
                        ],
                        "type": "histogram2dcontour"
                      }
                    ],
                    "mesh3d": [
                      {
                        "colorbar": {
                          "outlinewidth": 0,
                          "ticks": ""
                        },
                        "type": "mesh3d"
                      }
                    ],
                    "parcoords": [
                      {
                        "line": {
                          "colorbar": {
                            "outlinewidth": 0,
                            "ticks": ""
                          }
                        },
                        "type": "parcoords"
                      }
                    ],
                    "pie": [
                      {
                        "automargin": true,
                        "type": "pie"
                      }
                    ],
                    "scatter": [
                      {
                        "fillpattern": {
                          "fillmode": "overlay",
                          "size": 10,
                          "solidity": 0.2
                        },
                        "type": "scatter"
                      }
                    ],
                    "scatter3d": [
                      {
                        "line": {
                          "colorbar": {
                            "outlinewidth": 0,
                            "ticks": ""
                          }
                        },
                        "marker": {
                          "colorbar": {
                            "outlinewidth": 0,
                            "ticks": ""
                          }
                        },
                        "type": "scatter3d"
                      }
                    ],
                    "scattercarpet": [
                      {
                        "marker": {
                          "colorbar": {
                            "outlinewidth": 0,
                            "ticks": ""
                          }
                        },
                        "type": "scattercarpet"
                      }
                    ],
                    "scattergeo": [
                      {
                        "marker": {
                          "colorbar": {
                            "outlinewidth": 0,
                            "ticks": ""
                          }
                        },
                        "type": "scattergeo"
                      }
                    ],
                    "scattergl": [
                      {
                        "marker": {
                          "colorbar": {
                            "outlinewidth": 0,
                            "ticks": ""
                          }
                        },
                        "type": "scattergl"
                      }
                    ],
                    "scattermap": [
                      {
                        "marker": {
                          "colorbar": {
                            "outlinewidth": 0,
                            "ticks": ""
                          }
                        },
                        "type": "scattermap"
                      }
                    ],
                    "scattermapbox": [
                      {
                        "marker": {
                          "colorbar": {
                            "outlinewidth": 0,
                            "ticks": ""
                          }
                        },
                        "type": "scattermapbox"
                      }
                    ],
                    "scatterpolar": [
                      {
                        "marker": {
                          "colorbar": {
                            "outlinewidth": 0,
                            "ticks": ""
                          }
                        },
                        "type": "scatterpolar"
                      }
                    ],
                    "scatterpolargl": [
                      {
                        "marker": {
                          "colorbar": {
                            "outlinewidth": 0,
                            "ticks": ""
                          }
                        },
                        "type": "scatterpolargl"
                      }
                    ],
                    "scatterternary": [
                      {
                        "marker": {
                          "colorbar": {
                            "outlinewidth": 0,
                            "ticks": ""
                          }
                        },
                        "type": "scatterternary"
                      }
                    ],
                    "surface": [
                      {
                        "colorbar": {
                          "outlinewidth": 0,
                          "ticks": ""
                        },
                        "colorscale": [
                          [
                            0,
                            "#0d0887"
                          ],
                          [
                            0.1111111111111111,
                            "#46039f"
                          ],
                          [
                            0.2222222222222222,
                            "#7201a8"
                          ],
                          [
                            0.3333333333333333,
                            "#9c179e"
                          ],
                          [
                            0.4444444444444444,
                            "#bd3786"
                          ],
                          [
                            0.5555555555555556,
                            "#d8576b"
                          ],
                          [
                            0.6666666666666666,
                            "#ed7953"
                          ],
                          [
                            0.7777777777777778,
                            "#fb9f3a"
                          ],
                          [
                            0.8888888888888888,
                            "#fdca26"
                          ],
                          [
                            1,
                            "#f0f921"
                          ]
                        ],
                        "type": "surface"
                      }
                    ],
                    "table": [
                      {
                        "cells": {
                          "fill": {
                            "color": "#EBF0F8"
                          },
                          "line": {
                            "color": "white"
                          }
                        },
                        "header": {
                          "fill": {
                            "color": "#C8D4E3"
                          },
                          "line": {
                            "color": "white"
                          }
                        },
                        "type": "table"
                      }
                    ]
                  },
                  "layout": {
                    "annotationdefaults": {
                      "arrowcolor": "#2a3f5f",
                      "arrowhead": 0,
                      "arrowwidth": 1
                    },
                    "autotypenumbers": "strict",
                    "coloraxis": {
                      "colorbar": {
                        "outlinewidth": 0,
                        "ticks": ""
                      }
                    },
                    "colorscale": {
                      "diverging": [
                        [
                          0,
                          "#8e0152"
                        ],
                        [
                          0.1,
                          "#c51b7d"
                        ],
                        [
                          0.2,
                          "#de77ae"
                        ],
                        [
                          0.3,
                          "#f1b6da"
                        ],
                        [
                          0.4,
                          "#fde0ef"
                        ],
                        [
                          0.5,
                          "#f7f7f7"
                        ],
                        [
                          0.6,
                          "#e6f5d0"
                        ],
                        [
                          0.7,
                          "#b8e186"
                        ],
                        [
                          0.8,
                          "#7fbc41"
                        ],
                        [
                          0.9,
                          "#4d9221"
                        ],
                        [
                          1,
                          "#276419"
                        ]
                      ],
                      "sequential": [
                        [
                          0,
                          "#0d0887"
                        ],
                        [
                          0.1111111111111111,
                          "#46039f"
                        ],
                        [
                          0.2222222222222222,
                          "#7201a8"
                        ],
                        [
                          0.3333333333333333,
                          "#9c179e"
                        ],
                        [
                          0.4444444444444444,
                          "#bd3786"
                        ],
                        [
                          0.5555555555555556,
                          "#d8576b"
                        ],
                        [
                          0.6666666666666666,
                          "#ed7953"
                        ],
                        [
                          0.7777777777777778,
                          "#fb9f3a"
                        ],
                        [
                          0.8888888888888888,
                          "#fdca26"
                        ],
                        [
                          1,
                          "#f0f921"
                        ]
                      ],
                      "sequentialminus": [
                        [
                          0,
                          "#0d0887"
                        ],
                        [
                          0.1111111111111111,
                          "#46039f"
                        ],
                        [
                          0.2222222222222222,
                          "#7201a8"
                        ],
                        [
                          0.3333333333333333,
                          "#9c179e"
                        ],
                        [
                          0.4444444444444444,
                          "#bd3786"
                        ],
                        [
                          0.5555555555555556,
                          "#d8576b"
                        ],
                        [
                          0.6666666666666666,
                          "#ed7953"
                        ],
                        [
                          0.7777777777777778,
                          "#fb9f3a"
                        ],
                        [
                          0.8888888888888888,
                          "#fdca26"
                        ],
                        [
                          1,
                          "#f0f921"
                        ]
                      ]
                    },
                    "colorway": [
                      "#636efa",
                      "#EF553B",
                      "#00cc96",
                      "#ab63fa",
                      "#FFA15A",
                      "#19d3f3",
                      "#FF6692",
                      "#B6E880",
                      "#FF97FF",
                      "#FECB52"
                    ],
                    "font": {
                      "color": "#2a3f5f"
                    },
                    "geo": {
                      "bgcolor": "white",
                      "lakecolor": "white",
                      "landcolor": "white",
                      "showlakes": true,
                      "showland": true,
                      "subunitcolor": "#C8D4E3"
                    },
                    "hoverlabel": {
                      "align": "left"
                    },
                    "hovermode": "closest",
                    "mapbox": {
                      "style": "light"
                    },
                    "paper_bgcolor": "white",
                    "plot_bgcolor": "white",
                    "polar": {
                      "angularaxis": {
                        "gridcolor": "#EBF0F8",
                        "linecolor": "#EBF0F8",
                        "ticks": ""
                      },
                      "bgcolor": "white",
                      "radialaxis": {
                        "gridcolor": "#EBF0F8",
                        "linecolor": "#EBF0F8",
                        "ticks": ""
                      }
                    },
                    "scene": {
                      "xaxis": {
                        "backgroundcolor": "white",
                        "gridcolor": "#DFE8F3",
                        "gridwidth": 2,
                        "linecolor": "#EBF0F8",
                        "showbackground": true,
                        "ticks": "",
                        "zerolinecolor": "#EBF0F8"
                      },
                      "yaxis": {
                        "backgroundcolor": "white",
                        "gridcolor": "#DFE8F3",
                        "gridwidth": 2,
                        "linecolor": "#EBF0F8",
                        "showbackground": true,
                        "ticks": "",
                        "zerolinecolor": "#EBF0F8"
                      },
                      "zaxis": {
                        "backgroundcolor": "white",
                        "gridcolor": "#DFE8F3",
                        "gridwidth": 2,
                        "linecolor": "#EBF0F8",
                        "showbackground": true,
                        "ticks": "",
                        "zerolinecolor": "#EBF0F8"
                      }
                    },
                    "shapedefaults": {
                      "line": {
                        "color": "#2a3f5f"
                      }
                    },
                    "ternary": {
                      "aaxis": {
                        "gridcolor": "#DFE8F3",
                        "linecolor": "#A2B1C6",
                        "ticks": ""
                      },
                      "baxis": {
                        "gridcolor": "#DFE8F3",
                        "linecolor": "#A2B1C6",
                        "ticks": ""
                      },
                      "bgcolor": "white",
                      "caxis": {
                        "gridcolor": "#DFE8F3",
                        "linecolor": "#A2B1C6",
                        "ticks": ""
                      }
                    },
                    "title": {
                      "x": 0.05
                    },
                    "xaxis": {
                      "automargin": true,
                      "gridcolor": "#EBF0F8",
                      "linecolor": "#EBF0F8",
                      "ticks": "",
                      "title": {
                        "standoff": 15
                      },
                      "zerolinecolor": "#EBF0F8",
                      "zerolinewidth": 2
                    },
                    "yaxis": {
                      "automargin": true,
                      "gridcolor": "#EBF0F8",
                      "linecolor": "#EBF0F8",
                      "ticks": "",
                      "title": {
                        "standoff": 15
                      },
                      "zerolinecolor": "#EBF0F8",
                      "zerolinewidth": 2
                    }
                  }
                },
                "title": {
                  "text": "Ventas por Cliente: Agrupación Mensual vs Trimestral<br>Top 5 clientes en ventas"
                },
                "width": 1200,
                "xaxis": {
                  "anchor": "y",
                  "domain": [
                    0,
                    0.16399999999999998
                  ],
                  "title": {
                    "text": "Fecha"
                  }
                },
                "xaxis10": {
                  "anchor": "y10",
                  "domain": [
                    0.816,
                    0.98
                  ],
                  "title": {
                    "text": "Fecha"
                  }
                },
                "xaxis2": {
                  "anchor": "y2",
                  "domain": [
                    0.204,
                    0.368
                  ],
                  "title": {
                    "text": "Fecha"
                  }
                },
                "xaxis3": {
                  "anchor": "y3",
                  "domain": [
                    0.408,
                    0.572
                  ],
                  "title": {
                    "text": "Fecha"
                  }
                },
                "xaxis4": {
                  "anchor": "y4",
                  "domain": [
                    0.6119999999999999,
                    0.7759999999999998
                  ],
                  "title": {
                    "text": "Fecha"
                  }
                },
                "xaxis5": {
                  "anchor": "y5",
                  "domain": [
                    0.816,
                    0.98
                  ],
                  "title": {
                    "text": "Fecha"
                  }
                },
                "xaxis6": {
                  "anchor": "y6",
                  "domain": [
                    0,
                    0.16399999999999998
                  ],
                  "title": {
                    "text": "Fecha"
                  }
                },
                "xaxis7": {
                  "anchor": "y7",
                  "domain": [
                    0.204,
                    0.368
                  ],
                  "title": {
                    "text": "Fecha"
                  }
                },
                "xaxis8": {
                  "anchor": "y8",
                  "domain": [
                    0.408,
                    0.572
                  ],
                  "title": {
                    "text": "Fecha"
                  }
                },
                "xaxis9": {
                  "anchor": "y9",
                  "domain": [
                    0.6119999999999999,
                    0.7759999999999998
                  ],
                  "title": {
                    "text": "Fecha"
                  }
                },
                "yaxis": {
                  "anchor": "x",
                  "domain": [
                    0.575,
                    1
                  ],
                  "title": {
                    "text": "Cantidad vendida"
                  }
                },
                "yaxis10": {
                  "anchor": "x10",
                  "domain": [
                    0,
                    0.425
                  ],
                  "matches": "y6",
                  "showticklabels": false
                },
                "yaxis2": {
                  "anchor": "x2",
                  "domain": [
                    0.575,
                    1
                  ],
                  "matches": "y",
                  "showticklabels": false
                },
                "yaxis3": {
                  "anchor": "x3",
                  "domain": [
                    0.575,
                    1
                  ],
                  "matches": "y",
                  "showticklabels": false
                },
                "yaxis4": {
                  "anchor": "x4",
                  "domain": [
                    0.575,
                    1
                  ],
                  "matches": "y",
                  "showticklabels": false
                },
                "yaxis5": {
                  "anchor": "x5",
                  "domain": [
                    0.575,
                    1
                  ],
                  "matches": "y",
                  "showticklabels": false
                },
                "yaxis6": {
                  "anchor": "x6",
                  "domain": [
                    0,
                    0.425
                  ],
                  "title": {
                    "text": "Cantidad vendida"
                  }
                },
                "yaxis7": {
                  "anchor": "x7",
                  "domain": [
                    0,
                    0.425
                  ],
                  "matches": "y6",
                  "showticklabels": false
                },
                "yaxis8": {
                  "anchor": "x8",
                  "domain": [
                    0,
                    0.425
                  ],
                  "matches": "y6",
                  "showticklabels": false
                },
                "yaxis9": {
                  "anchor": "x9",
                  "domain": [
                    0,
                    0.425
                  ],
                  "matches": "y6",
                  "showticklabels": false
                }
              }
            }
          },
          "metadata": {},
          "output_type": "display_data"
        }
      ],
      "source": [
        "# Granularidad para los 5 clientes con más ventas\n",
        "fig = make_subplots(\n",
        "    rows=2, cols=5,\n",
        "    subplot_titles=[f\"Cliente {c}\" for c in top_clientes_canti['cliente'].head(5)],\n",
        "    vertical_spacing=0.15,\n",
        "    shared_yaxes=True,\n",
        "    row_titles=['Mensual', 'Trimestral']\n",
        ")\n",
        "\n",
        "def agregar_traza(df, cliente, freq, row, col):\n",
        "    serie = df[df['cliente'] == cliente].groupby(df['fecha_dt'].dt.to_period(freq))['canti_venta'].sum()\n",
        "    fig.add_trace(\n",
        "        go.Scatter(\n",
        "            x=serie.index.to_timestamp(),\n",
        "            y=serie.values,\n",
        "            mode='lines+markers',\n",
        "            showlegend=False\n",
        "        ),\n",
        "        row=row, col=col\n",
        "    )\n",
        "\n",
        "for row, freq in zip([1, 2], ['M', 'Q']):\n",
        "    for col, cliente in enumerate(top_clientes_canti['cliente'].head(5), start=1):\n",
        "        agregar_traza(top_df, cliente, freq, row, col)\n",
        "\n",
        "fig.update_layout(\n",
        "    height=600, width=1200,\n",
        "    title_text='Ventas por Cliente: Agrupación Mensual vs Trimestral<br>Top 5 clientes en ventas',\n",
        "    template='plotly_white',\n",
        "    margin=dict(t=130),\n",
        ")\n",
        "\n",
        "\n",
        "for row in [1, 2]:\n",
        "    for col in range(1, 6):\n",
        "        fig.update_xaxes(title_text='Fecha', row=row, col=col)\n",
        "fig.update_yaxes(title_text='Cantidad vendida', row=1, col=1)\n",
        "fig.update_yaxes(title_text='Cantidad vendida', row=2, col=1)\n",
        "\n",
        "fig.show()"
      ]
    },
    {
      "cell_type": "markdown",
      "id": "5015806a",
      "metadata": {
        "id": "5015806a"
      },
      "source": [
        "- En clientes con mayor volumen de ventas, la granularidad trimestral capta bien la tendencia general y reduce outliers. En clientes con menor frecuencia de compra, esta diferencia sería probablemente más marcada.\n",
        "\n",
        "- Se podrían considerar dos enfoques:\n",
        "\n",
        "    - Usar directamente una **granularidad trimestral**.\n",
        "\n",
        "    - Aplicar **suavizadores** más sofisticados **sobre la serie mensual** para intentar preservar mayor nivel de detalle."
      ]
    },
    {
      "cell_type": "code",
      "execution_count": 46,
      "id": "Bx7MqDFpF1Cf",
      "metadata": {
        "colab": {
          "base_uri": "https://localhost:8080/",
          "height": 600
        },
        "id": "Bx7MqDFpF1Cf",
        "outputId": "d56b5d35-4051-438f-ca91-ad22a5a921a1"
      },
      "outputs": [
        {
          "data": {
            "image/png": "[encoded data removed]",
            "text/plain": [
              "<Figure size 1200x600 with 1 Axes>"
            ]
          },
          "metadata": {},
          "output_type": "display_data"
        }
      ],
      "source": [
        "# Selección aleatoria de 10 clientes\n",
        "clientes_sample = filtered_df['cliente'].drop_duplicates().sample(10, random_state=1)\n",
        "df_sample = filtered_df[filtered_df['cliente'].isin(clientes_sample)]\n",
        "\n",
        "# Calcular inicio y fin del período activo de cada cliente\n",
        "periodos = df_sample.groupby('cliente')['fecha'].agg(['min', 'max']).reset_index()\n",
        "periodos.columns = ['cliente', 'inicio', 'fin']\n",
        "\n",
        "# Gráfico de líneas horizontales por cliente\n",
        "fig, ax = plt.subplots(figsize=(12, 6))\n",
        "\n",
        "for i, row in periodos.iterrows():\n",
        "    ax.hlines(y=i, xmin=row['inicio'], xmax=row['fin'], linewidth=6, label=row['cliente'])\n",
        "\n",
        "# Configurar etiquetas y estilo\n",
        "ax.set_yticks(range(len(periodos)))\n",
        "ax.set_yticklabels(periodos['cliente'])\n",
        "ax.set_xlabel(\"Fecha\")\n",
        "ax.set_title(\"Período activo de compra por cliente (líneas continuas)\")\n",
        "plt.grid(True)\n",
        "plt.tight_layout()\n",
        "plt.show()"
      ]
    },
    {
      "cell_type": "markdown",
      "id": "3931e7c1",
      "metadata": {
        "id": "3931e7c1"
      },
      "source": [
        "🔍 **Observaciones**:\n",
        "\n",
        "- De los 10 clientes seleccionados al azar, se observa que algunos tienen actividad casi continua desde el inicio hasta el final del rango temporal, mientras que otros presentan períodos activos mucho más cortos.\n",
        "\n",
        "- No todos los clientes tienen registros en el mismo rango de fechas, ya que algunos comenzaron a comprar más tarde. Esto debe considerarse al aplicar modelos de predicción. Según el modelo, hay varias estrategias posibles:\n",
        "\n",
        "    - **Imputar con 0**: asume que el cliente no realizaba compras antes de su primera aparición.\n",
        "\n",
        "    - **Usar NaN** si el modelo lo permite, refleja ausencia de información previa.\n",
        "\n",
        "    - **Ajustar la ventana temporal**: entrenar cada cliente solo desde su primer registro si el modelo admite secuencias de longitud variable."
      ]
    },
    {
      "cell_type": "code",
      "execution_count": 47,
      "id": "f8dd1c62",
      "metadata": {
        "colab": {
          "base_uri": "https://localhost:8080/",
          "height": 241
        },
        "id": "f8dd1c62",
        "outputId": "b52b439f-6022-4df4-a80f-d28c2769b5d8"
      },
      "outputs": [
        {
          "name": "stdout",
          "output_type": "stream",
          "text": [
            "Análisis de granularidad para diferentes periodos de tiempo y su % de series de tiempo vacias\n",
            "--------------------------------------------------------------------------------------------\n"
          ]
        },
        {
          "data": {
            "text/html": [
              "<div>\n",
              "<style scoped>\n",
              "    .dataframe tbody tr th:only-of-type {\n",
              "        vertical-align: middle;\n",
              "    }\n",
              "\n",
              "    .dataframe tbody tr th {\n",
              "        vertical-align: top;\n",
              "    }\n",
              "\n",
              "    .dataframe thead th {\n",
              "        text-align: right;\n",
              "    }\n",
              "</style>\n",
              "<table border=\"1\" class=\"dataframe\">\n",
              "  <thead>\n",
              "    <tr style=\"text-align: right;\">\n",
              "      <th></th>\n",
              "      <th>granularidad</th>\n",
              "      <th>periodos_totales</th>\n",
              "      <th>porcentaje_vacio_ajustado</th>\n",
              "      <th>porcentaje_vacio_completo</th>\n",
              "    </tr>\n",
              "  </thead>\n",
              "  <tbody>\n",
              "    <tr>\n",
              "      <th>0</th>\n",
              "      <td>D</td>\n",
              "      <td>909</td>\n",
              "      <td>86.84</td>\n",
              "      <td>92.87</td>\n",
              "    </tr>\n",
              "    <tr>\n",
              "      <th>1</th>\n",
              "      <td>W</td>\n",
              "      <td>130</td>\n",
              "      <td>39.95</td>\n",
              "      <td>59.74</td>\n",
              "    </tr>\n",
              "    <tr>\n",
              "      <th>2</th>\n",
              "      <td>M</td>\n",
              "      <td>30</td>\n",
              "      <td>6.82</td>\n",
              "      <td>36.10</td>\n",
              "    </tr>\n",
              "    <tr>\n",
              "      <th>3</th>\n",
              "      <td>Q</td>\n",
              "      <td>10</td>\n",
              "      <td>0.93</td>\n",
              "      <td>29.21</td>\n",
              "    </tr>\n",
              "    <tr>\n",
              "      <th>4</th>\n",
              "      <td>Y</td>\n",
              "      <td>3</td>\n",
              "      <td>0.00</td>\n",
              "      <td>21.19</td>\n",
              "    </tr>\n",
              "  </tbody>\n",
              "</table>\n",
              "</div>"
            ],
            "text/plain": [
              "  granularidad  periodos_totales  porcentaje_vacio_ajustado  \\\n",
              "0            D               909                      86.84   \n",
              "1            W               130                      39.95   \n",
              "2            M                30                       6.82   \n",
              "3            Q                10                       0.93   \n",
              "4            Y                 3                       0.00   \n",
              "\n",
              "   porcentaje_vacio_completo  \n",
              "0                      92.87  \n",
              "1                      59.74  \n",
              "2                      36.10  \n",
              "3                      29.21  \n",
              "4                      21.19  "
            ]
          },
          "execution_count": 47,
          "metadata": {},
          "output_type": "execute_result"
        }
      ],
      "source": [
        "print('Análisis de granularidad para diferentes periodos de tiempo y su % de series de tiempo vacias')\n",
        "print('--------------------------------------------------------------------------------------------')\n",
        "def evaluar_granularidad(df, col_fecha, col_cliente, granularidades):\n",
        "    resultados = []\n",
        "\n",
        "    for gr in granularidades:\n",
        "        # Convertir fechas al período correspondiente\n",
        "        df['periodo'] = df[col_fecha].dt.to_period(gr)\n",
        "\n",
        "        # Calcular rango global del dataset\n",
        "        periodo_min = df['periodo'].min()\n",
        "        periodo_max = df['periodo'].max()\n",
        "        todos_los_periodos = pd.period_range(start=periodo_min, end=periodo_max, freq=gr)\n",
        "\n",
        "        # Calcular rango de actividad por cliente\n",
        "        rangos = df.groupby(col_cliente)['periodo'].agg(['min', 'max'])\n",
        "\n",
        "        # Crear matriz cliente x periodo\n",
        "        matriz = df.groupby([col_cliente, 'periodo']).size().unstack(fill_value=0)\n",
        "\n",
        "        # --- Porcentaje solo períodos activos por cliente ---\n",
        "        total_celdas_ajustadas = 0\n",
        "        celdas_activas_ajustadas = 0\n",
        "\n",
        "        for cliente in matriz.index:\n",
        "            inicio = rangos.loc[cliente, 'min']\n",
        "            fin = rangos.loc[cliente, 'max']\n",
        "\n",
        "            periodos_cliente = pd.period_range(start=inicio, end=fin, freq=gr)\n",
        "            periodos_presentes = [p for p in periodos_cliente if p in matriz.columns]\n",
        "\n",
        "            total_celdas_ajustadas += len(periodos_presentes)\n",
        "            celdas_activas_ajustadas += matriz.loc[cliente, periodos_presentes].gt(0).sum()\n",
        "\n",
        "        porcentaje_vacio_ajustado = (total_celdas_ajustadas - celdas_activas_ajustadas) / total_celdas_ajustadas * 100\n",
        "\n",
        "        # --- Porcentaje considerando todo el rango del dataset\n",
        "        total_celdas_completas = len(matriz.index) * len(todos_los_periodos)\n",
        "        celdas_activas_completas = (matriz > 0).sum().sum()\n",
        "        porcentaje_vacio_completo = (total_celdas_completas - celdas_activas_completas) / total_celdas_completas * 100\n",
        "\n",
        "        # Guardar resultados\n",
        "        resultados.append({\n",
        "            'granularidad': gr,\n",
        "            'periodos_totales': len(todos_los_periodos),\n",
        "            'porcentaje_vacio_ajustado': round(porcentaje_vacio_ajustado, 2),\n",
        "            'porcentaje_vacio_completo': round(porcentaje_vacio_completo, 2)\n",
        "        })\n",
        "\n",
        "    return pd.DataFrame(resultados)\n",
        "\n",
        "granularidades = ['D', 'W', 'M', 'Q', 'Y']  # Día, Semana, Mes, Trimestre, Año\n",
        "resultado = evaluar_granularidad(filtered_df, 'fecha', 'cliente', granularidades)\n",
        "resultado"
      ]
    },
    {
      "cell_type": "markdown",
      "id": "3d54af26",
      "metadata": {
        "id": "3d54af26"
      },
      "source": [
        "🔍 **Observaciones**:\n",
        "- El porcentaje ajustado calcula la cantidad de series temporales incompletas considerando únicamente el intervalo de actividad de cada cliente, es decir, desde su primera hasta su última compra.\n",
        "\n",
        "- En cambio, el porcentaje completo se calcula sobre todo el rango temporal del dataset, sin tener en cuenta cuándo comenzó a comprar cada cliente.\n",
        "\n",
        "- En ambos casos, tanto la granularidad diaria como la semanal presentan un alto porcentaje de series temporales incompletas. Al usar una granularidad mensual, el porcentaje disminuye considerablemente y se estabiliza en valores similares a la granularidad trimestral."
      ]
    },
    {
      "cell_type": "markdown",
      "id": "5e3fbe67",
      "metadata": {
        "id": "5e3fbe67"
      },
      "source": [
        "### 4. 💡 Observaciones para la limpieza y curación de datos"
      ]
    },
    {
      "cell_type": "markdown",
      "id": "42fa7605",
      "metadata": {
        "id": "42fa7605"
      },
      "source": [
        "Algunas observaciones clave para la etapa de curación:\n",
        "\n",
        "- **Imputar** valores faltantes en `depo` y `factu_nume` con las relaciones entre columnas encontradas.\n",
        "\n",
        "- **Estandarizar** descripciones y códigos de productos para mejorar la calidad de los datos, esto podría mejorar el rendimiento del modelo.\n",
        "\n",
        "- **Ajustar** precios según el índice de inflación.\n",
        "\n",
        "- **Tratar** series temporales incompletas, tanto por valores faltantes intermedios como por inicio tardío de actividad del cliente."
      ]
    }
  ],
  "metadata": {
    "colab": {
      "collapsed_sections": [
        "7651f028"
      ],
      "provenance": []
    },
    "kernelspec": {
      "display_name": ".venv",
      "language": "python",
      "name": "python3"
    },
    "language_info": {
      "codemirror_mode": {
        "name": "ipython",
        "version": 3
      },
      "file_extension": ".py",
      "mimetype": "text/x-python",
      "name": "python",
      "nbconvert_exporter": "python",
      "pygments_lexer": "ipython3",
      "version": "3.12.3"
    }
  },
  "nbformat": 4,
  "nbformat_minor": 5
}
